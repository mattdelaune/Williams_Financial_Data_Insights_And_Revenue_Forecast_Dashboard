{
 "cells": [
  {
   "cell_type": "markdown",
   "metadata": {
    "application/vnd.databricks.v1+cell": {
     "cellMetadata": {
      "byteLimit": 2048000,
      "rowLimit": 10000
     },
     "inputWidgets": {},
     "nuid": "96816ed7-b08a-4ca3-abb9-f99880c3535d",
     "showTitle": false,
     "title": ""
    }
   },
   "source": [
    "\n",
    "# Williams FinOps Optimization: ML Model Development\n",
    "\n",
    "This notebook walks through the complete process of building a predictive model to estimate future revenues for Williams FinOps. The main steps include loading the dataset, preparing and training a simple linear regression model, and then visualizing the results to evaluate model performance. We start by using the entire dataset for training, followed by splitting the data to assess model accuracy. Finally, we add predictions back to the original dataset for easy analysis in downstream applications, like Power BI. This flow ensures that we make the best use of available data while also setting up meaningful visualizations that could assist in decision-making.\n"
   ]
  },
  {
   "cell_type": "markdown",
   "metadata": {
    "application/vnd.databricks.v1+cell": {
     "cellMetadata": {
      "byteLimit": 2048000,
      "rowLimit": 10000
     },
     "inputWidgets": {},
     "nuid": "94aaa0bf-354b-442e-be9c-3628090df405",
     "showTitle": false,
     "title": ""
    }
   },
   "source": [
    "## Notebook Setup and Data Loading\n",
    "\n",
    "In this section, we initialize the Spark session and load the cleaned, scaled dataset prepared during the EDA phase. The dataset is stored as a Spark table named `williams_finops_scaled_data`. We then convert it to a Pandas DataFrame for further machine learning analysis using scikit-learn.\n",
    "\n",
    "This approach ensures easy integration with Power BI and facilitates more flexible data manipulation and modeling."
   ]
  },
  {
   "cell_type": "code",
   "execution_count": 0,
   "metadata": {
    "application/vnd.databricks.v1+cell": {
     "cellMetadata": {
      "byteLimit": 2048000,
      "rowLimit": 10000
     },
     "inputWidgets": {},
     "nuid": "6482be4c-f067-47c9-b0ac-35c938b94601",
     "showTitle": true,
     "title": "Notebook Setup and Data Loading"
    }
   },
   "outputs": [],
   "source": [
    "# Load the necessary libraries\n",
    "import pandas as pd\n",
    "import numpy as np\n",
    "from sklearn.model_selection import train_test_split\n",
    "from sklearn.linear_model import LinearRegression\n",
    "from sklearn.metrics import mean_squared_error, r2_score\n",
    "import matplotlib.pyplot as plt\n",
    "\n",
    "# Start Spark session\n",
    "spark = SparkSession.builder.getOrCreate()\n",
    "\n",
    "# Load the scaled Spark DataFrame that we saved during EDA\n",
    "df_ml = spark.sql(\"SELECT * FROM williams_finops_scaled_data\")\n",
    "\n",
    "# Convert Spark DataFrame to Pandas for easier manipulation in scikit-learn\n",
    "df_ml_pandas = df_ml.toPandas()\n"
   ]
  },
  {
   "cell_type": "markdown",
   "metadata": {
    "application/vnd.databricks.v1+cell": {
     "cellMetadata": {
      "byteLimit": 2048000,
      "rowLimit": 10000
     },
     "inputWidgets": {},
     "nuid": "2cb17d8a-2138-4616-a4dd-b29b3c263b66",
     "showTitle": false,
     "title": ""
    }
   },
   "source": [
    "## Train Model on Entire Dataset"
   ]
  },
  {
   "cell_type": "code",
   "execution_count": 0,
   "metadata": {
    "application/vnd.databricks.v1+cell": {
     "cellMetadata": {
      "byteLimit": 2048000,
      "rowLimit": 10000
     },
     "inputWidgets": {},
     "nuid": "12e3b7f2-c97e-40dd-b9fa-0f82dc6d3e77",
     "showTitle": true,
     "title": "Defining Target Variable and Features"
    }
   },
   "outputs": [
    {
     "output_type": "display_data",
     "data": {
      "text/html": [
       "<style scoped>\n",
       "  .table-result-container {\n",
       "    max-height: 300px;\n",
       "    overflow: auto;\n",
       "  }\n",
       "  table, th, td {\n",
       "    border: 1px solid black;\n",
       "    border-collapse: collapse;\n",
       "  }\n",
       "  th, td {\n",
       "    padding: 5px;\n",
       "  }\n",
       "  th {\n",
       "    text-align: left;\n",
       "  }\n",
       "</style><div class='table-result-container'><table class='table-result'><thead style='background-color: white'><tr><th>Total_revenues</th><th>Depreciation_and_amortization_expenses</th><th>Interest_expense</th><th>Net_income_loss</th><th>YoY_Revenue_Growth</th><th>YoY_Net_Income_Growth</th><th>Depreciation_Percent_Revenue</th><th>Interest_Expense_Percent_Revenue</th><th>Revenue_Lag_1</th><th>Net_Income_Lag_1</th><th>Revenue_Rolling_Avg_3Y</th><th>Profit_Margin_Lag_1</th><th>Predicted_Revenues</th></tr></thead><tbody><tr><td>0.03778128430272551</td><td>1.2392742933410297</td><td>-0.40824829046386296</td><td>1.1322186915590091</td><td>0.3239811392994783</td><td>0.6219509228095992</td><td>1.239003766026342</td><td>-0.40824829046386296</td><td>-2.4494294581490776</td><td>-2.119858521601519</td><td>0.4064175806077414</td><td>-2.1137133152146377</td><td>0.03778128430272507</td></tr><tr><td>0.03778128430272551</td><td>-0.8644199569096855</td><td>-0.40824829046386296</td><td>1.1322186915590091</td><td>0.3239811392994783</td><td>0.6219509228095992</td><td>-0.864971912871599</td><td>-0.40824829046386296</td><td>0.4006603019738179</td><td>0.8944864278418221</td><td>-2.448687368523556</td><td>0.898116014298968</td><td>0.03778128430272553</td></tr><tr><td>0.03778128430272551</td><td>-0.8644199569096855</td><td>-0.40824829046386296</td><td>1.1322186915590091</td><td>0.3239811392994783</td><td>0.6219509228095992</td><td>-0.864971912871599</td><td>-0.40824829046386296</td><td>0.4006603019738179</td><td>0.8944864278418221</td><td>0.39884643544270687</td><td>0.898116014298968</td><td>0.037781284302725364</td></tr><tr><td>0.7350177127985357</td><td>1.1947896263848412</td><td>-0.40824829046386296</td><td>-0.6991850254059968</td><td>0.7967726843359316</td><td>-1.8944346425985956</td><td>1.1652206393074998</td><td>-0.40824829046386296</td><td>0.4006603019738179</td><td>0.8944864278418221</td><td>0.41398872577277457</td><td>0.898116014298968</td><td>0.7350177127985354</td></tr><tr><td>0.7350177127985357</td><td>-0.8644199569096855</td><td>2.4494897427831783</td><td>-0.6991850254059968</td><td>0.3239811392994783</td><td>0.6219509228095992</td><td>-0.864971912871599</td><td>2.449489742783178</td><td>0.41581618407587423</td><td>-0.1878669206413153</td><td>0.4291310161028408</td><td>-0.19354490922742154</td><td>0.7350177127985358</td></tr><tr><td>0.7350177127985357</td><td>-0.8644199569096855</td><td>-0.40824829046386296</td><td>-0.6991850254059968</td><td>0.3239811392994783</td><td>0.6219509228095992</td><td>-0.864971912871599</td><td>-0.40824829046386296</td><td>0.41581618407587423</td><td>-0.1878669206413153</td><td>0.4442733064329085</td><td>-0.19354490922742154</td><td>0.7350177127985356</td></tr><tr><td>-2.3183969913038056</td><td>1.0236159079128722</td><td>-0.40824829046386296</td><td>-1.2991009984590363</td><td>-2.4166783808333236</td><td>-1.2153199714494</td><td>1.0556632461525548</td><td>-0.40824829046386296</td><td>0.41581618407587423</td><td>-0.1878669206413153</td><td>0.3560303041645862</td><td>-0.19354490922742154</td><td>-2.318396991303805</td></tr></tbody></table></div>"
      ]
     },
     "metadata": {
      "application/vnd.databricks.v1+output": {
       "addedWidgets": {},
       "aggData": [],
       "aggError": "",
       "aggOverflow": false,
       "aggSchema": [],
       "aggSeriesLimitReached": false,
       "aggType": "",
       "arguments": {},
       "columnCustomDisplayInfos": {},
       "data": [
        [
         0.03778128430272551,
         1.2392742933410297,
         -0.40824829046386296,
         1.1322186915590091,
         0.3239811392994783,
         0.6219509228095992,
         1.239003766026342,
         -0.40824829046386296,
         -2.4494294581490776,
         -2.119858521601519,
         0.4064175806077414,
         -2.1137133152146377,
         0.03778128430272507
        ],
        [
         0.03778128430272551,
         -0.8644199569096855,
         -0.40824829046386296,
         1.1322186915590091,
         0.3239811392994783,
         0.6219509228095992,
         -0.864971912871599,
         -0.40824829046386296,
         0.4006603019738179,
         0.8944864278418221,
         -2.448687368523556,
         0.898116014298968,
         0.03778128430272553
        ],
        [
         0.03778128430272551,
         -0.8644199569096855,
         -0.40824829046386296,
         1.1322186915590091,
         0.3239811392994783,
         0.6219509228095992,
         -0.864971912871599,
         -0.40824829046386296,
         0.4006603019738179,
         0.8944864278418221,
         0.39884643544270687,
         0.898116014298968,
         0.037781284302725364
        ],
        [
         0.7350177127985357,
         1.1947896263848412,
         -0.40824829046386296,
         -0.6991850254059968,
         0.7967726843359316,
         -1.8944346425985956,
         1.1652206393074998,
         -0.40824829046386296,
         0.4006603019738179,
         0.8944864278418221,
         0.41398872577277457,
         0.898116014298968,
         0.7350177127985354
        ],
        [
         0.7350177127985357,
         -0.8644199569096855,
         2.4494897427831783,
         -0.6991850254059968,
         0.3239811392994783,
         0.6219509228095992,
         -0.864971912871599,
         2.449489742783178,
         0.41581618407587423,
         -0.1878669206413153,
         0.4291310161028408,
         -0.19354490922742154,
         0.7350177127985358
        ],
        [
         0.7350177127985357,
         -0.8644199569096855,
         -0.40824829046386296,
         -0.6991850254059968,
         0.3239811392994783,
         0.6219509228095992,
         -0.864971912871599,
         -0.40824829046386296,
         0.41581618407587423,
         -0.1878669206413153,
         0.4442733064329085,
         -0.19354490922742154,
         0.7350177127985356
        ],
        [
         -2.3183969913038056,
         1.0236159079128722,
         -0.40824829046386296,
         -1.2991009984590363,
         -2.4166783808333236,
         -1.2153199714494,
         1.0556632461525548,
         -0.40824829046386296,
         0.41581618407587423,
         -0.1878669206413153,
         0.3560303041645862,
         -0.19354490922742154,
         -2.318396991303805
        ]
       ],
       "datasetInfos": [],
       "dbfsResultPath": null,
       "isJsonSchema": true,
       "metadata": {},
       "overflow": false,
       "plotOptions": {
        "customPlotOptions": {},
        "displayType": "table",
        "pivotAggregation": null,
        "pivotColumns": null,
        "xColumns": null,
        "yColumns": null
       },
       "removedWidgets": [],
       "schema": [
        {
         "metadata": "{}",
         "name": "Total_revenues",
         "type": "\"double\""
        },
        {
         "metadata": "{}",
         "name": "Depreciation_and_amortization_expenses",
         "type": "\"double\""
        },
        {
         "metadata": "{}",
         "name": "Interest_expense",
         "type": "\"double\""
        },
        {
         "metadata": "{}",
         "name": "Net_income_loss",
         "type": "\"double\""
        },
        {
         "metadata": "{}",
         "name": "YoY_Revenue_Growth",
         "type": "\"double\""
        },
        {
         "metadata": "{}",
         "name": "YoY_Net_Income_Growth",
         "type": "\"double\""
        },
        {
         "metadata": "{}",
         "name": "Depreciation_Percent_Revenue",
         "type": "\"double\""
        },
        {
         "metadata": "{}",
         "name": "Interest_Expense_Percent_Revenue",
         "type": "\"double\""
        },
        {
         "metadata": "{}",
         "name": "Revenue_Lag_1",
         "type": "\"double\""
        },
        {
         "metadata": "{}",
         "name": "Net_Income_Lag_1",
         "type": "\"double\""
        },
        {
         "metadata": "{}",
         "name": "Revenue_Rolling_Avg_3Y",
         "type": "\"double\""
        },
        {
         "metadata": "{}",
         "name": "Profit_Margin_Lag_1",
         "type": "\"double\""
        },
        {
         "metadata": "{}",
         "name": "Predicted_Revenues",
         "type": "\"double\""
        }
       ],
       "type": "table"
      }
     },
     "output_type": "display_data"
    }
   ],
   "source": [
    "# Train Model on Entire Dataset\n",
    "# Use the entire dataset without splitting it for more comprehensive predictions.\n",
    "\n",
    "# Define the target variable and features\n",
    "target = 'Total_revenues'\n",
    "features = [col for col in df_ml_pandas.columns if col != target]\n",
    "\n",
    "# Extract features (X) and target (y)\n",
    "X = df_ml_pandas[features]\n",
    "y = df_ml_pandas[target]\n",
    "\n",
    "# Train model using the entire dataset\n",
    "linear_model = LinearRegression()\n",
    "linear_model.fit(X, y)\n",
    "\n",
    "# Predict using the entire dataset\n",
    "df_ml_pandas['Predicted_Revenues'] = linear_model.predict(X)\n",
    "\n",
    "# Convert the updated Pandas DataFrame back to Spark DataFrame for further usage\n",
    "df_ml_spark_updated = spark.createDataFrame(df_ml_pandas)\n",
    "\n",
    "# Display the updated Spark DataFrame to enable manual download as CSV\n",
    "display(df_ml_spark_updated)\n",
    "\n"
   ]
  },
  {
   "cell_type": "markdown",
   "metadata": {
    "application/vnd.databricks.v1+cell": {
     "cellMetadata": {
      "byteLimit": 2048000,
      "rowLimit": 10000
     },
     "inputWidgets": {},
     "nuid": "91fcf9bb-2475-471e-bb06-13aaec8adca7",
     "showTitle": false,
     "title": ""
    }
   },
   "source": [
    "Here, we build a simple linear regression model using the entire dataset to predict future revenues. We first define which column will serve as the target (Total_revenues) and extract all the other columns as features. Using all the data instead of splitting it helps create more comprehensive predictions. We then train a linear regression model, make predictions, and store those predictions in a new column called Predicted_Revenues. Finally, we convert the updated DataFrame back to a Spark DataFrame so we can use it later within the Databricks environment or download it directly.\n"
   ]
  },
  {
   "cell_type": "markdown",
   "metadata": {
    "application/vnd.databricks.v1+cell": {
     "cellMetadata": {
      "byteLimit": 2048000,
      "rowLimit": 10000
     },
     "inputWidgets": {},
     "nuid": "360999fa-9b81-44ec-a4ed-a07ec8f298a9",
     "showTitle": false,
     "title": ""
    }
   },
   "source": [
    "## Train-Test Split and Evaluation of Model"
   ]
  },
  {
   "cell_type": "code",
   "execution_count": 0,
   "metadata": {
    "application/vnd.databricks.v1+cell": {
     "cellMetadata": {
      "byteLimit": 2048000,
      "rowLimit": 10000
     },
     "inputWidgets": {},
     "nuid": "2c71f783-8cb4-4280-89b6-d3e650bafdcd",
     "showTitle": false,
     "title": ""
    }
   },
   "outputs": [
    {
     "output_type": "stream",
     "name": "stdout",
     "output_type": "stream",
     "text": [
      "Linear Regression Mean Squared Error: 0.8534299166815393\nLinear Regression R-squared: -6.899875325721889\n"
     ]
    }
   ],
   "source": [
    "# Train Linear Regression Model with Train-Test Split\n",
    "# This cell splits the data into training and test sets for evaluation purposes.\n",
    "\n",
    "# Split the dataset into training and testing sets\n",
    "X_train, X_test, y_train, y_test = train_test_split(X, y, test_size=0.3, random_state=42)\n",
    "\n",
    "# Train Linear Regression Model\n",
    "lin_reg = LinearRegression()\n",
    "lin_reg.fit(X_train, y_train)\n",
    "\n",
    "# Predict on the test set\n",
    "y_pred = lin_reg.predict(X_test)\n",
    "\n",
    "# Evaluation metrics for Linear Regression\n",
    "mse = mean_squared_error(y_test, y_pred)\n",
    "r2 = r2_score(y_test, y_pred)\n",
    "\n",
    "# Print evaluation metrics\n",
    "print(f\"Linear Regression Mean Squared Error: {mse}\")\n",
    "print(f\"Linear Regression R-squared: {r2}\")\n"
   ]
  },
  {
   "cell_type": "markdown",
   "metadata": {
    "application/vnd.databricks.v1+cell": {
     "cellMetadata": {
      "byteLimit": 2048000,
      "rowLimit": 10000
     },
     "inputWidgets": {},
     "nuid": "b29a11fc-e877-40d7-a360-6dd2e4db5932",
     "showTitle": false,
     "title": ""
    }
   },
   "source": [
    "To evaluate our model’s performance, we introduce a train-test split here. We split our dataset into training (70%) and testing (30%) to help us understand how well our model generalizes to unseen data. After training the model on the training data, we predict the Total_revenues for the test data and calculate evaluation metrics, such as Mean Squared Error (MSE) and R-squared. These metrics will help us assess the model’s accuracy and identify whether further tuning is needed. The higher the R-squared value, the better our model’s predictions align with the actual values."
   ]
  },
  {
   "cell_type": "markdown",
   "metadata": {
    "application/vnd.databricks.v1+cell": {
     "cellMetadata": {
      "byteLimit": 2048000,
      "rowLimit": 10000
     },
     "inputWidgets": {},
     "nuid": "7243ae3b-c5fb-477f-a7c1-766725df23d3",
     "showTitle": false,
     "title": ""
    }
   },
   "source": [
    "## Visualization of Actual vs Predicted Revenues"
   ]
  },
  {
   "cell_type": "code",
   "execution_count": 0,
   "metadata": {
    "application/vnd.databricks.v1+cell": {
     "cellMetadata": {
      "byteLimit": 2048000,
      "rowLimit": 10000
     },
     "inputWidgets": {},
     "nuid": "68b49b07-e743-459d-a2d2-ad8421db6125",
     "showTitle": true,
     "title": "XGBoost Model Training and Evaluation"
    }
   },
   "outputs": [
    {
     "output_type": "display_data",
     "data": {
      "image/png": "[encoded data removed]"
     },
     "metadata": {
      "application/vnd.databricks.v1+output": {
       "addedWidgets": {},
       "arguments": {},
       "data": "data:image/png;base64,iVBORw0KGgoAAAANSUhEUgAAAnAAAAGDCAYAAACr/S2JAAAAOXRFWHRTb2Z0d2FyZQBNYXRwbG90bGliIHZlcnNpb24zLjUuMSwgaHR0cHM6Ly9tYXRwbG90bGliLm9yZy/YYfK9AAAACXBIWXMAAAsTAAALEwEAmpwYAABAsElEQVR4nO3deZyVdfn/8debTTARRBCRXXEjF7RxAULNFfvlUq6kKam5pFnapmWbLV+zxRbTJC0tTTTLos19K8BlMDckFbcAEVFWlZ3r98fnHucwzpw5yJxzz5l5Px+P85h7v6+5z5mZaz6rIgIzMzMzqx4d8g7AzMzMzNaPEzgzMzOzKuMEzszMzKzKOIEzMzMzqzJO4MzMzMyqjBM4MzMzsyrjBM5sA0j6pqTr847jvZJ0raTvZMtjJD1TofuGpGGVuFcT939J0oF53b81kzRZ0m4lHDdd0n7lj6htk/QVSVe3wHV2kTSlJWKy6uAEzqqapPskLZS0UYnHj5f073LH1ZKyZGOZpDclzcuSrk1a+j4R8a+I2L6EeMr2DLOk4M3stUbS8oL1rzRxzpAsIezUQjFcK2llds8Fku6UtENLXLu1k3QYsDQi/pOtN/kPSkS8PyLuq2R8jSl4/+s+Jy9JuiDvuEoVEd+LiNNa4DpPAIuy99DaASdwVrUkDQHGAAEcnm80ZXdYRGwC7A7UABc1PKClEpg8ZUnBJtn3+i/gnLr1iPheBUO5NIuhPzAHuKaC987TmcDv8g6iKc18xntm79nRwNckHVTh+7cGNwBn5B2EVYYTOKtmJwEPAtcCJxfukDRQ0p8kzZf0hqTLJe0I/BIYmf2nvig79j5JpxWcu04Jk6SfSpolaYmkaZLGlBKcpBmSPlKw3imLZ3dJXSVdn8W2SNIjkvo2d82ImAP8E9gpu2ZIOlvSc8Bz2baPSHosu+4USbsUxLCbpEclLZV0E9C1YN9+kma/x2e4kaQfSvpfVkr4S0ndCq71RUlzJb0i6ZRSnl+DZ9lB0kWSXpb0mqTfSuqR7X4g+7ooi2mkpG0k3ZPF/bqkGyT1XN/7RsQy4GZgREEsW0n6Y/ZcXpR0bsH2ZZJ6FRy7W3b/ztn6KdnnYqGk2yUNLjg2JJ0p6bnsvfuFJGX71ikJa1jqKKmHpGuyZzxH0nckdcz2DZN0v6TFWSw3NfGMuwD7A/eX8mxUUA2dxXdz9r4sVSpJrWnumWX79pQ0Nfue52afsy4Nnss6n/FiIqIWmM6671mx536wpGey53NF9qxOy/aNV6pSvkzSG8A3i33WJfWW9Lfse1kg6V+SOmT7vpy9N0uz+x1Q8OwK39vDs+e3SOl3044NnvkXJD2RxXuTpHd+hoH7gANUYo2EVTcncFbNTiL9x3kDcIiyBCj7w/U34GVgCKkUZWJEzCCVMEzNSnR6lnifR0h/DHoBvwf+0OCXZlNuBMYVrB8CvB4Rj5ISzh7AQGDzLK5lzV1Q0kDgw8B/CjYfCewFDFdqu/Rr0n/hmwNXAZOyPzpdgD+TSlh6AX8AjmriPuv7DC8BtiM9p2HZ8V/PrjUW+AJwELAt8F7ano3PXh8CtgY2AS7P9u2Tfe2ZxTQVEPB/wFbAjqTn/M31vamk95Hew5nZegfgr8DjpO/xAOBzkg6JiFeAqaz7TD8O3BIRqyQdAXwF+BjQh1TCeGODW34E2APYBTiW9JkpxbXAatKz3w04GKj7p+TbwB3AZsAA4OdNXGNbYG1EzG5if3MOByYCPYFJZO9PsWeWnbcGOA/oDYzM9n+6wbWPJPuMNxeEpL1J/+DUvWdNPndJvYFbgAtJPy/PAKMaXHIv4AWgL/BdinzWgc8Ds7P79M3uG5K2B84B9oiI7qT39aVGYt8ui+1z2TX+Afy1MKElfS7GAkNJn5PxdTuyf/BWAc02hbA2ICL88qvqXsAHSb+oemfr/wXOy5ZHAvOBTo2cNx74d4Nt9wGnFTumwfELgV2z5W8C1zdx3DBgKbBxtn4D8PVs+RRgCrBLCd/rS8CbwCJSQnUF0C3bF8D+BcdeCXy7wfnPAPuSEp1XABXsmwJ8J1veD5i9vs+QlCy9BWxTsG0k8GK2/GvgkoJ922VxD2vm+37nfQHuBj5dsG/77P3vREowo7FYC44/EvhPg2d6YBPHXgssz573WuDFuveJ9Mf8fw2OvxD4TbZ8GnBPwXOZBeyTrf8TOLXgvA7A28DggvfygwX7bwYuaOxzVvg9kxKFFXWfiWz/OODebPm3wARgQDPPezTwaoNt69y3kc/lgQXH3VWwbziwrJRn1sh1PwfcWrC+zme8kePrnsUi0j9BAfyQ7HNe7LmT/gmc2uCzPKvgcze+MHaa/6xfDPyFBp9t0u+C10j/vHRu6hkDXwNubhDrHGC/gmd+YsH+S4FfNrjenLrPnF9t++USOKtWJwN3RMTr2frvqa9GHQi8HBGrW+JGWZXFjKzKYhGp5Kx3c+dFxExgBnCYpI1JJRS/z3b/DrgdmKhUrXipsmq2JhwZET0jYnBEfDpS1V6dWQXLg4HPZ9Uvi7J4B5JKorYC5kSk3/KZl5u43/o8wz7AxsC0gnvelm0nu29hjE3ds5itGpz3MvXJy7tI6itpYlZltQS4nhLeswI/jFS6OISUFNSVaAwGtmrwfL9SEMcfSdXL/UgJ81pSiU/duT8tOG8BKSHoX3DfVwuW3yaVNDZnMNAZmFtw7auALbL9X8ru83BWNddUFfZCoHsJ92tKw9i7KlXxFn1mkrbLqh1fzd6r7/Hu92oWzetNel6fJ/0zUvfzVOy5r/PZzH42GpZAFt67uc/6D0glf3dIekFZZ4rsd8HnSMnaa9lnc6tGvod1PucRsTa7//p8RrqTkllr45zAWdXJ2pscC+yb/dJ/lVQFs6ukXUm/8Aap8QbH0ci2t0i/lOtsWXCvMaQ/gMcCm2V/1BeT/gCUoq4a9Qjg6ewXORGxKiK+FRHDSVU2HyGVBrwXhd/TLOC7WbJX99o4Im4E5gL9JRXGPqiJa67PM3ydlOS8v+CePSI1KCe778AS7lnMK6Q/xIXXWA3MayQeSElAADtHxKbAiZT+nr0jIv4HfJaUAHQjPZcXGzzf7hHx4ez4haTqyuNI1acTCxLmWcAZDc7tFhGlDP3Q5Gc0u+4KUml03XU3jYj3ZzG9GhGfioitSFXrV6jxIVxmApLUv5F9G6LoMyOVGv8X2DZ7r77Cu9+rxt7jd4mINRHxY1IJal01bLHnPpdUrQykb75wvZF7F/2sR8TSiPh8RGxN+oft/Lq2bhHx+4j4IOlzHMD3G/kW1vmcZ/EMJJWqNSt777qQSt2tjXMCZ9XoSFK7meGkdigjSO2c/kVKgh4m/WK+RNL7lDoMjM7OnQcMaNCm5DHgY5I2zv6wnVqwrzspUZgPdJL0dWDT9Yh1Iqk90lnUl74h6UOSds7ami0hVQeuXY/rNuVXwJmS9lLyPkn/T1J3Uvus1cC5kjpL+hiwZxPXKfkZZqUEvwIuk7RF9v31L2jjdDMwXtLwrCTyG+/h+7oROE/SUKUhVL4H3JSVEM4nPbutC47vTqp2Xpz9Ufvie7gnABFxJ+kP6+mk57JUqUF6N0kdJe0kaY+CU35P+hweTcF7Tur8caGk98M7HQ+OKTGMx4B9JA1S6rxxYUF8c0lJ448kbarU4WMbSftm9zlGUl1SspCUPLzrsxYRK4G7SNXthTpk73/da30byDf3zLqTfgbeVBqu5az1vH5jLgG+pNRWtdhz/zuws6Qjs39Wzmbd5HgdzX3WlToQDcsSr8Wk31NrJW0vaf/s2S0nJYGN/bzfDPw/SQcolch/npSclzq+276kKvwVJR5vVcwJnFWjk0ntZ/6XlS68GhGvkhpNn0D67/0wUruT/5GqRI7Lzr2H1EPtVUl11a+XAStJicl1pLZqdW4nVZE8S6raWE5p1TnAO39cp5JK2Qp7/21Jajy9hFTNej8tMHxDpB54nyI9i4WkUpXx2b6VpIbc40nVSMcBf2riOmtYv2f45exeD2bVYHeRVTtGxD+Bn2Tnzcy+rq9fk57PA6Q2acuBz2TXf5vUuHxyVq21N/At0pAri0l/pBv9PtfDD0glsZ1IpaUjsjheB64mVavXmUTqEPBqRDxetzEibiWVukzMntFTwKGl3DxLIm8CngCmkTqYFDqJVPLyNOl9vwXol+3bA3hI0ptZbJ+NiBeauNVVwCcabBtHSjjqXs+XEnNB7Gso/sy+QCqtXEpKjhrtJbue/k56Dp8q9tyzJhjHkNqSvUH6p7CWlDQ1pcnPOul9v4v0z8NU4IqIuBfYiJRUvk6qAt2CgiS8TkQ8Qyot/nl27GGkIYRWlvh9n0BKWK0dqGvkaWZmhqTJpPH3/pN3LJWm1GN2NnBClnhVDaXhgq6KiJF5x2KV4QTOzMzaraz68yFS6eIXSdWoWzfoKGTW6rgK1czM2rORpGrhuirLI528WTVwCZyZmZlZlXEJnJmZmVmVcQJnZmZmVmUaG6Szzerdu3cMGTIk7zDMzMzMmjVt2rTXI6JPY/vaVQI3ZMgQamtr8w7DzMzMrFmSmpx60FWoZmZmZlXGCZyZmZlZlXECZ2ZmZlZlnMCZmZmZVRkncGZmZmZVxgmcmZmZWZVxAmdmZmZWZXJN4CSNlfSMpJmSLmhk/2WSHstez0paVLBvTcG+SRUN3MzMzCxHuQ3kK6kj8AvgIGA28IikSRHxdN0xEXFewfGfAXYruMSyiBhRoXDNzMzMWo08S+D2BGZGxAsRsRKYCBxR5PhxwI0ViczMzMysFcszgesPzCpYn51texdJg4GhwD0Fm7tKqpX0oKQjm7qJpNOz42rnz5/fAmGbmZmZ5ataOjEcD9wSEWsKtg2OiBrg48BPJG3T2IkRMSEiaiKipk+fRueDNTMzMyvNvHnw+ut5R5FrAjcHGFiwPiDb1pjjaVB9GhFzsq8vAPexbvs4MzMzs5Yxbx6cfDIMGwZbbglXX513RLkmcI8A20oaKqkLKUl7V29SSTsAmwFTC7ZtJmmjbLk3MBp4uuG5ZmZmZiV780245x749rfh0EPhe99L2zfdFO6+G3beGX7wAzj88HzjJMdeqBGxWtI5wO1AR+DXETFd0sVAbUTUJXPHAxMjIgpO3xG4StJaUhJ6SWHvVTMzM7NmLVmSkjOAgw6Ce++FNWtAgve/H7p2Tfu6dYNZs9L2VkLr5kVtW01NTdTW1uYdhpmZmVXaqlXwxBMweTJMmZK+bropTJ+e9n/1q9ChA4weDXvvDT175hougKRpWXv/d8mtBM7MzMysbBYuhIcfhoMPTiVnZ5wBv/lN2jdwYErUxoyBiLT/u9/NN9715ATOzMzMqt+rr8Ltt9eXsNWVrD3/PGy9NZxyChxyCIwalRK4KucEzszMzKrLihUwbVpK1g4/HLbfHv71Lxg/PlV9jhwJxx+fStm22iqd88EP5hlxi3MCZ2ZmZq3f66/DpZempK22FlauTNt79UoJ3MEHw1NPwY47prZsbZwTODMzM2s91q6FGTPqq0JrauCcc1KP0F/8AkaMgM9+NlWFjhoFW2yRzuvRI73aCSdwZmZmlp81a6Bjx7R83HGpHdvixWm9Tx8YMiQtb7IJLFoEnTvnEWWr4wTOzMzMKmfWrPphPCZPTtWdjzyS9vXsCccem9qujR4N22yz7thrTt7e4QTOzMzMymP16tQubcSItP7pT8OVV6bljTeGvfZadyiPq67KLdRq4wTOzMzMWsaSJfWla1OmwEMPwVtvwf/+l4buOOKI1Mlg1CjYZReXqG0AJ3BmZma2/iLghRdSsrbPPqmt2t/+BieckNq07bprGntt1Kj6WQ0OOSS9bIM5gTMzM7PSLFoEV19dX8L22mtp+xVXwFlnpaE87r4b9twzdTqwsnECZ2ZmZu/22mspSZsyBXbaCU46KW3/0pfSzAZjx6bStdGjYfjwtK93b9h///xibkecwJmZmVm9s8+GO++E555L6126pG0nnZSqQufPh803zzVEcwJnZmbW/rz1Vprova7DwZo1afw1SCVvw4fDpz6VStd23z0NolvHyVur4ATOzMysrXvllfo5Qb/0Jfjxj1PSBilZ22+/+qE8/vCH3MK00jmBMzMza0tWr4YnnqjvaDB5cho895VXoF+/1MHgggtS+7WRI2GzzfKO2N4DJ3BmZmbVbPFimDo1DdvRrx/ccAOMH5/29e+fqkG/8AXYaKO07eij08uqmhM4MzOzavLmm3DrrfVTUU2fnqo/J0xI7dYOPhhuvDGVsA0alHe0ViZO4MzMzFqrFSvg0UdTVejWW8NHPwrLl6ceoT16pCrQurlD99wzndOvHxx/fL5xW9k5gTMzM2ttvv51uOceqK1NSRzAaaelBK53b5gxA7bbLk0Eb+2SEzgzM7M8rF0L//1vfWeDlStT+zWAf/0r9RI955xUujZyJGy5Zf25O+yQT8zWajiBMzMzq4Rly6Bbt7T87W/DZZfBwoVpvW4Gg7qhPO65J301a4ITODMzs3KYM2fdoTwefzwN5dG7NwwYkHqCjhqVXttuu27C5uTNmuEEzszMbEOtXg1PPpl6fW6+OVx/PXziE2lft26w117wxS+malOAT34yvczeIydwZmZm62v5crj//voStoceSsN7/OY3aQy2MWPgJz9J7dd23RU6d847YmtjnMCZmZkVEwEvvJAStX794MADYdEiGDs29QLddVc4+eSUrO2/fzpn8GD47GdzDdvaNidwZmZmjfnZz+pL2ebNS9vGjUsJ3JZbpn277Qbdu+cbp7VLTuDMzKx9mz8/TUU1eXLqKfqzn6Xt118Pb7yRZjYYPTp1Nhg+vP68ffbJJ14znMCZmVl7UjdMB6Q2aldeCc8+m9Y7d05t1+qOue8+2HjjvCI1K8oJnJmZtV1vvw0PP1w/lMdDD8HMmdCzZ2q/tsMOcMopqYStpga6dq0/18mbtWJO4MzMrO2YMye1Sdt0U7j5ZjjhhDTEB8COO6apqN5+OyVw556bXmZVyAmcmZlVpzVr0thrkyfXD+fx8sup7doJJ8CIEfClL6W2ayNHQq9eeUds1mJyTeAkjQV+CnQEro6ISxrsHw/8AJiTbbo8Iq7O9p0MXJRt/05EXFeRoM3MLB+LF6cq0E03hb33hrlzUy9QgK22StWg552XkjVIk71/97v5xWtWRrklcJI6Ar8ADgJmA49ImhQRTzc49KaIOKfBub2AbwA1QADTsnMXViB0MzOrlN//Pk3sPmVKKm2LgOOOg4kT03RUf/gD7LFHmgHB009ZO5JnCdyewMyIeAFA0kTgCKBhAteYQ4A7I2JBdu6dwFjgxjLFamZm5bRyJTz6aErUli6Fb3wjbf/BD+D551Op2lFHperQvfaqP+/oo/OJ1yxneSZw/YFZBeuzgb0aOe4oSfsAzwLnRcSsJs7tX65AzcysTH796zT91COPwIoVaduuu8LXv55K1P7xD9hiC+jYMd84zVqZDnkH0Iy/AkMiYhfgTmC927lJOl1SraTa+fPnt3iAZmbWjAiYMQOuuSYN2TF8eJo3FOCVV1Iv0bPPhltuSeuPPVZfHdqvn5M3s0bkWQI3BxhYsD6A+s4KAETEGwWrVwOXFpy7X4Nz72vsJhExAZgAUFNTExsSsJmZleDtt9MYa127wl/+kpK2BQvSvs03T9WgCxbAJpvARRell5mtlzxL4B4BtpU0VFIX4HhgUuEBkvoVrB4OzMiWbwcOlrSZpM2Ag7NtZmZWaa+8kjoTnHdeap/Wowf89a9p39Zbp7HXfv1r+O9/07RVkyalTgdm9p7lVgIXEaslnUNKvDoCv46I6ZIuBmojYhJwrqTDgdXAAmB8du4CSd8mJYEAF9d1aDAzszKqG3utUyfYaac07tqQIWlf166w557wxS+mQXMBdt4Zrr46t3DN2ipFtJ9axZqamqitrc07DDOz6nLXXfDvf6fBch98MLVfO/FE+N3vUvu2K65IQ3mMGAFduuQdrVmbIWlaRNQ0ts8zMZiZWRIBL72UErVFi+CcbAjOz30udULYZRc46aTUhm3MmLRPSh0QzKyinMCZmbV3t9ySBsadPBlefTVtGzQoJWZSat/Wv3+aAcHMWgUncGZm7cXrr8PUqfVVof/8J3TrBtOmpUF0DzggTUc1alRq31Y3lEddezYzazWcwJmZtUURqcNBp05w222pGvSZZ9K+zp1h991TadvQofDtb8P//V+u4ZrZ+nECZ2bWFrz9NtTWptK1KVPS65pr4MgjoXfvNLH7+PGphK2mJpW81enkPwVm1cY/tWZm1Wju3DT11JAh8L//wTbbpBkNAHbYIY29ttVWab2mJo29ZmZthhM4M7Nq8Pjj9aVrkyen3qKf/GQaIHfgQPjKV9JQHiNHptkOzKxNcwJnZtbaLFkCDz2UZi34+MfTtmOPhWefTXODjh4N554L+++f9knwrW/lF6+ZVZwTODOz1uCOO+DPf04lbE8+CWvXQt++MG5cStCuvRa23DJVmdb1DjWzdivPuVDNzNqflSvh4YfhssvguONSOzZICdz118MWW8DXv57Wn322PlkbOTL1GHXyZma4BM7MrDLuuw++8Y2UvC1fnrYNGQKzZsGwYWnf978PHTvmGaWZVQmXwJmZtZQI+O9/U8eC005LA+D+4x9pX6dOKXE766w0s8GcOfDiiyl5A+je3cmbmZXMJXBmZu/VsmVpYvc+fdJQHrvtBgsWpH29eqUZDTbeOK1/8IOpY4KZWQtwAmdmVqq5c+uH8Zg8OU0/deqp8MtfwoABcMwxaSiP0aPTwLkdXMlhZuXhBM7MrDFr1sD06SlpO+SQtG306FTt2bVrStQ+/3k49NC0r0OHlMiZmVWAEzgzszoPP5wmeJ8yJU32vmRJGrrjlVdS78/LL0+D5O62G3Tpkne0ZtaOOYEzs/YnAl5+OVWDPvgg/PjHaYL3G26An/8cdt4ZTjghtWEbPbr+vA9/OL+YzcwKKCLyjqFiampqora2Nu8wzCwvDz4IP/pRStzmzk3bNtkEpk1LbdbmzUuTvG+6ab5xmpkBkqZFRE1j+1wCZ2Ztz4IFqRq0rsPBN76Rpp16802orU3Lo0al18471w/f0bdvvnGbmZXICZyZVbeINJzHxhvD7Nlw8MEwY0ba16kT7L57mv0A4IADUicEM7Mq5wTOzKrLsmWpFG3y5PpStnHjUtu1LbeEHXaAT3witV2rqakfhw08DZWZtRlO4MysdZs7Nw2Su9deaX2nneCFF9Ly9tvD4YfDQQel9U6d4E9/yidOM7MKcgJnZq3LM8/APffUt1978UUYNCj1GgW4+OI07dSoUdC7d76xmpnlxAmcmeVn6dI0vdSDD8KFF6bOBD/9KVx5ZaoOHT0azjknJWsRqQr0hBPyjtrMLHceRsTMKuvxx+FXv0qla088AWvXpsTs6adT+7W6TgZDhrjNmpm1a8WGEfFEfWZWHqtWwSOPpBK1Y4+FqVPT9ldegeuuS9WfF10Et98Oixal5A1g6ND0cvJmZtYkV6GaWctYuzbNB/rKK/Dxj6dpqZYtS/sGD4ZXX03LBx0ECxemDgdmZvae+Deoma2/CHjuuVQNWjecx6GHplkOevdOpW+nn57asI0aBf3715/rxM3MbIP5N6mZNW/5cpg1C7bdNq3vsgs89VRa3myzlKTtumta79IlJXVmZlY2TuDM7N3mzasvWZs8Oc0VOmgQzJyZ9p9xBnTtmkrYtt8+VZ2amVnFOIEza+/WrIHp09NQHqedlpKxiy6Cq6+GjTaCPfaA885LyVrdUB7nnJN31GZm7ZoTOLP26NlnYeLEVLr24IOwZEnaPmYM7LgjfPazcOqpsNtuKYkzM7NWxQmcWVsWkaahqqsKrUvK/vtf+OY307RU48bVdzbYeut03k475Rq2mZkVl2sCJ2ks8FOgI3B1RFzSYP/5wGnAamA+cEpEvJztWwM8mR36v4g4vGKBm7V2r76aStEmT4Y5c9K2970vJWq77QYHHwwLFkDPnrmGaWZm701uCZykjsAvgIOA2cAjkiZFxNMFh/0HqImItyWdBVwKHJftWxYRIyoZs1mrs2BBqgKt63Cw776pZK1nT3j0Udhnn/rStZ13rh/Co2vX9DIzs6qUZwncnsDMiHgBQNJE4AjgnQQuIu4tOP5B4MSKRmjWmkTA669Dnz5pfcwY+Pe/03LHjqlkbfPN03rXrmmcNjMza5PyTOD6A7MK1mcDexU5/lTgnwXrXSXVkqpXL4mIPzd2kqTTgdMBBg0atCHxmlXW8uVQW1vffm3KlJS8PZ39j3PggTB2bCph22OPVEVqZmbtQlV0YpB0IlAD7FuweXBEzJG0NXCPpCcj4vmG50bEBGACpMnsKxKw2Xsxb16qDj388DRUx1lnwbXXpn3bbgsf+ci6Q3l84xu5hmtmZvnJM4GbAwwsWB+QbVuHpAOBrwL7RsSKuu0RMSf7+oKk+4DdgHclcGat1uzZ8Pe/15euPZ99fJ97DoYNgzPPhI9+FEaOrK82NTMzI98E7hFgW0lDSYnb8cDHCw+QtBtwFTA2Il4r2L4Z8HZErJDUGxhN6uBg1jq9+Waa3H3yZDjqKBg+HB56KCVpW2yRStbOOit1Nqir6t+rWIsCMzNrz3JL4CJitaRzgNtJw4j8OiKmS7oYqI2IScAPgE2AP0iC+uFCdgSukrQW6EBqA/d0ozcyy8v8+XDxxSlpe/xxWLs2VX0OGJASuIMPTlNTbb112m5mZlYiRbSfZmE1NTVRW1ubdxjW1qxalRK0uqrQvfaC88+Ht96C/v3hAx+oH8pj77099pqZmZVE0rSIqGlsX1V0YjBrVVauhC5d0vKRR8Kdd8Lbb6f1gQNhl13S8vveB2+8kYb4MDMza0HNJnCStgFmZ+3N9gN2AX4bEYvKG5pZKxCRqjnrhvKYPBk6d4bHHkv7Bw9OE8CPHp06GwwcuO75Tt7MzKwMSimB+yNQI2kYaTiOvwC/Bz5czsDMcrF8eUrO9tortUs74wz41a/Svp49UzXomDH1Q3n89Kd5RmtmZu1UKQnc2qzDwUeBn0fEzyX9p9yBmVXEggVw//31JWzTpqUq0pdeSqVrxx2XBskdNQp23BE6dMg7YjMzs5ISuFWSxgEnA4dl2zqXLySzMlm7Ns1iMHlymsVgm23gjjtg3LjUpq2mJk0AP2oU9O6dzjnggPQyMzNrRUpJ4D4JnAl8NyJezMZt+115wzJrIQsWwBVXpKRt6lRYvDhtv/LKlMAdfHDa94EPwEYb5RurmZlZiUoaRkRSN2BQRDxT/pDKx8OItHGzZtUP5bHrrnDqqbBkCfTqlao/64byGD3aY6+ZmVmrt0HDiEg6DPgh0AUYKmkEcHE2oK5ZPuo6EUBK1O64I01NBWn4jrPPTsubbgoLF0L37vnEaWZmVgalVKF+E9gTuA8gIh7LJpA3q5yFC9NE73VDeaxdmzofQOo5Onp0/WuXXaBTwUfbyZuZmbUxJXViiIjFWre6aW2Z4jFLpWsvvpiqOQHOOw9+8pO03LEjjBgB++xTXwp3ww15RWpmZpaLUhK46ZI+DnSUtC1wLjClvGFZu7JiRRq+o6792pQp8NprMGcObLUV7Ldf6hU6alQa0mOTTfKO2MzMLFelJHCfAb4KrABuJE0+/+1yBmVt3GuvpSStpiZN7H7zzXDSSWnfsGFw6KEpWdt447TtiCPSy8zMzIASEriIeJuUwH21/OFYm7RkCUycWF/CNnNm2n7llXDmmWkoj1tvTUnbFlvkG6uZmVkVKKUX6r3Au8YaiYj9yxKRVbe33oKHHkqJ2nbbwbHHwurVaUqqPn1SJ4PTT09fd989ndO3b5oU3szMzEpSShXqFwqWuwJHAavLE45VrS9/Ge6+O80jumZN2nbmmSmB69UrdUoYPNhjr5mZmbWAUqpQpzXYNFnSw2WKx1qz1avhiSfqq0JXroQ//jHte/zxNObahRemqtC994bNNqs/d8iQXEI2MzNri0qpQu1VsNoB+ADQo2wRWeuxdGn9GGpf/zr8+MepihRS54P9968fyuOf/3TpmpmZWYWUUoU6jdQGTqSq0xeBU8sZlOUgAp5/PpWs1ZWwTZ8O8+altmvbbQennFI/FdXAgeue7+TNzMysYkqpQh1aiUCswurGXhs2LPX8/N3v4OST074ePWDkyNR+rc6JJ6aXmZmZ5a6UEjgkjQKGFB4fEb8tU0xWDm+/DXfeWT8VVW1tasN2zTWpZO1DH4Jf/jKVrg0fDh065B2xmZmZNaGUNnC/A7YBHgOy7oUE4ASutVq7FmbMSNWgAwakgXHffDMN1dGlSxpA99xzU7I2Zkw6Z+DANNSHmZmZtXqllMDVAMMj4l1jwVkrc+mlcN99MHUqLFqUtp14YkrgttgCHn4Ydt4ZunbNM0ozMzPbQKUkcE8BWwJzyxyLlWr27PqOBsuXw1VXpe233ppmPTjmmFS6NmpUauNWZ4898onXzMzMWlQpCVxv4Ols7LcVdRsj4vCyRWX11qyBjh3T8qWXwuWXw6xZaX3jjWHffeuH8rj//lRFamZmZm1aKQncN8sdhBVYtAgefLB+OI9HHoGXX06D4nbvnkrV6l677gqdO9ef6+TNzMysXShlGJH7JQ0Gto2IuyRtDHQsf2jtQAS88AL07p2G7rjxRjjhhLS9QwcYMSIN7bF8eTr+rLPSy8zMzNq1Unqhfgo4HehF6o3aH/glcEB5Q2uDVq1Kw3fUtV+bMiUNlPvb38InPpHaqH3rW6n92p57wiab5B2xmZmZtUKlVKGeDewJPAQQEc9J2qKsUbUV8+enJK1XrzRcx7x5qeoTYJtt4OCDU7K2775p27Bh8LWv5RevmZmZVYVSErgVEbFS2VRJkjqRxoGzxvzmN6kzwZQp8Nxzaduxx6YEbsAA+Otf0zhsW26Zb5xmZmZWtUpJ4O6X9BWgm6SDgE8Dfy1vWFXs5z9PvURHj4bTTktfP/CB+v0f+Uh+sZmZmVmbUEoCdwFp8vongTOAfwBXlzOoqnbnnanK1JO7m5mZWZmUksAdCfw2In5V5ljahs03zzsCMzMza+NKmbH8MOBZSb+T9JGsDVyLkDRW0jOSZkq6oJH9G0m6Kdv/kKQhBfsuzLY/I+mQlorJzMzMrLVrNoGLiE8Cw4A/AOOA5yVtcBWqpI7AL4BDgeHAOEnDGxx2KrAwIoYBlwHfz84dDhwPvB8YC1yRXc/MzMyszSupNC0iVkn6J6n3aTdSteppG3jvPYGZEfECgKSJwBHA0wXHHEH9TBC3AJcrdYc9ApgYESuAFyXNzK43dQNjes9mzF3MbU/NY86iZfTv2Y2xO/Vlx3498grHzMzM2rBmS+AkHSrpWuA54ChSB4aWGAOjPzCrYH12tq3RYyJiNbAY2LzEcytmxtzFTHjgRRYvW0W/Hl1ZvGwVEx54kRlzF+cVkpmZmbVhpZTAnQTcBJyRlXhVFUmnk2aSYNCgQWW5x21PzaNHt8706JbmJa37ettT81wKZ2ZmZi2ulDZw44D/AGMAJHWT1L0F7j0HGFiwPiDb1ugxWeeJHsAbJZ5bF/+EiKiJiJo+ffq0QNjvNmfRMrp3XTcX7t61E3MWLSvL/czMzKx9K6UK9VOk9mdXZZsGAH9ugXs/AmwraaikLqROCZMaHDMJODlbPhq4JyIi23581kt1KLAt8HALxPSe9O/ZjaXLV6+zbeny1fTv2S2niMzMzKwtK2UYkbOB0cASSHOhAhs8F2rWpu0c4HZgBnBzREyXdLGkw7PDrgE2zzopnE8aVJiImA7cTOrwcBtwdkSs2dCY3quxO/Vl8bJVLF62irUR7yyP3alvXiGZmZlZG6ZUoFXkAOmhiNhL0n8iYresKvPRiNilMiG2nJqamqitrS3Ltd0L1czMzFqSpGkRUdPYPs+F2kJ27NfDCZuZmZlVRClVqBcA8ymYCzUivlrWqMzMzMysSaX0Ql0bEb+KiGMi4mjgZUl3ViA2MzMzM2tEkwmcpP0lPSvpTUnXS9pZUi3wf8CVlQvRzMzMzAoVK4H7EWkA3M1Jw4hMBa6NiA9ExJ8qEZyZmZmZvVuxTgwREfdly3+WNCciLq9ATGZmZmZWRLEErqekjxUeW7juUjgzMzOzfBRL4O4HDitYf6BgPQAncGZmZmY5aDKBi4hPVjIQMzMzMytNKePAmZmZmVkr4gTOzMzMrMo4gTMzMzOrMk22gWvQA/Vd3AvVzMzMLB/FeqEeVmSfe6GamZmZ5cS9UM3MzMyqTLESuHdI+n/A+4Guddsi4uJyBWVmZmZmTWu2E4OkXwLHAZ8BBBwDDC5zXGZmZmbWhFJ6oY6KiJOAhRHxLWAksF15wzIzMzOzppSSwC3Lvr4taStgFdCvfCGZmZmZWTGltIH7m6SewA+AR0k9UK8uZ1BmZmZm1rRSErhLI2IF8EdJfyN1ZFhe3rDMzMzMrCmlVKFOrVuIiBURsbhwm5mZmZlVVrGZGLYE+gPdJO1G6oEKsCmwcQViMzMzM7NGFKtCPQQYDwwAflywfSnwlTLGZGZmZmZFFJuJ4TrgOklHRcQfKxiTmZmZmRVRShu4uyX9WFJt9vqRpB5lj8zMzMzMGlVKAncNqdr02Oy1BPhNOYMyMzMzs6aVMozINhFxVMH6tyQ9VqZ4zMzMzKwZTZbASRqULS6T9MGC7aOpn53BzMzMzCqsWAncn4HdgbNInRl6kIYSWUDqnWpmZmZmOSiWwAkgIh4DdpW0aba+pAJxmZmZmVkTiiVw/SX9rOFGKY3nGxHnlisoMzMzM2tasQRuGTCtUoGYmZmZWWmKJXBvZIP5tjhJvYCbgCHAS8CxEbGwwTEjgCtJU3etAb4bETdl+64F9gUWZ4ePz6p6zczMzNq8YuPArSzjfS8A7o6IbYG7s/WG3gZOioj3A2OBn0jqWbD/ixExIns9VsZYzczMzFqVJhO4iNi7jPc9Aqgr3bsOOLKR+z8bEc9ly68ArwF9yhiTmZmZWVUoZSaGcugbEXOz5VeBvsUOlrQn0AV4vmDzdyU9IekySRsVOff0umnA5s+fv8GBm5mZmeWtbAmcpLskPdXI64jC4yIigChynX7A74BPRsTabPOFwA7AHkAv4MtNnR8REyKiJiJq+vRxAZ6ZmZlVvyY7MWQdDZoUEQua2X9gkWvPk9QvIuZmCdprTRy3KfB34KsR8WDBtetK71ZI+g3whWKxmJmZmbUlxUrgpgG12df5wLPAc9nyhg4vMgk4OVs+GfhLwwMkdQFuBX4bEbc02Ncv+ypS+7mnNjAeMzMzs6pRrBPD0IjYGrgLOCwiekfE5sBHgDs28L6XAAdJeg44MFtHUo2kq7NjjgX2AcZLeix7jcj23SDpSeBJoDfwnQ2Mx8zMzKxqKDVBK3KA9GRE7NzctmpQU1MTtbW1eYdhZmZm1ixJ0yKiprF9xQbyrfOKpIuA67P1E4BXWio4MzMzM1s/pfRCHUcaf+1W4E/Z8rhyBmVmZmZmTWu2BC7rbfpZSe+LiLcqEJOZmZmZFdFsCZykUZKeBmZk67tKuqLskZmZmZlZo0qpQr0MOAR4AyAiHif1DjUzMzOzHJQ0E0NEzGqwaU0ZYjEzMzOzEpTSC3WWpFFASOoMfJasOtXMzMzMKq+UErgzgbOB/sAcYATw6TLGZGZmZmZFlFICt31EnFC4QdJoYHJ5QjIzMzOzYkopgft5idvMzMzMrAKaLIGTNBIYBfSRdH7Brk2BjuUOzMzMzMwaV6wKtQuwSXZM94LtS4CjyxmUmZmZmTWtyQQuIu4H7pd0bUS8XMGYzMzMzKyIUtrAXS2pZ92KpM0k3V6+kMzMzMysmFISuN4RsahuJSIWAluULSIzMzMzK6qUBG6tpEF1K5IGA1G+kMzMzMysmFLGgfsq8G9J9wMCxgCnlzUqMzMzM2tSswlcRNwmaXdg72zT5yLi9fKGZWZmZmZNabIKVdIO2dfdgUHAK9lrULbNzMzMzHJQrATu88CngB81si+A/csSkZmZmZkVVWwcuE9lXz9UuXDMzMzMrDnFptL6WLETI+JPLR+OmZmZmTWnWBXqYdnXLUhzot6TrX8ImAI4gTMzMzPLQbEq1E8CSLoDGB4Rc7P1fsC1FYnOzMzMrJWYMXcxtz01jzmLltG/ZzfG7tSXHfv1yCWWUgbyHViXvGXmkXqlmpmZmbULM+YuZsIDL7J42Sr69ejK4mWrmPDAi8yYuziXeEoZyPfubO7TG7P144C7yheSmZmZWety21Pz6NGtMz26dQZ45+ttT83LpRSulIF8z5H0UWCfbNOEiLi1vGGZmZmZtR5zFi2jX4+u62zr3rUTcxYtyyWeUkrgAB4FlkbEXZI2ltQ9IpaWMzAzMzOz1qJ/z24sXrbqnZI3gKXLV9O/Z7dc4mm2DZykTwG3AFdlm/oDfy5jTGZmZmatytid+rJ42SoWL1vF2oh3lsfu1DeXeErpxHA2MBpYAhARz5GGFjEzMzNrF3bs14PT9xlKj26dmbt4OT26deb0fYbm1gu1lCrUFRGxUhIAkjqRptIyMzMzazd27Ncjt4StoVJK4O6X9BWgm6SDgD8Afy1vWGZmZmbWlFISuC8D84EngTOAfwAXbchNJfWSdKek57KvmzVx3BpJj2WvSQXbh0p6SNJMSTdJ6rIh8ZiZmZlVk6IJnKSOwIyI+FVEHBMRR2fLG1qFegFwd0RsC9ydrTdmWUSMyF6HF2z/PnBZRAwDFgKnbmA8ZmZmZlWjaAIXEWuAZyS19MwLRwDXZcvXAUeWeqJSY7z9ST1j1/t8MzMzs2pXSieGzYDpkh4G3qrb2KBEbH31LZie61WgqT64XSXVAquBSyLiz8DmwKKIWJ0dM5s0tImZmZlZu1BKAve193JhSXcBWzay66uFKxERkpqqkh0cEXMkbQ3cI+lJYL0mHZN0OnA6wKBBnsLVzMzMql+TCZykrsCZwDBSB4ZrCkq9mhURBxa59jxJ/SJirqR+wGtNXGNO9vUFSfcBuwF/BHpK6pTFMwCYUySOCcAEgJqaGg9/YmZmZlWvWBu464AaUvJ2KPCjFrzvJODkbPlk4C8ND5C0maSNsuXepMGEn846UNwLHF3sfDMzM7O2qlgCNzwiToyIq0jJ0pgWvO8lwEGSngMOzNaRVCPp6uyYHYFaSY+TErZLIuLpbN+XgfMlzSS1ibumBWMzMzMza9WKtYFbVbcQEavrZmJoCRHxBnBAI9trgdOy5SnAzk2c/wKwZ4sFZGZmZlZFiiVwu0paki2LNBPDkmw5ImLTskdnZmZmZu/SZAIXER0rGYiZmZmZlaaUqbTMzMzMrBVxAmdmZmZWZZzAmZmZmVUZJ3BmZmZmVcYJnJmZmVmVcQJnZmZmVmWcwJmZmZlVGSdwZmZmZlXGCZyZmZlZlXECZ2ZmZlZlnMCZmZmZVRkncGZmZmZVxgmcmZmZWZVxAmdmZmZWZZzAmZmZmVUZJ3BmZmZmVcYJnJmZmVmVcQJnZmZmVmWcwJmZmZlVGSdwZmZmZlXGCZyZmZlZlXECZ2ZmZlZlnMCZmZmZVRkncGZmZmZVxgmcmZmZWZVxAmdmZmZWZZzAmZmZmVUZJ3BmZmZmVcYJnJmZmVmVcQJnZmZmVmWcwJmZmZlVmVwSOEm9JN0p6bns62aNHPMhSY8VvJZLOjLbd62kFwv2jaj092BmZmaWl7xK4C4A7o6IbYG7s/V1RMS9ETEiIkYA+wNvA3cUHPLFuv0R8VgFYjYzMzNrFfJK4I4ArsuWrwOObOb4o4F/RsTb5QzKzMzMrBrklcD1jYi52fKrQN9mjj8euLHBtu9KekLSZZI2aupESadLqpVUO3/+/A0I2czMzKx1KFsCJ+kuSU818jqi8LiICCCKXKcfsDNwe8HmC4EdgD2AXsCXmzo/IiZERE1E1PTp02dDviUzMzOzVqFTuS4cEQc2tU/SPEn9ImJulqC9VuRSxwK3RsSqgmvXld6tkPQb4AstErSZmZlZFcirCnUScHK2fDLwlyLHjqNB9WmW9CFJpPZzT7V8iGZmZmatU14J3CXAQZKeAw7M1pFUI+nquoMkDQEGAvc3OP8GSU8CTwK9ge9UImgzMzOz1qBsVajFRMQbwAGNbK8FTitYfwno38hx+5czPjMzM7PWzDMxmJmZmVUZJ3BmZmZmVcYJnJmZmVmVcQJnZmZmVmWcwJmZmZlVGSdwZmZmZlXGCZyZmZlZlXECZ2ZmZlZlnMCZmZmZVRkncGZmZmZVxgmcmZmZWZVxAmdmZmZWZZzAmZmZmVUZJ3BmZmZmVcYJnJmZmVmVcQJnZmZmVmWcwJmZmZlVGSdwZmZmZlXGCZyZmZlZlXECZ2ZmZlZlnMCZmZmZVRkncGZmZmZVxgmcmZmZWZVxAmdmZmZWZZzAmZmZmVUZJ3BmZmZmVcYJnJmZmVmVcQJnZmZmVmWcwJmZmZlVGSdwZmZmZlXGCZyZmZlZlXECZ2ZmZlZlnMCZmZmZVZlcEjhJx0iaLmmtpJoix42V9IykmZIuKNg+VNJD2fabJHWpTORmZmZm+curBO4p4GPAA00dIKkj8AvgUGA4ME7S8Gz394HLImIYsBA4tbzhmpmZmbUeuSRwETEjIp5p5rA9gZkR8UJErAQmAkdIErA/cEt23HXAkWUL1szMzKyVac1t4PoDswrWZ2fbNgcWRcTqBtsbJel0SbWSaufPn1+2YM3MzMwqpVO5LizpLmDLRnZ9NSL+Uq77NhQRE4AJADU1NVGp+5qZmZmVS9kSuIg4cAMvMQcYWLA+INv2BtBTUqesFK5uu5mZmVm70JqrUB8Bts16nHYBjgcmRUQA9wJHZ8edDFSsRM/MzMwsb3kNI/JRSbOBkcDfJd2ebd9K0j8AstK1c4DbgRnAzRExPbvEl4HzJc0ktYm7ptLfg5mZmVlelAq02oeampqora0ty7VnzF3MbU/NY86iZfTv2Y2xO/Vlx349ynIvMzMza/skTYuIRsfLbc1VqFVjxtzFTHjgRRYvW0W/Hl1ZvGwVEx54kRlzF+cdmpmZmbVBTuBawG1PzaNHt8706NaZDtI7y7c9NS/v0MzMzKwNcgLXAuYsWkb3rut26O3etRNzFi3LKSIzMzNry5zAtYD+PbuxdPnqdbYtXb6a/j275RSRmZmZtWVO4FrA2J36snjZKhYvW8XaiHeWx+7UN+/QzMzMrA1yAtcCduzXg9P3GUqPbp2Zu3g5Pbp15vR9hroXqpmZmZVF2WZiaG927NfDCZuZmZlVhEvgzMzMzKqMEzgzMzOzKuMEzszMzKzKOIEzMzMzqzJO4MzMzMyqjBM4MzMzsyrjBM7MzMysyjiBMzMzM6syTuDMzMzMqowTODMzM7Mqo4jIO4aKkTQfeDnvOFqh3sDreQfRyvkZNc/PqHl+RsX5+TTPz6h5bekZDY6IPo3taFcJnDVOUm1E1OQdR2vmZ9Q8P6Pm+RkV5+fTPD+j5rWXZ+QqVDMzM7Mq4wTOzMzMrMo4gTOACXkHUAX8jJrnZ9Q8P6Pi/Hya52fUvHbxjNwGzszMzKzKuATOzMzMrMo4gWtHJI2V9IykmZIuaGT/PpIelbRa0tF5xJi3Ep7R+ZKelvSEpLslDc4jzjyV8IzOlPSkpMck/VvS8DzizEtzz6fguKMkhaQ231uuoRI+Q+Mlzc8+Q49JOi2POPNUyudI0rHZ76Ppkn5f6RjzVsLn6LKCz9CzkhblEGb5RIRf7eAFdASeB7YGugCPA8MbHDME2AX4LXB03jG30mf0IWDjbPks4Ka8426Fz2jTguXDgdvyjrs1PZ/suO7AA8CDQE3ecbe2ZwSMBy7PO9ZW/oy2Bf4DbJatb5F33K3tGTU4/jPAr/OOuyVfLoFrP/YEZkbECxGxEpgIHFF4QES8FBFPAGvzCLAVKOUZ3RsRb2erDwIDKhxj3kp5RksKVt8HtKeGts0+n8y3ge8DyysZXCtR6jNqz0p5Rp8CfhERCwEi4rUKx5i39f0cjQNurEhkFeIErv3oD8wqWJ+dbbN66/uMTgX+WdaIWp+SnpGksyU9D1wKnFuh2FqDZp+PpN2BgRHx90oG1oqU+nN2VNZU4RZJAysTWqtRyjPaDthO0mRJD0oaW7HoWoeSf19nTV2GAvdUIK6KcQJn9h5IOhGoAX6QdyytUUT8IiK2Ab4MXJR3PK2FpA7Aj4HP5x1LK/dXYEhE7ALcCVyXczytUSdSNep+pNKlX0nqmWdArdjxwC0RsSbvQFqSE7j2Yw5Q+F/sgGyb1SvpGUk6EPgqcHhErKhQbK3F+n6OJgJHljOgVqa559Md2Am4T9JLwN7ApHbWkaHZz1BEvFHws3U18IEKxdZalPJzNhuYFBGrIuJF4FlSQtderM/vouNpY9Wn4ASuPXkE2FbSUEldSB/oSTnH1No0+4wk7QZcRUre2lubEyjtGRX+Efl/wHMVjC9vRZ9PRCyOiN4RMSQihpDaUR4eEbX5hJuLUj5D/QpWDwdmVDC+1qCU39d/JpW+Iak3qUr1hQrGmLeS/qZJ2gHYDJha4fjKzglcOxERq4FzgNtJvwxvjojpki6WdDiApD0kzQaOAa6SND2/iCuvlGdEqjLdBPhD1jW9XSXBJT6jc7JhDR4DzgdOzifayivx+bRrJT6jc7PP0OOkNpTj84k2HyU+o9uBNyQ9DdwLfDEi3sgn4spbj5+144GJkXVFbUs8E4OZmZlZlXEJnJmZmVmVcQJnZmZmVmWcwJmZmZlVGSdwZmZmZlXGCZyZmZlZlXECZ2YVJelISZGNz9TcsZ+TtPEG3Gu8pMsbbPtkNgTMY5JWSnoyW76kkfOHSPp4CfcZIumpJrYvy67/tKTfSur8Xr8fM7M6TuDMrNLGAf/Ovjbnc8B7TuAaExG/iYgRETECeAX4ULZ+QSOHDwGaTeCa8Xx2r51Jo8Ufu4HXMzNzAmdmlSNpE+CDwKmkATbrtneU9ENJT2UTmH9G0rnAVsC9ku7Njnuz4JyjJV2bLR8m6SFJ/5F0l6S+6xmXJP0gu/+Tko7Ldl0CjMlK0M7LStT+JenR7DWq1Htk8zA+TDbhtqQPSLpf0jRJt0vqJ2kHSQ8XxDVE0pNNHZ9tv0/S9yU9LOlZSWOy7euUPkr6m6T9suWDJU3Nvoc/ZO8Lki7JSgqfkPTD9XmGZlZZnfIOwMzalSOA2yLiWUlvSPpAREwDTieVdo2IiNWSekXEAknnk0rIXm/muv8G9o6IkHQa8CXWb8L4jwEjgF2B3sAjkh4ALgC+EBEfAciqcw+KiOVKU4bdCJQ0j6mkrsBewGezatSfA0dExPwsYfxuRJwiqYukodn8lscBNzV1PHBKdvlOEbGnpA8D3wAOLBJHb+Ai4MCIeEvSl4HzJf0C+CiwQ/Yce5b26MwsD07gzKySxgE/zZYnZuvTSAnHL7PpcYiIBet53QGkRKcf0AV4cT3P/yBwY1ZKNk/S/cAewJIGx3UGLpc0AlhDmn+yOdtk04oNBf4eEU9I2ok0qf2dkgA6AnOz428mJW6XZF+PA7YvcjzAn7Kv00iJcDF7A8OBydm1upDmiVwMLAeukfQ34G8lfG9mlhMncGZWEZJ6AfsDO0sKUhISkr64HpcpnPuva8Hyz4EfR8SkrJrwmxsWbZPOA+aRSuo6kBKe5jwfESOykq/J2TyNLwLTI2JkI8ffRJpr909ARMRzknYucjzAiuzrGup/r69m3WYydc9LwJ0R8a42iJL2BA4AjibNM7l/Cd+fmeXAbeDMrFKOBn4XEYMjYkhEDCQlMmOAO4EzJHWCd5I9gKVA94JrzJO0o6QOpOq+Oj2AOdnyye8htn8Bx2Vt8foA+5DaqzW8fw9gbkSsBT5BSkJLklUDXwBcCDwD9JE0EkBSZ0nvz457npSIfY2UzFHs+CJeAkZI6iBpILBntv1BYLSkYdm13idpu6wdXI+I+AcpUd211O/NzCrPCZyZVco44NYG2/6Ybb8a+B/whKTHqe/5OQG4ra4TAykB+hswhXWrEL9JKrWaBjTXXq4xtwJPAI8D9wBfiohXs21rJD0u6TzgCuDkLMYdgLfW8z5/JvWq3YuU0H4/u9ZjQGGHiJuAE0nVqUTEymaOb8xkUoL8NPAz4NHsWvOB8cCNkp4gVZ/uQEpU/5Zt+zdw/np+b2ZWQYqI5o8yMzMzs1bDJXBmZmZmVcYJnJmZmVmVcQJnZmZmVmWcwJmZmZlVGSdwZmZmZlXGCZyZmZlZlXECZ2ZmZlZlnMCZmZmZVZn/D3CuyOpEtDHvAAAAAElFTkSuQmCC\n",
       "datasetInfos": [],
       "metadata": {},
       "removedWidgets": [],
       "type": "image"
      }
     },
     "output_type": "display_data"
    }
   ],
   "source": [
    "# Adding predicted values to X_test for visualization\n",
    "X_test_copy = X_test.copy()\n",
    "X_test_copy['Predicted_Revenues'] = y_pred\n",
    "\n",
    "# Plot Actual vs Predicted Revenues\n",
    "plt.figure(figsize=(10, 6))\n",
    "plt.scatter(y_test, y_pred, alpha=0.5)\n",
    "plt.plot([y_test.min(), y_test.max()], [y_test.min(), y_test.max()], color='red', linestyle='--')\n",
    "plt.xlabel('Actual Total Revenues')\n",
    "plt.ylabel('Predicted Total Revenues')\n",
    "plt.title('Actual vs Predicted Total Revenues (Linear Regression)')\n",
    "plt.show()\n",
    "\n"
   ]
  },
  {
   "cell_type": "markdown",
   "metadata": {
    "application/vnd.databricks.v1+cell": {
     "cellMetadata": {
      "byteLimit": 2048000,
      "rowLimit": 10000
     },
     "inputWidgets": {},
     "nuid": "e6eddebd-28fd-45ef-bb3e-9bdea6102ab1",
     "showTitle": false,
     "title": ""
    }
   },
   "source": [
    "A visualization always helps in understanding model performance beyond just numeric metrics. Here, we create a scatter plot that compares actual versus predicted revenues. Each point represents an actual vs. predicted pair, while the red dashed line represents a perfect prediction. If our points fall close to this line, it suggests our model is predicting accurately. This plot provides an intuitive way to assess how well our linear regression model is performing on the test data."
   ]
  },
  {
   "cell_type": "markdown",
   "metadata": {
    "application/vnd.databricks.v1+cell": {
     "cellMetadata": {
      "byteLimit": 2048000,
      "rowLimit": 10000
     },
     "inputWidgets": {},
     "nuid": "416218ff-886b-407e-8f3e-9093aa6e36f9",
     "showTitle": false,
     "title": ""
    }
   },
   "source": [
    "## Update Dataset with Predicted Values"
   ]
  },
  {
   "cell_type": "code",
   "execution_count": 0,
   "metadata": {
    "application/vnd.databricks.v1+cell": {
     "cellMetadata": {
      "byteLimit": 2048000,
      "rowLimit": 10000
     },
     "inputWidgets": {},
     "nuid": "bd8bbad3-902e-47bc-960b-62ca361c1ecb",
     "showTitle": true,
     "title": "5-Fold Cross-Validation"
    }
   },
   "outputs": [
    {
     "output_type": "display_data",
     "data": {
      "text/html": [
       "<style scoped>\n",
       "  .table-result-container {\n",
       "    max-height: 300px;\n",
       "    overflow: auto;\n",
       "  }\n",
       "  table, th, td {\n",
       "    border: 1px solid black;\n",
       "    border-collapse: collapse;\n",
       "  }\n",
       "  th, td {\n",
       "    padding: 5px;\n",
       "  }\n",
       "  th {\n",
       "    text-align: left;\n",
       "  }\n",
       "</style><div class='table-result-container'><table class='table-result'><thead style='background-color: white'><tr><th>Total_revenues</th><th>Depreciation_and_amortization_expenses</th><th>Interest_expense</th><th>Net_income_loss</th><th>YoY_Revenue_Growth</th><th>YoY_Net_Income_Growth</th><th>Depreciation_Percent_Revenue</th><th>Interest_Expense_Percent_Revenue</th><th>Revenue_Lag_1</th><th>Net_Income_Lag_1</th><th>Revenue_Rolling_Avg_3Y</th><th>Profit_Margin_Lag_1</th><th>Predicted_Revenues</th></tr></thead><tbody><tr><td>0.03778128430272551</td><td>1.2392742933410297</td><td>-0.40824829046386296</td><td>1.1322186915590091</td><td>0.3239811392994783</td><td>0.6219509228095992</td><td>1.239003766026342</td><td>-0.40824829046386296</td><td>-2.4494294581490776</td><td>-2.119858521601519</td><td>0.4064175806077414</td><td>-2.1137133152146377</td><td>0.03778128430272507</td></tr><tr><td>0.03778128430272551</td><td>-0.8644199569096855</td><td>-0.40824829046386296</td><td>1.1322186915590091</td><td>0.3239811392994783</td><td>0.6219509228095992</td><td>-0.864971912871599</td><td>-0.40824829046386296</td><td>0.4006603019738179</td><td>0.8944864278418221</td><td>-2.448687368523556</td><td>0.898116014298968</td><td>0.03778128430272553</td></tr><tr><td>0.03778128430272551</td><td>-0.8644199569096855</td><td>-0.40824829046386296</td><td>1.1322186915590091</td><td>0.3239811392994783</td><td>0.6219509228095992</td><td>-0.864971912871599</td><td>-0.40824829046386296</td><td>0.4006603019738179</td><td>0.8944864278418221</td><td>0.39884643544270687</td><td>0.898116014298968</td><td>0.037781284302725364</td></tr><tr><td>0.7350177127985357</td><td>1.1947896263848412</td><td>-0.40824829046386296</td><td>-0.6991850254059968</td><td>0.7967726843359316</td><td>-1.8944346425985956</td><td>1.1652206393074998</td><td>-0.40824829046386296</td><td>0.4006603019738179</td><td>0.8944864278418221</td><td>0.41398872577277457</td><td>0.898116014298968</td><td>0.7350177127985354</td></tr><tr><td>0.7350177127985357</td><td>-0.8644199569096855</td><td>2.4494897427831783</td><td>-0.6991850254059968</td><td>0.3239811392994783</td><td>0.6219509228095992</td><td>-0.864971912871599</td><td>2.449489742783178</td><td>0.41581618407587423</td><td>-0.1878669206413153</td><td>0.4291310161028408</td><td>-0.19354490922742154</td><td>0.7350177127985358</td></tr><tr><td>0.7350177127985357</td><td>-0.8644199569096855</td><td>-0.40824829046386296</td><td>-0.6991850254059968</td><td>0.3239811392994783</td><td>0.6219509228095992</td><td>-0.864971912871599</td><td>-0.40824829046386296</td><td>0.41581618407587423</td><td>-0.1878669206413153</td><td>0.4442733064329085</td><td>-0.19354490922742154</td><td>0.7350177127985356</td></tr><tr><td>-2.3183969913038056</td><td>1.0236159079128722</td><td>-0.40824829046386296</td><td>-1.2991009984590363</td><td>-2.4166783808333236</td><td>-1.2153199714494</td><td>1.0556632461525548</td><td>-0.40824829046386296</td><td>0.41581618407587423</td><td>-0.1878669206413153</td><td>0.3560303041645862</td><td>-0.19354490922742154</td><td>-2.318396991303805</td></tr></tbody></table></div>"
      ]
     },
     "metadata": {
      "application/vnd.databricks.v1+output": {
       "addedWidgets": {},
       "aggData": [],
       "aggError": "",
       "aggOverflow": false,
       "aggSchema": [],
       "aggSeriesLimitReached": false,
       "aggType": "",
       "arguments": {},
       "columnCustomDisplayInfos": {},
       "data": [
        [
         0.03778128430272551,
         1.2392742933410297,
         -0.40824829046386296,
         1.1322186915590091,
         0.3239811392994783,
         0.6219509228095992,
         1.239003766026342,
         -0.40824829046386296,
         -2.4494294581490776,
         -2.119858521601519,
         0.4064175806077414,
         -2.1137133152146377,
         0.03778128430272507
        ],
        [
         0.03778128430272551,
         -0.8644199569096855,
         -0.40824829046386296,
         1.1322186915590091,
         0.3239811392994783,
         0.6219509228095992,
         -0.864971912871599,
         -0.40824829046386296,
         0.4006603019738179,
         0.8944864278418221,
         -2.448687368523556,
         0.898116014298968,
         0.03778128430272553
        ],
        [
         0.03778128430272551,
         -0.8644199569096855,
         -0.40824829046386296,
         1.1322186915590091,
         0.3239811392994783,
         0.6219509228095992,
         -0.864971912871599,
         -0.40824829046386296,
         0.4006603019738179,
         0.8944864278418221,
         0.39884643544270687,
         0.898116014298968,
         0.037781284302725364
        ],
        [
         0.7350177127985357,
         1.1947896263848412,
         -0.40824829046386296,
         -0.6991850254059968,
         0.7967726843359316,
         -1.8944346425985956,
         1.1652206393074998,
         -0.40824829046386296,
         0.4006603019738179,
         0.8944864278418221,
         0.41398872577277457,
         0.898116014298968,
         0.7350177127985354
        ],
        [
         0.7350177127985357,
         -0.8644199569096855,
         2.4494897427831783,
         -0.6991850254059968,
         0.3239811392994783,
         0.6219509228095992,
         -0.864971912871599,
         2.449489742783178,
         0.41581618407587423,
         -0.1878669206413153,
         0.4291310161028408,
         -0.19354490922742154,
         0.7350177127985358
        ],
        [
         0.7350177127985357,
         -0.8644199569096855,
         -0.40824829046386296,
         -0.6991850254059968,
         0.3239811392994783,
         0.6219509228095992,
         -0.864971912871599,
         -0.40824829046386296,
         0.41581618407587423,
         -0.1878669206413153,
         0.4442733064329085,
         -0.19354490922742154,
         0.7350177127985356
        ],
        [
         -2.3183969913038056,
         1.0236159079128722,
         -0.40824829046386296,
         -1.2991009984590363,
         -2.4166783808333236,
         -1.2153199714494,
         1.0556632461525548,
         -0.40824829046386296,
         0.41581618407587423,
         -0.1878669206413153,
         0.3560303041645862,
         -0.19354490922742154,
         -2.318396991303805
        ]
       ],
       "datasetInfos": [],
       "dbfsResultPath": null,
       "isJsonSchema": true,
       "metadata": {},
       "overflow": false,
       "plotOptions": {
        "customPlotOptions": {},
        "displayType": "table",
        "pivotAggregation": null,
        "pivotColumns": null,
        "xColumns": null,
        "yColumns": null
       },
       "removedWidgets": [],
       "schema": [
        {
         "metadata": "{}",
         "name": "Total_revenues",
         "type": "\"double\""
        },
        {
         "metadata": "{}",
         "name": "Depreciation_and_amortization_expenses",
         "type": "\"double\""
        },
        {
         "metadata": "{}",
         "name": "Interest_expense",
         "type": "\"double\""
        },
        {
         "metadata": "{}",
         "name": "Net_income_loss",
         "type": "\"double\""
        },
        {
         "metadata": "{}",
         "name": "YoY_Revenue_Growth",
         "type": "\"double\""
        },
        {
         "metadata": "{}",
         "name": "YoY_Net_Income_Growth",
         "type": "\"double\""
        },
        {
         "metadata": "{}",
         "name": "Depreciation_Percent_Revenue",
         "type": "\"double\""
        },
        {
         "metadata": "{}",
         "name": "Interest_Expense_Percent_Revenue",
         "type": "\"double\""
        },
        {
         "metadata": "{}",
         "name": "Revenue_Lag_1",
         "type": "\"double\""
        },
        {
         "metadata": "{}",
         "name": "Net_Income_Lag_1",
         "type": "\"double\""
        },
        {
         "metadata": "{}",
         "name": "Revenue_Rolling_Avg_3Y",
         "type": "\"double\""
        },
        {
         "metadata": "{}",
         "name": "Profit_Margin_Lag_1",
         "type": "\"double\""
        },
        {
         "metadata": "{}",
         "name": "Predicted_Revenues",
         "type": "\"double\""
        }
       ],
       "type": "table"
      }
     },
     "output_type": "display_data"
    }
   ],
   "source": [
    "# Adding predictions to the entire DataFrame\n",
    "# Predict on the entire dataset to fill in all rows with predicted revenue values.\n",
    "df_ml_pandas['Predicted_Revenues'] = linear_model.predict(X)\n",
    "\n",
    "# Convert updated DataFrame back to Spark DataFrame\n",
    "df_ml_spark_updated = spark.createDataFrame(df_ml_pandas)\n",
    "\n",
    "# Save updated DataFrame as a CSV and as a Spark table\n",
    "output_csv_path = \"/dbfs/tmp/williams_finops_results.csv\"\n",
    "df_ml_spark_updated.write.mode(\"overwrite\").option(\"header\", True).csv(output_csv_path)\n",
    "df_ml_spark_updated.write.option(\"mergeSchema\", \"true\").mode('overwrite').saveAsTable(\"williams_finops_results\")\n",
    "\n",
    "# Display the Pandas DataFrame to enable manual download as CSV\n",
    "display(df_ml_pandas)\n",
    "\n",
    "\n",
    "\n"
   ]
  },
  {
   "cell_type": "markdown",
   "metadata": {
    "application/vnd.databricks.v1+cell": {
     "cellMetadata": {
      "byteLimit": 2048000,
      "rowLimit": 10000
     },
     "inputWidgets": {},
     "nuid": "d99b28a2-f475-4d2f-a9d0-4473618c01f0",
     "showTitle": false,
     "title": ""
    }
   },
   "source": [
    "In this final step, we ensure that our dataset is updated with the predictions made during training. The column Predicted_Revenues is initialized with NaN values, and then we update these values with predictions from our test data. This results in a more comprehensive dataset where both actual and predicted values are side-by-side, making it easier for downstream analysis. We then save this updated DataFrame to both a CSV file and a Spark table. Finally, we display it for easy access, such as manual downloads or visualizing in a tool like Power BI. This makes it particularly useful for stakeholders looking to gain insights or conduct further analysis on predicted versus actual revenues."
   ]
  },
  {
   "cell_type": "markdown",
   "metadata": {
    "application/vnd.databricks.v1+cell": {
     "cellMetadata": {
      "byteLimit": 2048000,
      "rowLimit": 10000
     },
     "inputWidgets": {},
     "nuid": "01fe5f5b-4f71-477d-8dd5-ff53b6bcdc28",
     "showTitle": false,
     "title": ""
    }
   },
   "source": [
    "## Next Steps for Power BI Visualization\n",
    "\n",
    "The next step in this project is to create an interactive Power BI dashboard that will effectively communicate the results and insights obtained from our analysis. The dashboard will include three main pages, each serving a specific purpose. The Overview Page will provide a high-level summary of the company's financial health, with key metrics such as revenue, profit, and growth rates highlighted. The Revenue & Profitability Trends Page will give more detailed insights, including historical trends and the forecasted metrics derived from our machine learning models. Finally, the Feature Impact & Model Insights Page will focus on the features that had the most significant impact on the predictions, providing business users with a better understanding of what drives financial performance. The overall goal is to make these insights actionable and easy to interpret, so decision-makers can leverage this data for strategic financial planning."
   ]
  },
  {
   "cell_type": "markdown",
   "metadata": {
    "application/vnd.databricks.v1+cell": {
     "cellMetadata": {
      "byteLimit": 2048000,
      "rowLimit": 10000
     },
     "inputWidgets": {},
     "nuid": "72ddb346-a56b-4d21-84a7-a4815d1ce838",
     "showTitle": false,
     "title": ""
    }
   },
   "source": [
    "This concludes the machine learning analysis part of the project. The focus will now shift towards effectively communicating these results in a visual form using Power BI to provide stakeholders with actionable insights into the financial health and optimization possibilities for the business."
   ]
  }
 ],
 "metadata": {
  "application/vnd.databricks.v1+notebook": {
   "dashboards": [],
   "environmentMetadata": null,
   "language": "python",
   "notebookMetadata": {
    "pythonIndentUnit": 4
   },
   "notebookName": "Williams_FinOps_Optimization_ML_Model_Development",
   "widgets": {}
  }
 },
 "nbformat": 4,
 "nbformat_minor": 0
}
