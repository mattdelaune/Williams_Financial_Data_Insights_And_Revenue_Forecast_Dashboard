{
 "cells": [
  {
   "cell_type": "markdown",
   "metadata": {
    "application/vnd.databricks.v1+cell": {
     "cellMetadata": {
      "byteLimit": 2048000,
      "rowLimit": 10000
     },
     "inputWidgets": {},
     "nuid": "96816ed7-b08a-4ca3-abb9-f99880c3535d",
     "showTitle": false,
     "title": ""
    }
   },
   "source": [
    "\n",
    "# Williams FinOps Preperation: Data Preperation & Feature Engineering\n",
    "\n",
    "This notebook serves as a comprehensive guide for the preparation of financial data, leading up to predictive analysis. We work through various stages—data loading, extraction, cleaning, consolidation, and feature engineering—to ensure the data is accurate, insightful, and ready for modeling. The intention is to create a transparent, well-documented process and is reproducible."
   ]
  },
  {
   "cell_type": "markdown",
   "metadata": {
    "application/vnd.databricks.v1+cell": {
     "cellMetadata": {
      "byteLimit": 2048000,
      "rowLimit": 10000
     },
     "inputWidgets": {},
     "nuid": "968da25b-d9aa-4dda-a29d-1b44db60517d",
     "showTitle": false,
     "title": ""
    }
   },
   "source": [
    "\n",
    "## Table of Contents\n",
    "\n",
    "1. **Data Loading**\n",
    "2. **Data Extraction**\n",
    "3. **Data Cleaning**\n",
    "4. **Data Consolidation**\n",
    "5. **Final Sanity Check**\n",
    "6. **Feature Engineering**\n",
    "7. **Advanced Feature Engineering for Predictive Analysis**\n",
    "8. **Data Inspection**\n",
    "9. **Saving the Feature-Engineered DataFrame**\n"
   ]
  },
  {
   "cell_type": "markdown",
   "metadata": {
    "application/vnd.databricks.v1+cell": {
     "cellMetadata": {
      "byteLimit": 2048000,
      "rowLimit": 10000
     },
     "inputWidgets": {},
     "nuid": "cb183369-974c-41ca-905a-25ddc53b3a3a",
     "showTitle": false,
     "title": ""
    }
   },
   "source": [
    "# Data Loading\n",
    "\n",
    "In this section, the financial data files (10-K reports) from 2012 to 2023 were loaded into Python. Each file was accessed from DBFS using its path, and downloaded to a local temporary directory. This was implemented to keep data organized and to minimize any runtime issues when dealing with multiple large files. The goal here was to establish a robust foundation for further data manipulation, ensuring that all relevant files were properly accessed and loaded without issues."
   ]
  },
  {
   "cell_type": "code",
   "execution_count": 0,
   "metadata": {
    "application/vnd.databricks.v1+cell": {
     "cellMetadata": {
      "byteLimit": 2048000,
      "rowLimit": 10000
     },
     "inputWidgets": {},
     "nuid": "bd82bb99-1479-4d5c-be10-8c36df0f1d44",
     "showTitle": true,
     "title": "Data Loading"
    }
   },
   "outputs": [
    {
     "output_type": "stream",
     "name": "stdout",
     "output_type": "stream",
     "text": [
      "Table 'Williams_10_K_2012' created successfully.\nTable 'Williams_10_K_2013' created successfully.\nTable 'Williams_10_K_2014' created successfully.\nTable 'Williams_10_K_2015' created successfully.\nTable 'Williams_10_K_2016' created successfully.\nTable 'Williams_10_K_2017' created successfully.\nTable 'Williams_10_K_2018' created successfully.\nTable 'Williams_10_K_2019' created successfully.\nTable 'Williams_10_K_2020' created successfully.\nTable 'Williams_10_K_2021' created successfully.\nTable 'Williams_10_K_2022' created successfully.\nTable 'Williams_10_K_2023' created successfully.\n+--------+--------------------+-----------+\n|database|           tableName|isTemporary|\n+--------+--------------------+-----------+\n| default|feature_engineere...|      false|\n| default|  williams_10_k_2012|      false|\n| default|  williams_10_k_2013|      false|\n| default|  williams_10_k_2014|      false|\n| default|  williams_10_k_2015|      false|\n| default|  williams_10_k_2016|      false|\n| default|  williams_10_k_2017|      false|\n| default|  williams_10_k_2018|      false|\n| default|  williams_10_k_2019|      false|\n| default|  williams_10_k_2020|      false|\n| default|  williams_10_k_2021|      false|\n| default|  williams_10_k_2022|      false|\n| default|  williams_10_k_2023|      false|\n+--------+--------------------+-----------+\n\n"
     ]
    }
   ],
   "source": [
    "import os\n",
    "import pandas as pd\n",
    "import numpy as np\n",
    "\n",
    "# Helper function to clean column names\n",
    "def clean_column_names(df):\n",
    "    for col in df.columns:\n",
    "        clean_col = col.replace(\" \", \"_\").replace(\"(\", \"\").replace(\")\", \"\").lower()\n",
    "        df = df.withColumnRenamed(col, clean_col)\n",
    "    return df\n",
    "\n",
    "# Function to process each Excel file\n",
    "def process_excel_file(file_path):\n",
    "    try:\n",
    "        # Load the Excel file using Spark's capabilities\n",
    "        excel_spark_df = spark.read.format(\"com.crealytics.spark.excel\") \\\n",
    "            .option(\"header\", \"true\") \\\n",
    "            .option(\"inferSchema\", \"true\") \\\n",
    "            .option(\"sheetName\", \"consolidated overview\") \\\n",
    "            .load(file_path)\n",
    "        \n",
    "        # Clean the column names\n",
    "        excel_spark_df = clean_column_names(excel_spark_df)\n",
    "        \n",
    "        # Get file name for table naming purposes\n",
    "        file_name = os.path.basename(file_path).replace(\".xls\", \"\").replace(\".xlsx\", \"\")\n",
    "        \n",
    "        # Save the Spark DataFrame as a table in Databricks with the cleaned file name\n",
    "        table_name = file_name\n",
    "        excel_spark_df.write.mode(\"overwrite\").saveAsTable(table_name)\n",
    "        \n",
    "        # Output the table creation result\n",
    "        print(f\"Table '{table_name}' created successfully.\")\n",
    "    \n",
    "    except Exception as e:\n",
    "        print(f\"Error reading file {file_path}: {str(e)}\")\n",
    "\n",
    "# List of file paths for the Excel files\n",
    "file_paths = [\n",
    "    \"dbfs:/FileStore/tables/Williams_10_K_2012.xls\",\n",
    "    \"dbfs:/FileStore/tables/Williams_10_K_2013.xls\",\n",
    "    \"dbfs:/FileStore/tables/Williams_10_K_2014.xls\",\n",
    "    \"dbfs:/FileStore/tables/Williams_10_K_2015.xls\",\n",
    "    \"dbfs:/FileStore/tables/Williams_10_K_2016.xls\",\n",
    "    \"dbfs:/FileStore/tables/Williams_10_K_2017.xls\",\n",
    "    \"dbfs:/FileStore/tables/Williams_10_K_2018.xls\",\n",
    "    \"dbfs:/FileStore/tables/Williams_10_K_2019.xls\",\n",
    "    \"dbfs:/FileStore/tables/Williams_10_K_2020.xls\",\n",
    "    \"dbfs:/FileStore/tables/Williams_10_K_2021.xls\",\n",
    "    \"dbfs:/FileStore/tables/Williams_10_K_2022.xls\",\n",
    "    \"dbfs:/FileStore/tables/Williams_10_K_2023.xls\"\n",
    "]\n",
    "\n",
    "# Process all files and create the corresponding tables\n",
    "for file_path in file_paths:\n",
    "    process_excel_file(file_path)\n",
    "\n",
    "# Display the tables in the database after creation\n",
    "df_tables = spark.sql(\"SHOW TABLES\")\n",
    "df_tables.show()\n",
    "\n"
   ]
  },
  {
   "cell_type": "code",
   "execution_count": 0,
   "metadata": {
    "application/vnd.databricks.v1+cell": {
     "cellMetadata": {
      "byteLimit": 2048000,
      "implicitDf": true,
      "rowLimit": 10000
     },
     "inputWidgets": {},
     "nuid": "2516db36-1299-4e76-be52-53795982a290",
     "showTitle": false,
     "title": ""
    }
   },
   "outputs": [
    {
     "output_type": "display_data",
     "data": {
      "text/html": [
       "<style scoped>\n",
       "  .table-result-container {\n",
       "    max-height: 300px;\n",
       "    overflow: auto;\n",
       "  }\n",
       "  table, th, td {\n",
       "    border: 1px solid black;\n",
       "    border-collapse: collapse;\n",
       "  }\n",
       "  th, td {\n",
       "    padding: 5px;\n",
       "  }\n",
       "  th {\n",
       "    text-align: left;\n",
       "  }\n",
       "</style><div class='table-result-container'><table class='table-result'><thead style='background-color: white'><tr><th>database</th><th>tableName</th><th>isTemporary</th></tr></thead><tbody><tr><td>default</td><td>feature_engineered_table</td><td>false</td></tr><tr><td>default</td><td>williams_10_k_2012</td><td>false</td></tr><tr><td>default</td><td>williams_10_k_2013</td><td>false</td></tr><tr><td>default</td><td>williams_10_k_2014</td><td>false</td></tr><tr><td>default</td><td>williams_10_k_2015</td><td>false</td></tr><tr><td>default</td><td>williams_10_k_2016</td><td>false</td></tr><tr><td>default</td><td>williams_10_k_2017</td><td>false</td></tr><tr><td>default</td><td>williams_10_k_2018</td><td>false</td></tr><tr><td>default</td><td>williams_10_k_2019</td><td>false</td></tr><tr><td>default</td><td>williams_10_k_2020</td><td>false</td></tr><tr><td>default</td><td>williams_10_k_2021</td><td>false</td></tr><tr><td>default</td><td>williams_10_k_2022</td><td>false</td></tr><tr><td>default</td><td>williams_10_k_2023</td><td>false</td></tr></tbody></table></div>"
      ]
     },
     "metadata": {
      "application/vnd.databricks.v1+output": {
       "addedWidgets": {},
       "aggData": [],
       "aggError": "",
       "aggOverflow": false,
       "aggSchema": [],
       "aggSeriesLimitReached": false,
       "aggType": "",
       "arguments": {},
       "columnCustomDisplayInfos": {},
       "data": [
        [
         "default",
         "feature_engineered_table",
         false
        ],
        [
         "default",
         "williams_10_k_2012",
         false
        ],
        [
         "default",
         "williams_10_k_2013",
         false
        ],
        [
         "default",
         "williams_10_k_2014",
         false
        ],
        [
         "default",
         "williams_10_k_2015",
         false
        ],
        [
         "default",
         "williams_10_k_2016",
         false
        ],
        [
         "default",
         "williams_10_k_2017",
         false
        ],
        [
         "default",
         "williams_10_k_2018",
         false
        ],
        [
         "default",
         "williams_10_k_2019",
         false
        ],
        [
         "default",
         "williams_10_k_2020",
         false
        ],
        [
         "default",
         "williams_10_k_2021",
         false
        ],
        [
         "default",
         "williams_10_k_2022",
         false
        ],
        [
         "default",
         "williams_10_k_2023",
         false
        ]
       ],
       "datasetInfos": [],
       "dbfsResultPath": null,
       "isJsonSchema": true,
       "metadata": {},
       "overflow": false,
       "plotOptions": {
        "customPlotOptions": {},
        "displayType": "table",
        "pivotAggregation": null,
        "pivotColumns": null,
        "xColumns": null,
        "yColumns": null
       },
       "removedWidgets": [],
       "schema": [
        {
         "metadata": "{}",
         "name": "database",
         "type": "\"string\""
        },
        {
         "metadata": "{}",
         "name": "tableName",
         "type": "\"string\""
        },
        {
         "metadata": "{}",
         "name": "isTemporary",
         "type": "\"boolean\""
        }
       ],
       "type": "table"
      }
     },
     "output_type": "display_data"
    }
   ],
   "source": [
    "%sql\n",
    "\n",
    "SHOW TABLES"
   ]
  },
  {
   "cell_type": "code",
   "execution_count": 0,
   "metadata": {
    "application/vnd.databricks.v1+cell": {
     "cellMetadata": {
      "byteLimit": 2048000,
      "rowLimit": 10000
     },
     "inputWidgets": {},
     "nuid": "1ee22a13-30c5-4219-8599-f668e22095f3",
     "showTitle": false,
     "title": ""
    }
   },
   "outputs": [
    {
     "output_type": "stream",
     "name": "stdout",
     "output_type": "stream",
     "text": [
      "dbfs:/FileStore/tables/Q1_Williams_10_Q_2021.xls\ndbfs:/FileStore/tables/Q1_Williams_10_Q_2022.xls\ndbfs:/FileStore/tables/Q1_Williams_10_Q_2023.xls\ndbfs:/FileStore/tables/Q1_Williams_10_Q_2024.xls\ndbfs:/FileStore/tables/Q2_Williams_10_Q_2021.xls\ndbfs:/FileStore/tables/Q2_Williams_10_Q_2022.xls\ndbfs:/FileStore/tables/Q2_Williams_10_Q_2023.xls\ndbfs:/FileStore/tables/Q2_Williams_10_Q_2024.xls\ndbfs:/FileStore/tables/Q3_Williams_10_Q_2021.xls\ndbfs:/FileStore/tables/Q3_Williams_10_Q_2022.xls\ndbfs:/FileStore/tables/Q3_Williams_10_Q_2023.xls\ndbfs:/FileStore/tables/Williams_10_K_2012.xls\ndbfs:/FileStore/tables/Williams_10_K_2013.xls\ndbfs:/FileStore/tables/Williams_10_K_2014.xls\ndbfs:/FileStore/tables/Williams_10_K_2015.xls\ndbfs:/FileStore/tables/Williams_10_K_2016.xls\ndbfs:/FileStore/tables/Williams_10_K_2017.xls\ndbfs:/FileStore/tables/Williams_10_K_2018.xls\ndbfs:/FileStore/tables/Williams_10_K_2019.xls\ndbfs:/FileStore/tables/Williams_10_K_2020.xls\ndbfs:/FileStore/tables/Williams_10_K_2021.xls\ndbfs:/FileStore/tables/Williams_10_K_2022.xls\ndbfs:/FileStore/tables/Williams_10_K_2023.xls\n"
     ]
    }
   ],
   "source": [
    "# List all files in the /FileStore/tables directory\n",
    "files = dbutils.fs.ls(\"/FileStore/tables/\")\n",
    "\n",
    "# Print out the paths of all files in the directory\n",
    "for file in files:\n",
    "    print(file.path)\n"
   ]
  },
  {
   "cell_type": "markdown",
   "metadata": {
    "application/vnd.databricks.v1+cell": {
     "cellMetadata": {
      "byteLimit": 2048000,
      "rowLimit": 10000
     },
     "inputWidgets": {},
     "nuid": "063a6991-e8c9-4fe0-b987-b0c608d3a016",
     "showTitle": false,
     "title": ""
    }
   },
   "source": [
    "# Data Extraction\n",
    "\n",
    "Once the files were loaded, the relevant data was extracted- focusing exclusivly on the \"Consolidated Overview\" sheets in each report in orrder to access the relevent information in the most streamlined way. The data was transposed and cleaned to create a consistent structure for analysis. Given that each financial report varied slightly in layout, this step ensured uniformity across all datasets, allowing for efficient comparison and consolidation of data for the subsequent steps."
   ]
  },
  {
   "cell_type": "code",
   "execution_count": 0,
   "metadata": {
    "application/vnd.databricks.v1+cell": {
     "cellMetadata": {
      "byteLimit": 2048000,
      "rowLimit": 10000
     },
     "inputWidgets": {},
     "nuid": "3cb33d42-3474-43be-8a2c-5fe1021b7d8e",
     "showTitle": false,
     "title": ""
    }
   },
   "outputs": [
    {
     "output_type": "stream",
     "name": "stdout",
     "output_type": "stream",
     "text": [
      "Python interpreter will be restarted.\nRequirement already satisfied: xlrd in /local_disk0/.ephemeral_nfs/cluster_libraries/python/lib/python3.9/site-packages (2.0.1)\nPython interpreter will be restarted.\n"
     ]
    }
   ],
   "source": [
    "%pip install xlrd --upgrade"
   ]
  },
  {
   "cell_type": "code",
   "execution_count": 0,
   "metadata": {
    "application/vnd.databricks.v1+cell": {
     "cellMetadata": {
      "byteLimit": 2048000,
      "rowLimit": 10000
     },
     "inputWidgets": {},
     "nuid": "70ac04cf-9dcd-4bdf-8dad-dcb2dab73339",
     "showTitle": true,
     "title": "Data Extraction ('consolidated overview' sheet)"
    }
   },
   "outputs": [
    {
     "output_type": "display_data",
     "data": {
      "application/vnd.databricks.v1+bamboolib_hint": "{\"pd.DataFrames\": [], \"version\": \"0.0.1\"}",
      "text/plain": []
     },
     "metadata": {},
     "output_type": "display_data"
    },
    {
     "output_type": "stream",
     "name": "stdout",
     "output_type": "stream",
     "text": [
      "Preview of 'Consolidated Overview' from file '/tmp/Williams_10_K_2012.xls':\n              Unnamed: 0  Unnamed: 1                Unnamed: 2 Unnamed: 3  \\\n0  Consolidated Overview         NaN                       NaN        NaN   \n1                    NaN         NaN                       NaN        NaN   \n2                    NaN         NaN                       NaN        NaN   \n3                    NaN         NaN  Years Ended December 31,        NaN   \n4                    NaN         NaN                      2012        NaN   \n\n   Unnamed: 4  Unnamed: 5             Unnamed: 6  Unnamed: 7  Unnamed: 8  \\\n0         NaN         NaN                    NaN         NaN         NaN   \n1         NaN         NaN                    NaN         NaN         NaN   \n2         NaN         NaN                    NaN         NaN         NaN   \n3         NaN         NaN                    NaN         NaN         NaN   \n4         NaN         NaN  $ Change\\nfrom\\n2011*         NaN         NaN   \n\n   Unnamed: 9  ...            Unnamed: 18 Unnamed: 19  Unnamed: 20  \\\n0         NaN  ...                    NaN         NaN          NaN   \n1         NaN  ...                    NaN         NaN          NaN   \n2         NaN  ...                    NaN         NaN          NaN   \n3         NaN  ...                    NaN         NaN          NaN   \n4         NaN  ...  $ Change\\nfrom\\n2010*         NaN          NaN   \n\n   Unnamed: 21            Unnamed: 22  Unnamed: 23  Unnamed: 24  Unnamed: 25  \\\n0          NaN                    NaN          NaN          NaN          NaN   \n1          NaN                    NaN          NaN          NaN          NaN   \n2          NaN                    NaN          NaN          NaN          NaN   \n3          NaN                    NaN          NaN          NaN          NaN   \n4          NaN  % Change\\nfrom\\n2010*          NaN          NaN          NaN   \n\n  Unnamed: 26  Unnamed: 27  \n0         NaN          NaN  \n1         NaN          NaN  \n2         NaN          NaN  \n3         NaN          NaN  \n4      2010.0          NaN  \n\n[5 rows x 28 columns]\nPreview of 'Consolidated Overview' from file '/tmp/Williams_10_K_2013.xls':\n              Unnamed: 0                Unnamed: 1  Unnamed: 2  Unnamed: 3  \\\n0  Consolidated Overview                       NaN         NaN         NaN   \n1                    NaN                       NaN         NaN         NaN   \n2                    NaN                       NaN         NaN         NaN   \n3                    NaN                       NaN         NaN         NaN   \n4                    NaN  Years Ended December 31,         NaN         NaN   \n\n   Unnamed: 4 Unnamed: 5  Unnamed: 6  Unnamed: 7 Unnamed: 8  Unnamed: 9  \\\n0         NaN        NaN         NaN         NaN        NaN         NaN   \n1         NaN        NaN         NaN         NaN        NaN         NaN   \n2         NaN        NaN         NaN         NaN        NaN         NaN   \n3         NaN        NaN         NaN         NaN        NaN         NaN   \n4         NaN        NaN         NaN         NaN        NaN         NaN   \n\n   Unnamed: 10 Unnamed: 11  Unnamed: 12  Unnamed: 13  Unnamed: 14 Unnamed: 15  \\\n0          NaN         NaN          NaN          NaN          NaN         NaN   \n1          NaN         NaN          NaN          NaN          NaN         NaN   \n2          NaN         NaN          NaN          NaN          NaN         NaN   \n3          NaN         NaN          NaN          NaN          NaN         NaN   \n4          NaN         NaN          NaN          NaN          NaN         NaN   \n\n   Unnamed: 16 Unnamed: 17  Unnamed: 18  Unnamed: 19  \n0          NaN         NaN          NaN          NaN  \n1          NaN         NaN          NaN          NaN  \n2          NaN         NaN          NaN          NaN  \n3          NaN         NaN          NaN          NaN  \n4          NaN         NaN          NaN          NaN  \nPreview of 'Consolidated Overview' from file '/tmp/Williams_10_K_2014.xls':\n              Unnamed: 0                Unnamed: 1  Unnamed: 2  Unnamed: 3  \\\n0  Consolidated Overview                       NaN         NaN         NaN   \n1                    NaN                       NaN         NaN         NaN   \n2                    NaN                       NaN         NaN         NaN   \n3                    NaN                       NaN         NaN         NaN   \n4                    NaN  Years Ended December 31,         NaN         NaN   \n\n   Unnamed: 4 Unnamed: 5  Unnamed: 6  Unnamed: 7 Unnamed: 8  Unnamed: 9  ...  \\\n0         NaN        NaN         NaN         NaN        NaN         NaN  ...   \n1         NaN        NaN         NaN         NaN        NaN         NaN  ...   \n2         NaN        NaN         NaN         NaN        NaN         NaN  ...   \n3         NaN        NaN         NaN         NaN        NaN         NaN  ...   \n4         NaN        NaN         NaN         NaN        NaN         NaN  ...   \n\n   Unnamed: 12 Unnamed: 13  Unnamed: 14  Unnamed: 15  Unnamed: 16 Unnamed: 17  \\\n0          NaN         NaN          NaN          NaN          NaN         NaN   \n1          NaN         NaN          NaN          NaN          NaN         NaN   \n2          NaN         NaN          NaN          NaN          NaN         NaN   \n3          NaN         NaN          NaN          NaN          NaN         NaN   \n4          NaN         NaN          NaN          NaN          NaN         NaN   \n\n   Unnamed: 18  Unnamed: 19 Unnamed: 20  Unnamed: 21  \n0          NaN          NaN         NaN          NaN  \n1          NaN          NaN         NaN          NaN  \n2          NaN          NaN         NaN          NaN  \n3          NaN          NaN         NaN          NaN  \n4          NaN          NaN         NaN          NaN  \n\n[5 rows x 22 columns]\nPreview of 'Consolidated Overview' from file '/tmp/Williams_10_K_2015.xls':\n              Unnamed: 0                Unnamed: 1  Unnamed: 2  Unnamed: 3  \\\n0  Consolidated Overview                       NaN         NaN         NaN   \n1                    NaN                       NaN         NaN         NaN   \n2                    NaN                       NaN         NaN         NaN   \n3                    NaN                       NaN         NaN         NaN   \n4                    NaN  Years Ended December 31,         NaN         NaN   \n\n   Unnamed: 4 Unnamed: 5  Unnamed: 6  Unnamed: 7 Unnamed: 8  Unnamed: 9  ...  \\\n0         NaN        NaN         NaN         NaN        NaN         NaN  ...   \n1         NaN        NaN         NaN         NaN        NaN         NaN  ...   \n2         NaN        NaN         NaN         NaN        NaN         NaN  ...   \n3         NaN        NaN         NaN         NaN        NaN         NaN  ...   \n4         NaN        NaN         NaN         NaN        NaN         NaN  ...   \n\n   Unnamed: 12 Unnamed: 13  Unnamed: 14  Unnamed: 15  Unnamed: 16 Unnamed: 17  \\\n0          NaN         NaN          NaN          NaN          NaN         NaN   \n1          NaN         NaN          NaN          NaN          NaN         NaN   \n2          NaN         NaN          NaN          NaN          NaN         NaN   \n3          NaN         NaN          NaN          NaN          NaN         NaN   \n4          NaN         NaN          NaN          NaN          NaN         NaN   \n\n   Unnamed: 18  Unnamed: 19 Unnamed: 20  Unnamed: 21  \n0          NaN          NaN         NaN          NaN  \n1          NaN          NaN         NaN          NaN  \n2          NaN          NaN         NaN          NaN  \n3          NaN          NaN         NaN          NaN  \n4          NaN          NaN         NaN          NaN  \n\n[5 rows x 22 columns]\nPreview of 'Consolidated Overview' from file '/tmp/Williams_10_K_2016.xls':\n              Unnamed: 0                Unnamed: 1  Unnamed: 2  Unnamed: 3  \\\n0  Consolidated Overview                       NaN         NaN         NaN   \n1                    NaN                       NaN         NaN         NaN   \n2                    NaN                       NaN         NaN         NaN   \n3                    NaN                       NaN         NaN         NaN   \n4                    NaN  Years Ended December 31,         NaN         NaN   \n\n   Unnamed: 4 Unnamed: 5  Unnamed: 6  Unnamed: 7 Unnamed: 8  Unnamed: 9  ...  \\\n0         NaN        NaN         NaN         NaN        NaN         NaN  ...   \n1         NaN        NaN         NaN         NaN        NaN         NaN  ...   \n2         NaN        NaN         NaN         NaN        NaN         NaN  ...   \n3         NaN        NaN         NaN         NaN        NaN         NaN  ...   \n4         NaN        NaN         NaN         NaN        NaN         NaN  ...   \n\n   Unnamed: 12 Unnamed: 13  Unnamed: 14  Unnamed: 15  Unnamed: 16 Unnamed: 17  \\\n0          NaN         NaN          NaN          NaN          NaN         NaN   \n1          NaN         NaN          NaN          NaN          NaN         NaN   \n2          NaN         NaN          NaN          NaN          NaN         NaN   \n3          NaN         NaN          NaN          NaN          NaN         NaN   \n4          NaN         NaN          NaN          NaN          NaN         NaN   \n\n   Unnamed: 18  Unnamed: 19 Unnamed: 20  Unnamed: 21  \n0          NaN          NaN         NaN          NaN  \n1          NaN          NaN         NaN          NaN  \n2          NaN          NaN         NaN          NaN  \n3          NaN          NaN         NaN          NaN  \n4          NaN          NaN         NaN          NaN  \n\n[5 rows x 22 columns]\nPreview of 'Consolidated Overview' from file '/tmp/Williams_10_K_2017.xls':\n              Unnamed: 0                Unnamed: 1  Unnamed: 2  Unnamed: 3  \\\n0  Consolidated Overview                       NaN         NaN         NaN   \n1                    NaN                       NaN         NaN         NaN   \n2                    NaN                       NaN         NaN         NaN   \n3                    NaN                       NaN         NaN         NaN   \n4                    NaN  Years Ended December 31,         NaN         NaN   \n\n   Unnamed: 4 Unnamed: 5  Unnamed: 6  Unnamed: 7 Unnamed: 8  Unnamed: 9  ...  \\\n0         NaN        NaN         NaN         NaN        NaN         NaN  ...   \n1         NaN        NaN         NaN         NaN        NaN         NaN  ...   \n2         NaN        NaN         NaN         NaN        NaN         NaN  ...   \n3         NaN        NaN         NaN         NaN        NaN         NaN  ...   \n4         NaN        NaN         NaN         NaN        NaN         NaN  ...   \n\n   Unnamed: 12 Unnamed: 13  Unnamed: 14  Unnamed: 15  Unnamed: 16 Unnamed: 17  \\\n0          NaN         NaN          NaN          NaN          NaN         NaN   \n1          NaN         NaN          NaN          NaN          NaN         NaN   \n2          NaN         NaN          NaN          NaN          NaN         NaN   \n3          NaN         NaN          NaN          NaN          NaN         NaN   \n4          NaN         NaN          NaN          NaN          NaN         NaN   \n\n   Unnamed: 18  Unnamed: 19 Unnamed: 20  Unnamed: 21  \n0          NaN          NaN         NaN          NaN  \n1          NaN          NaN         NaN          NaN  \n2          NaN          NaN         NaN          NaN  \n3          NaN          NaN         NaN          NaN  \n4          NaN          NaN         NaN          NaN  \n\n[5 rows x 22 columns]\nPreview of 'Consolidated Overview' from file '/tmp/Williams_10_K_2018.xls':\n              Unnamed: 0                Unnamed: 1  Unnamed: 2  Unnamed: 3  \\\n0  Consolidated Overview                       NaN         NaN         NaN   \n1                    NaN                       NaN         NaN         NaN   \n2                    NaN                       NaN         NaN         NaN   \n3                    NaN                       NaN         NaN         NaN   \n4                    NaN  Years Ended December 31,         NaN         NaN   \n\n   Unnamed: 4 Unnamed: 5  Unnamed: 6  Unnamed: 7 Unnamed: 8  Unnamed: 9  ...  \\\n0         NaN        NaN         NaN         NaN        NaN         NaN  ...   \n1         NaN        NaN         NaN         NaN        NaN         NaN  ...   \n2         NaN        NaN         NaN         NaN        NaN         NaN  ...   \n3         NaN        NaN         NaN         NaN        NaN         NaN  ...   \n4         NaN        NaN         NaN         NaN        NaN         NaN  ...   \n\n   Unnamed: 12 Unnamed: 13  Unnamed: 14  Unnamed: 15  Unnamed: 16 Unnamed: 17  \\\n0          NaN         NaN          NaN          NaN          NaN         NaN   \n1          NaN         NaN          NaN          NaN          NaN         NaN   \n2          NaN         NaN          NaN          NaN          NaN         NaN   \n3          NaN         NaN          NaN          NaN          NaN         NaN   \n4          NaN         NaN          NaN          NaN          NaN         NaN   \n\n   Unnamed: 18  Unnamed: 19 Unnamed: 20  Unnamed: 21  \n0          NaN          NaN         NaN          NaN  \n1          NaN          NaN         NaN          NaN  \n2          NaN          NaN         NaN          NaN  \n3          NaN          NaN         NaN          NaN  \n4          NaN          NaN         NaN          NaN  \n\n[5 rows x 22 columns]\nPreview of 'Consolidated Overview' from file '/tmp/Williams_10_K_2019.xls':\n              Unnamed: 0               Unnamed: 1  Unnamed: 2  Unnamed: 3  \\\n0  Consolidated Overview                      NaN         NaN         NaN   \n1                    NaN                      NaN         NaN         NaN   \n2                    NaN                      NaN         NaN         NaN   \n3                    NaN                      NaN         NaN         NaN   \n4                    NaN  Year Ended December 31,         NaN         NaN   \n\n   Unnamed: 4 Unnamed: 5  Unnamed: 6  Unnamed: 7 Unnamed: 8  Unnamed: 9  ...  \\\n0         NaN        NaN         NaN         NaN        NaN         NaN  ...   \n1         NaN        NaN         NaN         NaN        NaN         NaN  ...   \n2         NaN        NaN         NaN         NaN        NaN         NaN  ...   \n3         NaN        NaN         NaN         NaN        NaN         NaN  ...   \n4         NaN        NaN         NaN         NaN        NaN         NaN  ...   \n\n   Unnamed: 12 Unnamed: 13  Unnamed: 14  Unnamed: 15  Unnamed: 16 Unnamed: 17  \\\n0          NaN         NaN          NaN          NaN          NaN         NaN   \n1          NaN         NaN          NaN          NaN          NaN         NaN   \n2          NaN         NaN          NaN          NaN          NaN         NaN   \n3          NaN         NaN          NaN          NaN          NaN         NaN   \n4          NaN         NaN          NaN          NaN          NaN         NaN   \n\n   Unnamed: 18  Unnamed: 19 Unnamed: 20  Unnamed: 21  \n0          NaN          NaN         NaN          NaN  \n1          NaN          NaN         NaN          NaN  \n2          NaN          NaN         NaN          NaN  \n3          NaN          NaN         NaN          NaN  \n4          NaN          NaN         NaN          NaN  \n\n[5 rows x 22 columns]\nPreview of 'Consolidated Overview' from file '/tmp/Williams_10_K_2020.xls':\n              Unnamed: 0  Unnamed: 1  Unnamed: 2               Unnamed: 3  \\\n0  Consolidated Overview         NaN         NaN                      NaN   \n1                    NaN         NaN         NaN                      NaN   \n2                    NaN         NaN         NaN                      NaN   \n3                    NaN         NaN         NaN  Year Ended December 31,   \n4                    NaN         NaN         NaN                     2020   \n\n   Unnamed: 4  Unnamed: 5  Unnamed: 6  Unnamed: 7  Unnamed: 8  \\\n0         NaN         NaN         NaN         NaN         NaN   \n1         NaN         NaN         NaN         NaN         NaN   \n2         NaN         NaN         NaN         NaN         NaN   \n3         NaN         NaN         NaN         NaN         NaN   \n4         NaN         NaN         NaN         NaN         NaN   \n\n                  Unnamed: 9  ...  Unnamed: 30  Unnamed: 31  Unnamed: 32  \\\n0                        NaN  ...          NaN          NaN          NaN   \n1                        NaN  ...          NaN          NaN          NaN   \n2                        NaN  ...          NaN          NaN          NaN   \n3                        NaN  ...          NaN          NaN          NaN   \n4  $ Change \\n from \\n 2019*  ...          NaN          NaN          NaN   \n\n                 Unnamed: 33  Unnamed: 34 Unnamed: 35  Unnamed: 36  \\\n0                        NaN          NaN         NaN          NaN   \n1                        NaN          NaN         NaN          NaN   \n2                        NaN          NaN         NaN          NaN   \n3                        NaN          NaN         NaN          NaN   \n4  % Change \\n from \\n 2018*          NaN         NaN          NaN   \n\n   Unnamed: 37  Unnamed: 38  Unnamed: 39  \n0          NaN          NaN          NaN  \n1          NaN          NaN          NaN  \n2          NaN          NaN          NaN  \n3          NaN          NaN          NaN  \n4          NaN          NaN         2018  \n\n[5 rows x 40 columns]\nPreview of 'Consolidated Overview' from file '/tmp/Williams_10_K_2021.xls':\n              Unnamed: 0  Unnamed: 1  Unnamed: 2               Unnamed: 3  \\\n0  Consolidated Overview         NaN         NaN                      NaN   \n1                    NaN         NaN         NaN                      NaN   \n2                    NaN         NaN         NaN                      NaN   \n3                    NaN         NaN         NaN  Year Ended December 31,   \n4                    NaN         NaN         NaN                     2021   \n\n   Unnamed: 4  Unnamed: 5  Unnamed: 6  Unnamed: 7  Unnamed: 8  \\\n0         NaN         NaN         NaN         NaN         NaN   \n1         NaN         NaN         NaN         NaN         NaN   \n2         NaN         NaN         NaN         NaN         NaN   \n3         NaN         NaN         NaN         NaN         NaN   \n4         NaN         NaN         NaN         NaN         NaN   \n\n                  Unnamed: 9  ...  Unnamed: 30  Unnamed: 31  Unnamed: 32  \\\n0                        NaN  ...          NaN          NaN          NaN   \n1                        NaN  ...          NaN          NaN          NaN   \n2                        NaN  ...          NaN          NaN          NaN   \n3                        NaN  ...          NaN          NaN          NaN   \n4  $ Change \\n from \\n 2020*  ...          NaN          NaN          NaN   \n\n                 Unnamed: 33  Unnamed: 34 Unnamed: 35  Unnamed: 36  \\\n0                        NaN          NaN         NaN          NaN   \n1                        NaN          NaN         NaN          NaN   \n2                        NaN          NaN         NaN          NaN   \n3                        NaN          NaN         NaN          NaN   \n4  % Change \\n from \\n 2019*          NaN         NaN          NaN   \n\n   Unnamed: 37  Unnamed: 38  Unnamed: 39  \n0          NaN          NaN          NaN  \n1          NaN          NaN          NaN  \n2          NaN          NaN          NaN  \n3          NaN          NaN          NaN  \n4          NaN          NaN         2019  \n\n[5 rows x 40 columns]\nPreview of 'Consolidated Overview' from file '/tmp/Williams_10_K_2022.xls':\n              Unnamed: 0  Unnamed: 1  Unnamed: 2               Unnamed: 3  \\\n0  Consolidated Overview         NaN         NaN                      NaN   \n1                    NaN         NaN         NaN                      NaN   \n2                    NaN         NaN         NaN                      NaN   \n3                    NaN         NaN         NaN  Year Ended December 31,   \n4                    NaN         NaN         NaN                     2022   \n\n   Unnamed: 4  Unnamed: 5  Unnamed: 6  Unnamed: 7  Unnamed: 8  \\\n0         NaN         NaN         NaN         NaN         NaN   \n1         NaN         NaN         NaN         NaN         NaN   \n2         NaN         NaN         NaN         NaN         NaN   \n3         NaN         NaN         NaN         NaN         NaN   \n4         NaN         NaN         NaN         NaN         NaN   \n\n                  Unnamed: 9  ...  Unnamed: 30  Unnamed: 31  Unnamed: 32  \\\n0                        NaN  ...          NaN          NaN          NaN   \n1                        NaN  ...          NaN          NaN          NaN   \n2                        NaN  ...          NaN          NaN          NaN   \n3                        NaN  ...          NaN          NaN          NaN   \n4  $ Change \\n from \\n 2021*  ...          NaN          NaN          NaN   \n\n                 Unnamed: 33  Unnamed: 34 Unnamed: 35  Unnamed: 36  \\\n0                        NaN          NaN         NaN          NaN   \n1                        NaN          NaN         NaN          NaN   \n2                        NaN          NaN         NaN          NaN   \n3                        NaN          NaN         NaN          NaN   \n4  % Change \\n from \\n 2020*          NaN         NaN          NaN   \n\n   Unnamed: 37  Unnamed: 38  Unnamed: 39  \n0          NaN          NaN          NaN  \n1          NaN          NaN          NaN  \n2          NaN          NaN          NaN  \n3          NaN          NaN          NaN  \n4          NaN          NaN       2020.0  \n\n[5 rows x 40 columns]\nPreview of 'Consolidated Overview' from file '/tmp/Williams_10_K_2023.xls':\n              Unnamed: 0  Unnamed: 1  Unnamed: 2               Unnamed: 3  \\\n0  Consolidated Overview         NaN         NaN                      NaN   \n1                    NaN         NaN         NaN                      NaN   \n2                    NaN         NaN         NaN  Year Ended December 31,   \n3                    NaN         NaN         NaN                     2023   \n4                    NaN         NaN         NaN               (Millions)   \n\n   Unnamed: 4  Unnamed: 5  Unnamed: 6  Unnamed: 7  Unnamed: 8  \\\n0         NaN         NaN         NaN         NaN         NaN   \n1         NaN         NaN         NaN         NaN         NaN   \n2         NaN         NaN         NaN         NaN         NaN   \n3         NaN         NaN         NaN         NaN         NaN   \n4         NaN         NaN         NaN         NaN         NaN   \n\n            Unnamed: 9  ...  Unnamed: 30  Unnamed: 31  Unnamed: 32  \\\n0                  NaN  ...          NaN          NaN          NaN   \n1                  NaN  ...          NaN          NaN          NaN   \n2                  NaN  ...          NaN          NaN          NaN   \n3  $ Change from 2022*  ...          NaN          NaN          NaN   \n4                  NaN  ...          NaN          NaN          NaN   \n\n           Unnamed: 33  Unnamed: 34 Unnamed: 35  Unnamed: 36  Unnamed: 37  \\\n0                  NaN          NaN         NaN          NaN          NaN   \n1                  NaN          NaN         NaN          NaN          NaN   \n2                  NaN          NaN         NaN          NaN          NaN   \n3  % Change from 2021*          NaN         NaN          NaN          NaN   \n4                  NaN          NaN         NaN          NaN          NaN   \n\n   Unnamed: 38  Unnamed: 39  \n0          NaN          NaN  \n1          NaN          NaN  \n2          NaN          NaN  \n3          NaN         2021  \n4          NaN          NaN  \n\n[5 rows x 40 columns]\n"
     ]
    }
   ],
   "source": [
    "import pandas as pd\n",
    "import os\n",
    "\n",
    "# Function to download the files to local /tmp directory\n",
    "def download_file_to_tmp(dbfs_file_path):\n",
    "    local_path = \"/tmp/\" + os.path.basename(dbfs_file_path)\n",
    "    dbutils.fs.cp(dbfs_file_path, f\"file:{local_path}\")\n",
    "    return local_path\n",
    "\n",
    "# Function to preview the first few rows of the \"Consolidated Overview\" sheet\n",
    "def preview_consolidated_overview(file_path):\n",
    "    try:\n",
    "        # Assuming all the files are .xls, you can adjust the engine if needed for other formats\n",
    "        df = pd.read_excel(file_path, sheet_name='consolidated overview', engine='xlrd')\n",
    "        print(f\"Preview of 'Consolidated Overview' from file '{file_path}':\")\n",
    "        print(df.head())  # Show the first few rows of the relevant sheet\n",
    "    except Exception as e:\n",
    "        print(f\"Error reading 'Consolidated Overview' in file {file_path}: {str(e)}\")\n",
    "\n",
    "# List of file paths for the Excel files in DBFS\n",
    "file_paths = [\n",
    "    \"dbfs:/FileStore/tables/Williams_10_K_2012.xls\",\n",
    "    \"dbfs:/FileStore/tables/Williams_10_K_2013.xls\",\n",
    "    \"dbfs:/FileStore/tables/Williams_10_K_2014.xls\",\n",
    "    \"dbfs:/FileStore/tables/Williams_10_K_2015.xls\",\n",
    "    \"dbfs:/FileStore/tables/Williams_10_K_2016.xls\",\n",
    "    \"dbfs:/FileStore/tables/Williams_10_K_2017.xls\",\n",
    "    \"dbfs:/FileStore/tables/Williams_10_K_2018.xls\",\n",
    "    \"dbfs:/FileStore/tables/Williams_10_K_2019.xls\",\n",
    "    \"dbfs:/FileStore/tables/Williams_10_K_2020.xls\",\n",
    "    \"dbfs:/FileStore/tables/Williams_10_K_2021.xls\",\n",
    "    \"dbfs:/FileStore/tables/Williams_10_K_2022.xls\",\n",
    "    \"dbfs:/FileStore/tables/Williams_10_K_2023.xls\"\n",
    "]\n",
    "\n",
    "# Preview the 'Consolidated Overview' sheet from each 10-K Excel file\n",
    "for file_path in file_paths:\n",
    "    local_file = download_file_to_tmp(file_path)\n",
    "    preview_consolidated_overview(local_file)\n",
    "\n"
   ]
  },
  {
   "cell_type": "markdown",
   "metadata": {
    "application/vnd.databricks.v1+cell": {
     "cellMetadata": {
      "byteLimit": 2048000,
      "rowLimit": 10000
     },
     "inputWidgets": {},
     "nuid": "9a26321d-b81c-4d67-a63b-c02342a219d5",
     "showTitle": false,
     "title": ""
    }
   },
   "source": [
    "# Data Cleaning\n",
    "\n",
    "Here, the emphasis was on removing inconsistencies and ensuring data quality. Issues like missing headers, duplicated rows, non-numeric characters in financial columns, and replaceing NaN values were addressed. Cleaning the data ensures it is both usable and accurate, which is critical when performing financial analyses. I focused heavily on making numeric columns truly numeric, standardizing column names, and imputing missing values with appropriate methods such as forward filling or default values."
   ]
  },
  {
   "cell_type": "code",
   "execution_count": 0,
   "metadata": {
    "application/vnd.databricks.v1+cell": {
     "cellMetadata": {
      "byteLimit": 2048000,
      "rowLimit": 10000
     },
     "inputWidgets": {},
     "nuid": "496ea422-6541-40c6-84cc-4b2c8e24bca2",
     "showTitle": true,
     "title": "Initial Cleaning Code"
    }
   },
   "outputs": [
    {
     "output_type": "stream",
     "name": "stdout",
     "output_type": "stream",
     "text": [
      "Cleaned data from 'Consolidated Overview' of file '/tmp/Williams_10_K_2012.xls':\n            Consolidated Overview                      NaN   NaN         NaN  \\\nUnnamed: 1                    0.0                        0     0           0   \nUnnamed: 2                    0.0  Years Ended December 31  2012  (Millions)   \nUnnamed: 3                    0.0  Years Ended December 31  2012  (Millions)   \nUnnamed: 4                    0.0  Years Ended December 31  2012  (Millions)   \nUnnamed: 5                    0.0  Years Ended December 31  2012  (Millions)   \n\n            Revenues: Service revenues Product sales  Total revenues  \\\nUnnamed: 1        0.0                0             0             0.0   \nUnnamed: 2        0.0             2729             0             0.0   \nUnnamed: 3        0.0             2729          4757          7486.0   \nUnnamed: 4        0.0             2729          4757          7486.0   \nUnnamed: 5        0.0             2729          4757          7486.0   \n\n            Costs and expenses: Product costs  ...  \\\nUnnamed: 1                  0.0             0  ...   \nUnnamed: 2                  0.0             0  ...   \nUnnamed: 3                  0.0          3496  ...   \nUnnamed: 4                  0.0          3496  ...   \nUnnamed: 5                  0.0          3496  ...   \n\n           Other investing income  net Early debt retirement costs  \\\nUnnamed: 1                            0                           0   \nUnnamed: 2                            0                           0   \nUnnamed: 3                           77                              \nUnnamed: 4                           77                              \nUnnamed: 5                           77                              \n\n           Other income (expense)  net  \\\nUnnamed: 1                            0   \nUnnamed: 2                            0   \nUnnamed: 3                           -2   \nUnnamed: 4                           -2   \nUnnamed: 5                           -2   \n\n           Income (loss) from continuing operations before income taxes  \\\nUnnamed: 1                                                0.0             \nUnnamed: 2                                                0.0             \nUnnamed: 3                                             1289.0             \nUnnamed: 4                                             1289.0             \nUnnamed: 5                                             1289.0             \n\n            Provision (benefit) for income taxes  \\\nUnnamed: 1                                     0   \nUnnamed: 2                                     0   \nUnnamed: 3                                   360   \nUnnamed: 4                                   360   \nUnnamed: 5                                   360   \n\n            Income (loss) from continuing operations  \\\nUnnamed: 1                                       0.0   \nUnnamed: 2                                       0.0   \nUnnamed: 3                                     929.0   \nUnnamed: 4                                     929.0   \nUnnamed: 5                                     929.0   \n\n           Income (loss) from discontinued operations Net income (loss)  \\\nUnnamed: 1                                          0               0.0   \nUnnamed: 2                                          0               0.0   \nUnnamed: 3                                        136            1065.0   \nUnnamed: 4                                        136            1065.0   \nUnnamed: 5                                        136            1065.0   \n\n           Less: Net income attributable to noncontrolling interests  \\\nUnnamed: 1                                                  0          \nUnnamed: 2                                                  0          \nUnnamed: 3                                                206          \nUnnamed: 4                                                206          \nUnnamed: 5                                                206          \n\n           Net income (loss) attributable to The Williams Companies, Inc.  \nUnnamed: 1                                                0.0              \nUnnamed: 2                                              859.0              \nUnnamed: 3                                              859.0              \nUnnamed: 4                                              859.0              \nUnnamed: 5                                              859.0              \n\n[5 rows x 28 columns]\nCleaned data from 'Consolidated Overview' of file '/tmp/Williams_10_K_2013.xls':\n            Consolidated Overview                      NaN               NaN  \\\nUnnamed: 1                    0.0  Years Ended December 31              2013   \nUnnamed: 2                    0.0  Years Ended December 31              2013   \nUnnamed: 3                    0.0  Years Ended December 31              2013   \nUnnamed: 4                    0.0  Years Ended December 31              2013   \nUnnamed: 5                    0.0  Years Ended December 31   Changefrom2012*   \n\n                   NaN  Revenues: Service revenues Product sales  \\\nUnnamed: 1  (Millions)        0.0             2939          3921   \nUnnamed: 2  (Millions)        0.0             2939          3921   \nUnnamed: 3  (Millions)        0.0             2939          3921   \nUnnamed: 4  (Millions)        0.0             2939          3921   \nUnnamed: 5  (Millions)        0.0              210          -836   \n\n            Total revenues  Costs and expenses: Product costs  ...  \\\nUnnamed: 1          6860.0                  0.0          3027  ...   \nUnnamed: 2          6860.0                  0.0          3027  ...   \nUnnamed: 3          6860.0                  0.0          3027  ...   \nUnnamed: 4          6860.0                  0.0          3027  ...   \nUnnamed: 5          6860.0                  0.0           469  ...   \n\n           Other investing income — net Early debt retirement costs  \\\nUnnamed: 1                           81                           —   \nUnnamed: 2                           81                           —   \nUnnamed: 3                           81                           —   \nUnnamed: 4                           81                           —   \nUnnamed: 5                            4                           —   \n\n           Other income (expense) — net  \\\nUnnamed: 1                            —   \nUnnamed: 2                            —   \nUnnamed: 3                            —   \nUnnamed: 4                            —   \nUnnamed: 5                            2   \n\n           Income (loss) from continuing operations before income taxes  \\\nUnnamed: 1                                             1080.0             \nUnnamed: 2                                             1080.0             \nUnnamed: 3                                             1080.0             \nUnnamed: 4                                             1080.0             \nUnnamed: 5                                             1080.0             \n\n            Provision (benefit) for income taxes  \\\nUnnamed: 1                                   401   \nUnnamed: 2                                   401   \nUnnamed: 3                                   401   \nUnnamed: 4                                   401   \nUnnamed: 5                                   -41   \n\n            Income (loss) from continuing operations  \\\nUnnamed: 1                                     679.0   \nUnnamed: 2                                     679.0   \nUnnamed: 3                                     679.0   \nUnnamed: 4                                     679.0   \nUnnamed: 5                                     679.0   \n\n           Income (loss) from discontinued operations Net income (loss)  \\\nUnnamed: 1                                        -11             668.0   \nUnnamed: 2                                        -11             668.0   \nUnnamed: 3                                        -11             668.0   \nUnnamed: 4                                        -11             668.0   \nUnnamed: 5                                       -147             668.0   \n\n           Less: Net income attributable to noncontrolling interests  \\\nUnnamed: 1                                                238          \nUnnamed: 2                                                238          \nUnnamed: 3                                                238          \nUnnamed: 4                                                238          \nUnnamed: 5                                                -32          \n\n           Net income (loss) attributable to The Williams Companies, Inc.  \nUnnamed: 1                                              430.0              \nUnnamed: 2                                              430.0              \nUnnamed: 3                                              430.0              \nUnnamed: 4                                              430.0              \nUnnamed: 5                                              430.0              \n\n[5 rows x 28 columns]\nCleaned data from 'Consolidated Overview' of file '/tmp/Williams_10_K_2014.xls':\n            Consolidated Overview                      NaN               NaN  \\\nUnnamed: 1                    0.0  Years Ended December 31              2014   \nUnnamed: 2                    0.0  Years Ended December 31              2014   \nUnnamed: 3                    0.0  Years Ended December 31              2014   \nUnnamed: 4                    0.0  Years Ended December 31              2014   \nUnnamed: 5                    0.0  Years Ended December 31   Changefrom2013*   \n\n                   NaN  Revenues: Service revenues Product sales  \\\nUnnamed: 1  (Millions)        0.0             4116          3521   \nUnnamed: 2  (Millions)        0.0             4116          3521   \nUnnamed: 3  (Millions)        0.0             4116          3521   \nUnnamed: 4  (Millions)        0.0             4116          3521   \nUnnamed: 5  (Millions)        0.0             1177          -400   \n\n            Total revenues  Costs and expenses: Product costs  ...  \\\nUnnamed: 1          7637.0                  0.0          3016  ...   \nUnnamed: 2          7637.0                  0.0          3016  ...   \nUnnamed: 3          7637.0                  0.0          3016  ...   \nUnnamed: 4          7637.0                  0.0          3016  ...   \nUnnamed: 5          7637.0                  0.0            11  ...   \n\n           Other investing income (loss) – net Interest expense  \\\nUnnamed: 1                                  43             -747   \nUnnamed: 2                                  43             -747   \nUnnamed: 3                                  43             -747   \nUnnamed: 4                                  43             -747   \nUnnamed: 5                                 -38             -237   \n\n           Other income (expense) – net  \\\nUnnamed: 1                           31   \nUnnamed: 2                           31   \nUnnamed: 3                           31   \nUnnamed: 4                           31   \nUnnamed: 5                           31   \n\n           Income (loss) from continuing operations before income taxes  \\\nUnnamed: 1                                             3584.0             \nUnnamed: 2                                             3584.0             \nUnnamed: 3                                             3584.0             \nUnnamed: 4                                             3584.0             \nUnnamed: 5                                             3584.0             \n\n           Provision (benefit) for income taxes  \\\nUnnamed: 1                                 1249   \nUnnamed: 2                                 1249   \nUnnamed: 3                                 1249   \nUnnamed: 4                                 1249   \nUnnamed: 5                                 -848   \n\n            Income (loss) from continuing operations  \\\nUnnamed: 1                                    2335.0   \nUnnamed: 2                                    2335.0   \nUnnamed: 3                                    2335.0   \nUnnamed: 4                                    2335.0   \nUnnamed: 5                                    2335.0   \n\n            Income (loss) from discontinued operations Net income (loss)  \\\nUnnamed: 1                                           4            2339.0   \nUnnamed: 2                                           4            2339.0   \nUnnamed: 3                                           4            2339.0   \nUnnamed: 4                                           4            2339.0   \nUnnamed: 5                                          15            2339.0   \n\n           Less: Net income attributable to noncontrolling interests  \\\nUnnamed: 1                                                225          \nUnnamed: 2                                                225          \nUnnamed: 3                                                225          \nUnnamed: 4                                                225          \nUnnamed: 5                                                 13          \n\n           Net income (loss) attributable to The Williams Companies, Inc.  \nUnnamed: 1                                             2114.0              \nUnnamed: 2                                             2114.0              \nUnnamed: 3                                             2114.0              \nUnnamed: 4                                             2114.0              \nUnnamed: 5                                             2114.0              \n\n[5 rows x 29 columns]\nCleaned data from 'Consolidated Overview' of file '/tmp/Williams_10_K_2015.xls':\n            Consolidated Overview                      NaN               NaN  \\\nUnnamed: 1                    0.0  Years Ended December 31              2015   \nUnnamed: 2                    0.0  Years Ended December 31              2015   \nUnnamed: 3                    0.0  Years Ended December 31              2015   \nUnnamed: 4                    0.0  Years Ended December 31              2015   \nUnnamed: 5                    0.0  Years Ended December 31   Changefrom2014*   \n\n                   NaN  Revenues: Service revenues Product sales  \\\nUnnamed: 1  (Millions)        0.0             5164          2196   \nUnnamed: 2  (Millions)        0.0             5164          2196   \nUnnamed: 3  (Millions)        0.0             5164          2196   \nUnnamed: 4  (Millions)        0.0             5164          2196   \nUnnamed: 5  (Millions)        0.0             1048         -1325   \n\n            Total revenues  Costs and expenses: Product costs  ...  \\\nUnnamed: 1          7360.0                  0.0          1779  ...   \nUnnamed: 2          7360.0                  0.0          1779  ...   \nUnnamed: 3          7360.0                  0.0          1779  ...   \nUnnamed: 4          7360.0                  0.0          1779  ...   \nUnnamed: 5          7360.0                  0.0          1237  ...   \n\n           Other investing income (loss) – net Interest expense  \\\nUnnamed: 1                                  27            -1044   \nUnnamed: 2                                  27            -1044   \nUnnamed: 3                                  27            -1044   \nUnnamed: 4                                  27            -1044   \nUnnamed: 5                                 -16             -297   \n\n           Other income (expense) – net  \\\nUnnamed: 1                          102   \nUnnamed: 2                          102   \nUnnamed: 3                          102   \nUnnamed: 4                          102   \nUnnamed: 5                           71   \n\n           Income (loss) from continuing operations before income taxes  \\\nUnnamed: 1                                            -1713.0             \nUnnamed: 2                                            -1713.0             \nUnnamed: 3                                            -1713.0             \nUnnamed: 4                                            -1713.0             \nUnnamed: 5                                            -1713.0             \n\n           Provision (benefit) for income taxes  \\\nUnnamed: 1                                 -399   \nUnnamed: 2                                 -399   \nUnnamed: 3                                 -399   \nUnnamed: 4                                 -399   \nUnnamed: 5                                 1648   \n\n           Income (loss) from continuing operations  \\\nUnnamed: 1                                  -1314.0   \nUnnamed: 2                                  -1314.0   \nUnnamed: 3                                  -1314.0   \nUnnamed: 4                                  -1314.0   \nUnnamed: 5                                  -1314.0   \n\n            Income (loss) from discontinued operations  Net income (loss)  \\\nUnnamed: 1                                           —            -1314.0   \nUnnamed: 2                                           —            -1314.0   \nUnnamed: 3                                           —            -1314.0   \nUnnamed: 4                                           —            -1314.0   \nUnnamed: 5                                          -4            -1314.0   \n\n           Less: Net income (loss) attributable to noncontrolling interests  \\\nUnnamed: 1                                               -743                 \nUnnamed: 2                                               -743                 \nUnnamed: 3                                               -743                 \nUnnamed: 4                                               -743                 \nUnnamed: 5                                                968                 \n\n           Net income (loss) attributable to The Williams Companies, Inc.  \nUnnamed: 1                                             -571.0              \nUnnamed: 2                                             -571.0              \nUnnamed: 3                                             -571.0              \nUnnamed: 4                                             -571.0              \nUnnamed: 5                                             -571.0              \n\n[5 rows x 31 columns]\nCleaned data from 'Consolidated Overview' of file '/tmp/Williams_10_K_2016.xls':\n            Consolidated Overview                      NaN               NaN  \\\nUnnamed: 1                    0.0  Years Ended December 31              2016   \nUnnamed: 2                    0.0  Years Ended December 31              2016   \nUnnamed: 3                    0.0  Years Ended December 31              2016   \nUnnamed: 4                    0.0  Years Ended December 31              2016   \nUnnamed: 5                    0.0  Years Ended December 31   Changefrom2015*   \n\n                   NaN  Revenues: Service revenues Product sales  \\\nUnnamed: 1  (Millions)        0.0             5171          2328   \nUnnamed: 2  (Millions)        0.0             5171          2328   \nUnnamed: 3  (Millions)        0.0             5171          2328   \nUnnamed: 4  (Millions)        0.0             5171          2328   \nUnnamed: 5  (Millions)        0.0                7           132   \n\n            Total revenues  Costs and expenses: Product costs  ...  \\\nUnnamed: 1          7499.0                  0.0          1725  ...   \nUnnamed: 2          7499.0                  0.0          1725  ...   \nUnnamed: 3          7499.0                  0.0          1725  ...   \nUnnamed: 4          7499.0                  0.0          1725  ...   \nUnnamed: 5          7499.0                  0.0            54  ...   \n\n           Other investing income (loss) – net Interest expense  \\\nUnnamed: 1                                  63            -1179   \nUnnamed: 2                                  63            -1179   \nUnnamed: 3                                  63            -1179   \nUnnamed: 4                                  63            -1179   \nUnnamed: 5                                  36             -135   \n\n           Other income (expense) – net  \\\nUnnamed: 1                           74   \nUnnamed: 2                           74   \nUnnamed: 3                           74   \nUnnamed: 4                           74   \nUnnamed: 5                          -28   \n\n           Income (loss) from continuing operations before income taxes  \\\nUnnamed: 1                                             -375.0             \nUnnamed: 2                                             -375.0             \nUnnamed: 3                                             -375.0             \nUnnamed: 4                                             -375.0             \nUnnamed: 5                                             -375.0             \n\n           Provision (benefit) for income taxes  \\\nUnnamed: 1                                  -25   \nUnnamed: 2                                  -25   \nUnnamed: 3                                  -25   \nUnnamed: 4                                  -25   \nUnnamed: 5                                 -374   \n\n           Income (loss) from continuing operations  \\\nUnnamed: 1                                   -350.0   \nUnnamed: 2                                   -350.0   \nUnnamed: 3                                   -350.0   \nUnnamed: 4                                   -350.0   \nUnnamed: 5                                   -350.0   \n\n           Income (loss) from discontinued operations  Net income (loss)  \\\nUnnamed: 1                                          —             -350.0   \nUnnamed: 2                                          —             -350.0   \nUnnamed: 3                                          —             -350.0   \nUnnamed: 4                                          —             -350.0   \nUnnamed: 5                                          —             -350.0   \n\n            Less: Net income (loss) attributable to noncontrolling interests  \\\nUnnamed: 1                                                 74                  \nUnnamed: 2                                                 74                  \nUnnamed: 3                                                 74                  \nUnnamed: 4                                                 74                  \nUnnamed: 5                                               -817                  \n\n           Net income (loss) attributable to The Williams Companies, Inc.  \nUnnamed: 1                                             -424.0              \nUnnamed: 2                                             -424.0              \nUnnamed: 3                                             -424.0              \nUnnamed: 4                                             -424.0              \nUnnamed: 5                                             -424.0              \n\n[5 rows x 32 columns]\nCleaned data from 'Consolidated Overview' of file '/tmp/Williams_10_K_2017.xls':\n            Consolidated Overview                      NaN               NaN  \\\nUnnamed: 1                    0.0  Years Ended December 31              2017   \nUnnamed: 2                    0.0  Years Ended December 31              2017   \nUnnamed: 3                    0.0  Years Ended December 31              2017   \nUnnamed: 4                    0.0  Years Ended December 31              2017   \nUnnamed: 5                    0.0  Years Ended December 31   Changefrom2016*   \n\n                   NaN  Revenues: Service revenues Product sales  \\\nUnnamed: 1  (Millions)        0.0             5312          2719   \nUnnamed: 2  (Millions)        0.0             5312          2719   \nUnnamed: 3  (Millions)        0.0             5312          2719   \nUnnamed: 4  (Millions)        0.0             5312          2719   \nUnnamed: 5  (Millions)        0.0              141           391   \n\n            Total revenues  Costs and expenses: Product costs  ...  \\\nUnnamed: 1          8031.0                  0.0          2300  ...   \nUnnamed: 2          8031.0                  0.0          2300  ...   \nUnnamed: 3          8031.0                  0.0          2300  ...   \nUnnamed: 4          8031.0                  0.0          2300  ...   \nUnnamed: 5          8031.0                  0.0          -575  ...   \n\n           Equity earnings (losses) Impairment of equity-method investments  \\\nUnnamed: 1                      434                                       —   \nUnnamed: 2                      434                                       —   \nUnnamed: 3                      434                                       —   \nUnnamed: 4                      434                                       —   \nUnnamed: 5                       37                                     430   \n\n           Other investing income (loss) – net Interest expense  \\\nUnnamed: 1                                 282            -1083   \nUnnamed: 2                                 282            -1083   \nUnnamed: 3                                 282            -1083   \nUnnamed: 4                                 282            -1083   \nUnnamed: 5                                 219               96   \n\n           Other income (expense) – net Income (loss) before income taxes  \\\nUnn\n\n*** WARNING: max output size exceeded, skipping output. ***\n\nUnnamed: 2                                  138             193.0   \nUnnamed: 3                                  138             193.0   \nUnnamed: 4                                  138             193.0   \nUnnamed: 5                                -2112             193.0   \n\n           Less: Net income (loss) attributable to noncontrolling interests  \\\nUnnamed: 1                                                348                 \nUnnamed: 2                                                348                 \nUnnamed: 3                                                348                 \nUnnamed: 4                                                348                 \nUnnamed: 5                                                -13                 \n\n            Net income (loss) attributable to The Williams Companies, Inc.  \nUnnamed: 1                                             -155.0               \nUnnamed: 2                                             -155.0               \nUnnamed: 3                                             -155.0               \nUnnamed: 4                                             -155.0               \nUnnamed: 5                                             -155.0               \n\n[5 rows x 31 columns]\nCleaned data from 'Consolidated Overview' of file '/tmp/Williams_10_K_2019.xls':\n            Consolidated Overview                     NaN               NaN  \\\nUnnamed: 1                    0.0  Year Ended December 31              2019   \nUnnamed: 2                    0.0  Year Ended December 31              2019   \nUnnamed: 3                    0.0  Year Ended December 31              2019   \nUnnamed: 4                    0.0  Year Ended December 31              2019   \nUnnamed: 5                    0.0  Year Ended December 31   Changefrom2018*   \n\n                   NaN  Revenues: Service revenues  \\\nUnnamed: 1  (Millions)        0.0             5933   \nUnnamed: 2  (Millions)        0.0             5933   \nUnnamed: 3  (Millions)        0.0             5933   \nUnnamed: 4  (Millions)        0.0             5933   \nUnnamed: 5  (Millions)        0.0              431   \n\n           Service revenues – commodity consideration Product sales  \\\nUnnamed: 1                                        203          2065   \nUnnamed: 2                                        203          2065   \nUnnamed: 3                                        203          2065   \nUnnamed: 4                                        203          2065   \nUnnamed: 5                                       -197          -719   \n\n            Total revenues  Costs and expenses:  ...  \\\nUnnamed: 1          8201.0                  0.0  ...   \nUnnamed: 2          8201.0                  0.0  ...   \nUnnamed: 3          8201.0                  0.0  ...   \nUnnamed: 4          8201.0                  0.0  ...   \nUnnamed: 5          8201.0                  0.0  ...   \n\n           Other investing income (loss) – net Interest expense  \\\nUnnamed: 1                                 -79            -1186   \nUnnamed: 2                                 -79            -1186   \nUnnamed: 3                                 -79            -1186   \nUnnamed: 4                                 -79            -1186   \nUnnamed: 5                                -266              -74   \n\n           Other income (expense) – net  \\\nUnnamed: 1                           33   \nUnnamed: 2                           33   \nUnnamed: 3                           33   \nUnnamed: 4                           33   \nUnnamed: 5                          -59   \n\n           Income (loss) from continuing operations before income taxes  \\\nUnnamed: 1                                             1064.0             \nUnnamed: 2                                             1064.0             \nUnnamed: 3                                             1064.0             \nUnnamed: 4                                             1064.0             \nUnnamed: 5                                             1064.0             \n\n           Provision (benefit) for income taxes  \\\nUnnamed: 1                                  335   \nUnnamed: 2                                  335   \nUnnamed: 3                                  335   \nUnnamed: 4                                  335   \nUnnamed: 5                                 -197   \n\n           Income (loss) from continuing operations  \\\nUnnamed: 1                                    729.0   \nUnnamed: 2                                    729.0   \nUnnamed: 3                                    729.0   \nUnnamed: 4                                    729.0   \nUnnamed: 5                                    729.0   \n\n           Income (loss) from discontinued operations Net income (loss)  \\\nUnnamed: 1                                        -15             714.0   \nUnnamed: 2                                        -15             714.0   \nUnnamed: 3                                        -15             714.0   \nUnnamed: 4                                        -15             714.0   \nUnnamed: 5                                        -15             714.0   \n\n           Less: Net income (loss) attributable to noncontrolling interests  \\\nUnnamed: 1                                               -136                 \nUnnamed: 2                                               -136                 \nUnnamed: 3                                               -136                 \nUnnamed: 4                                               -136                 \nUnnamed: 5                                                484                 \n\n            Net income (loss) attributable to The Williams Companies, Inc.  \nUnnamed: 1                                              850.0               \nUnnamed: 2                                              850.0               \nUnnamed: 3                                              850.0               \nUnnamed: 4                                              850.0               \nUnnamed: 5                                              850.0               \n\n[5 rows x 32 columns]\nCleaned data from 'Consolidated Overview' of file '/tmp/Williams_10_K_2020.xls':\n            Consolidated Overview                     NaN   NaN         NaN  \\\nUnnamed: 1                    0.0                       0     0           0   \nUnnamed: 2                    0.0                       0     0           0   \nUnnamed: 3                    0.0  Year Ended December 31  2020  (Millions)   \nUnnamed: 4                    0.0  Year Ended December 31  2020  (Millions)   \nUnnamed: 5                    0.0  Year Ended December 31  2020  (Millions)   \n\n            Revenues: Service revenues  \\\nUnnamed: 1        0.0                0   \nUnnamed: 2        0.0                0   \nUnnamed: 3        0.0             5924   \nUnnamed: 4        0.0             5924   \nUnnamed: 5        0.0             5924   \n\n           Service revenues – commodity consideration Product sales  \\\nUnnamed: 1                                          0             0   \nUnnamed: 2                                          0             0   \nUnnamed: 3                                        129          1666   \nUnnamed: 4                                        129          1666   \nUnnamed: 5                                        129          1666   \n\n            Total revenues  Costs and expenses:  ...  \\\nUnnamed: 1             0.0                  0.0  ...   \nUnnamed: 2             0.0                  0.0  ...   \nUnnamed: 3          7719.0                  0.0  ...   \nUnnamed: 4          7719.0                  0.0  ...   \nUnnamed: 5          7719.0                  0.0  ...   \n\n           Other investing income (loss) – net Interest expense  \\\nUnnamed: 1                                   0                0   \nUnnamed: 2                                   0                0   \nUnnamed: 3                                   8            -1172   \nUnnamed: 4                                   8            -1172   \nUnnamed: 5                                   8            -1172   \n\n           Other income (expense) – net  \\\nUnnamed: 1                            0   \nUnnamed: 2                            0   \nUnnamed: 3                          -43   \nUnnamed: 4                          -43   \nUnnamed: 5                          -43   \n\n           Income (loss) from continuing operations before income taxes  \\\nUnnamed: 1                                                0.0             \nUnnamed: 2                                                0.0             \nUnnamed: 3                                              277.0             \nUnnamed: 4                                              277.0             \nUnnamed: 5                                              277.0             \n\n           Less: Provision (benefit) for income taxes  \\\nUnnamed: 1                                          0   \nUnnamed: 2                                          0   \nUnnamed: 3                                         79   \nUnnamed: 4                                         79   \nUnnamed: 5                                         79   \n\n           Income (loss) from continuing operations  \\\nUnnamed: 1                                      0.0   \nUnnamed: 2                                      0.0   \nUnnamed: 3                                    198.0   \nUnnamed: 4                                    198.0   \nUnnamed: 5                                    198.0   \n\n           Income (loss) from discontinued operations Net income (loss)  \\\nUnnamed: 1                                          0               0.0   \nUnnamed: 2                                          0               0.0   \nUnnamed: 3                                          —             198.0   \nUnnamed: 4                                          —             198.0   \nUnnamed: 5                                          —             198.0   \n\n           Less: Net income (loss) attributable to noncontrolling interests  \\\nUnnamed: 1                                                  0                 \nUnnamed: 2                                                  0                 \nUnnamed: 3                                                -13                 \nUnnamed: 4                                                -13                 \nUnnamed: 5                                                -13                 \n\n            Net income (loss) attributable to The Williams Companies, Inc.  \nUnnamed: 1                                                0.0               \nUnnamed: 2                                                0.0               \nUnnamed: 3                                              211.0               \nUnnamed: 4                                              211.0               \nUnnamed: 5                                              211.0               \n\n[5 rows x 33 columns]\nCleaned data from 'Consolidated Overview' of file '/tmp/Williams_10_K_2021.xls':\n            Consolidated Overview                     NaN   NaN         NaN  \\\nUnnamed: 1                    0.0                       0     0           0   \nUnnamed: 2                    0.0                       0     0           0   \nUnnamed: 3                    0.0  Year Ended December 31  2021  (Millions)   \nUnnamed: 4                    0.0  Year Ended December 31  2021  (Millions)   \nUnnamed: 5                    0.0  Year Ended December 31  2021  (Millions)   \n\n            Revenues: Service revenues  \\\nUnnamed: 1        0.0                0   \nUnnamed: 2        0.0                0   \nUnnamed: 3        0.0             6001   \nUnnamed: 4        0.0             6001   \nUnnamed: 5        0.0             6001   \n\n           Service revenues – commodity consideration Product sales  \\\nUnnamed: 1                                          0             0   \nUnnamed: 2                                          0             0   \nUnnamed: 3                                        238          4536   \nUnnamed: 4                                        238          4536   \nUnnamed: 5                                        238          4536   \n\n           Net gain (loss) on commodity derivatives  Total revenues  ...  \\\nUnnamed: 1                                        0             0.0  ...   \nUnnamed: 2                                        0             0.0  ...   \nUnnamed: 3                                     -148         10627.0  ...   \nUnnamed: 4                                     -148         10627.0  ...   \nUnnamed: 5                                     -148         10627.0  ...   \n\n            Other investing income (loss) – net Interest expense  \\\nUnnamed: 1                                    0                0   \nUnnamed: 2                                    0                0   \nUnnamed: 3                                    7            -1179   \nUnnamed: 4                                    7            -1179   \nUnnamed: 5                                    7            -1179   \n\n           Other income (expense) – net  \\\nUnnamed: 1                            0   \nUnnamed: 2                            0   \nUnnamed: 3                            6   \nUnnamed: 4                            6   \nUnnamed: 5                            6   \n\n           Income (loss) from continuing operations before income taxes  \\\nUnnamed: 1                                                0.0             \nUnnamed: 2                                                0.0             \nUnnamed: 3                                             2073.0             \nUnnamed: 4                                             2073.0             \nUnnamed: 5                                             2073.0             \n\n           Less: Provision (benefit) for income taxes  \\\nUnnamed: 1                                          0   \nUnnamed: 2                                          0   \nUnnamed: 3                                        511   \nUnnamed: 4                                        511   \nUnnamed: 5                                        511   \n\n           Income (loss) from continuing operations  \\\nUnnamed: 1                                      0.0   \nUnnamed: 2                                      0.0   \nUnnamed: 3                                   1562.0   \nUnnamed: 4                                   1562.0   \nUnnamed: 5                                   1562.0   \n\n           Income (loss) from discontinued operations Net income (loss)  \\\nUnnamed: 1                                          0               0.0   \nUnnamed: 2                                          0               0.0   \nUnnamed: 3                                          —            1562.0   \nUnnamed: 4                                          —            1562.0   \nUnnamed: 5                                          —            1562.0   \n\n           Less: Net income (loss) attributable to noncontrolling interests  \\\nUnnamed: 1                                                  0                 \nUnnamed: 2                                                  0                 \nUnnamed: 3                                                 45                 \nUnnamed: 4                                                 45                 \nUnnamed: 5                                                 45                 \n\n            Net income (loss) attributable to The Williams Companies, Inc.  \nUnnamed: 1                                                0.0               \nUnnamed: 2                                                0.0               \nUnnamed: 3                                             1517.0               \nUnnamed: 4                                             1517.0               \nUnnamed: 5                                             1517.0               \n\n[5 rows x 33 columns]\nCleaned data from 'Consolidated Overview' of file '/tmp/Williams_10_K_2022.xls':\n            Consolidated Overview                     NaN   NaN         NaN  \\\nUnnamed: 1                    0.0                       0     0           0   \nUnnamed: 2                    0.0                       0     0           0   \nUnnamed: 3                    0.0  Year Ended December 31  2022  (Millions)   \nUnnamed: 4                    0.0  Year Ended December 31  2022  (Millions)   \nUnnamed: 5                    0.0  Year Ended December 31  2022  (Millions)   \n\n            Revenues: Service revenues  \\\nUnnamed: 1        0.0                0   \nUnnamed: 2        0.0                0   \nUnnamed: 3        0.0             6536   \nUnnamed: 4        0.0             6536   \nUnnamed: 5        0.0             6536   \n\n           Service revenues – commodity consideration Product sales  \\\nUnnamed: 1                                          0             0   \nUnnamed: 2                                          0             0   \nUnnamed: 3                                        260          4556   \nUnnamed: 4                                        260          4556   \nUnnamed: 5                                        260          4556   \n\n           Net gain (loss) on commodity derivatives  Total revenues  ...  \\\nUnnamed: 1                                        0             0.0  ...   \nUnnamed: 2                                        0             0.0  ...   \nUnnamed: 3                                     -387         10965.0  ...   \nUnnamed: 4                                     -387         10965.0  ...   \nUnnamed: 5                                     -387         10965.0  ...   \n\n            Equity earnings (losses) Impairment of equity-method investments  \\\nUnnamed: 1                         0                                       0   \nUnnamed: 2                         0                                       0   \nUnnamed: 3                       637                                       —   \nUnnamed: 4                       637                                       —   \nUnnamed: 5                       637                                       —   \n\n           Other investing income (loss) – net Interest expense  \\\nUnnamed: 1                                   0                0   \nUnnamed: 2                                   0                0   \nUnnamed: 3                                  16            -1147   \nUnnamed: 4                                  16            -1147   \nUnnamed: 5                                  16            -1147   \n\n           Other income (expense) – net Income (loss) before income taxes  \\\nUnnamed: 1                            0                               0.0   \nUnnamed: 2                            0                               0.0   \nUnnamed: 3                           18                            2542.0   \nUnnamed: 4                           18                            2542.0   \nUnnamed: 5                           18                            2542.0   \n\n           Less: Provision (benefit) for income taxes Net income (loss)  \\\nUnnamed: 1                                          0               0.0   \nUnnamed: 2                                          0               0.0   \nUnnamed: 3                                        425            2117.0   \nUnnamed: 4                                        425            2117.0   \nUnnamed: 5                                        425            2117.0   \n\n           Less: Net income (loss) attributable to noncontrolling interests  \\\nUnnamed: 1                                                  0                 \nUnnamed: 2                                                  0                 \nUnnamed: 3                                                 68                 \nUnnamed: 4                                                 68                 \nUnnamed: 5                                                 68                 \n\n            Net income (loss) attributable to The Williams Companies, Inc.  \nUnnamed: 1                                                  0               \nUnnamed: 2                                                  0               \nUnnamed: 3                                               2049               \nUnnamed: 4                                               2049               \nUnnamed: 5                                               2049               \n\n[5 rows x 31 columns]\nCleaned data from 'Consolidated Overview' of file '/tmp/Williams_10_K_2023.xls':\n            Consolidated Overview                     NaN   NaN         NaN  \\\nUnnamed: 1                    0.0                       0     0           0   \nUnnamed: 2                    0.0                       0     0           0   \nUnnamed: 3                    0.0  Year Ended December 31  2023  (Millions)   \nUnnamed: 4                    0.0  Year Ended December 31  2023  (Millions)   \nUnnamed: 5                    0.0  Year Ended December 31  2023  (Millions)   \n\n            Revenues: Service revenues  \\\nUnnamed: 1        0.0                0   \nUnnamed: 2        0.0                0   \nUnnamed: 3        0.0             7026   \nUnnamed: 4        0.0             7026   \nUnnamed: 5        0.0             7026   \n\n           Service revenues – commodity consideration Product sales  \\\nUnnamed: 1                                          0             0   \nUnnamed: 2                                          0             0   \nUnnamed: 3                                        146          2779   \nUnnamed: 4                                        146          2779   \nUnnamed: 5                                        146          2779   \n\n           Net gain (loss) from commodity derivatives  Total revenues  ...  \\\nUnnamed: 1                                          0             0.0  ...   \nUnnamed: 2                                          0             0.0  ...   \nUnnamed: 3                                        956         10907.0  ...   \nUnnamed: 4                                        956         10907.0  ...   \nUnnamed: 5                                        956         10907.0  ...   \n\n            Interest expense  \\\nUnnamed: 1                 0   \nUnnamed: 2                 0   \nUnnamed: 3             -1236   \nUnnamed: 4             -1236   \nUnnamed: 5             -1236   \n\n           Net gain from Energy Transfer litigation judgment  \\\nUnnamed: 1                                                 0   \nUnnamed: 2                                                 0   \nUnnamed: 3                                               534   \nUnnamed: 4                                               534   \nUnnamed: 5                                               534   \n\n           Other income (expense) – net Income (loss) before income taxes  \\\nUnnamed: 1                            0                               0.0   \nUnnamed: 2                            0                               0.0   \nUnnamed: 3                           99                            4405.0   \nUnnamed: 4                           99                            4405.0   \nUnnamed: 5                           99                            4405.0   \n\n           Less: Provision (benefit) for income taxes  \\\nUnnamed: 1                                          0   \nUnnamed: 2                                          0   \nUnnamed: 3                                       1005   \nUnnamed: 4                                       1005   \nUnnamed: 5                                       1005   \n\n           Income (loss) from continuing operations  \\\nUnnamed: 1                                      0.0   \nUnnamed: 2                                      0.0   \nUnnamed: 3                                   3400.0   \nUnnamed: 4                                   3400.0   \nUnnamed: 5                                   3400.0   \n\n           Income (loss) from discontinued operations Net income (loss)  \\\nUnnamed: 1                                          0               0.0   \nUnnamed: 2                                          0               0.0   \nUnnamed: 3                                        -97            3303.0   \nUnnamed: 4                                        -97            3303.0   \nUnnamed: 5                                        -97            3303.0   \n\n            Less: Net income (loss) attributable to noncontrolling interests  \\\nUnnamed: 1                                                  0                  \nUnnamed: 2                                                  0                  \nUnnamed: 3                                                124                  \nUnnamed: 4                                                124                  \nUnnamed: 5                                                124                  \n\n            Net income (loss) attributable to The Williams Companies, Inc.  \nUnnamed: 1                                                  0               \nUnnamed: 2                                                  0               \nUnnamed: 3                                               3179               \nUnnamed: 4                                               3179               \nUnnamed: 5                                               3179               \n\n[5 rows x 32 columns]\n"
     ]
    }
   ],
   "source": [
    "# Function to download the files to local /tmp directory\n",
    "def download_file_to_tmp(dbfs_file_path):\n",
    "    local_path = \"/tmp/\" + os.path.basename(dbfs_file_path)\n",
    "    dbutils.fs.cp(dbfs_file_path, f\"file:{local_path}\")\n",
    "    return local_path\n",
    "\n",
    "# Function to safely clean column names (handles NaN or float issues)\n",
    "def safe_clean_column_names(df):\n",
    "    # Clean column names safely, ensuring no issues with non-string types\n",
    "    df.columns = [str(col).strip().replace('Unnamed:', '').replace('\\n', ' ') if isinstance(col, str) else col for col in df.columns]\n",
    "    return df\n",
    "\n",
    "# Function to transpose and clean the \"Consolidated Overview\" sheet\n",
    "def transpose_and_clean(df):\n",
    "    # Drop completely empty rows and columns\n",
    "    df.dropna(how='all', inplace=True)\n",
    "    \n",
    "    # Transpose the DataFrame to set the first column as headers\n",
    "    df_transposed = df.T\n",
    "    df_transposed.columns = df_transposed.iloc[0]  # Set first row as headers\n",
    "    df_transposed = df_transposed.drop(df_transposed.index[0])  # Drop the original header row from data\n",
    "\n",
    "    # Clean the column names\n",
    "    df_transposed = safe_clean_column_names(df_transposed)\n",
    "    \n",
    "    return df_transposed\n",
    "\n",
    "# Function to fill or clean NaN values\n",
    "def clean_nan_values(df):\n",
    "    # Forward fill for sequential data\n",
    "    df.fillna(method='ffill', inplace=True)\n",
    "    \n",
    "    # Replace any remaining NaNs with 0\n",
    "    df.fillna(0, inplace=True)\n",
    "    \n",
    "    return df\n",
    "\n",
    "# Function to clean and process the data further\n",
    "def clean_and_standardize_columns(df):\n",
    "    df_cleaned = transpose_and_clean(df)\n",
    "    \n",
    "    # Drop unnecessary columns or rows with unnamed or empty values\n",
    "    df_cleaned = df_cleaned.loc[:, ~df_cleaned.columns.str.contains('^Unnamed$', na=False)]\n",
    "    \n",
    "    # Remove dollar signs, commas, or other symbols from financial values\n",
    "    df_cleaned.replace({'\\$': '', ',': ''}, regex=True, inplace=True)\n",
    "    \n",
    "    # Clean NaN values\n",
    "    df_cleaned = clean_nan_values(df_cleaned)\n",
    "    \n",
    "    return df_cleaned\n",
    "\n",
    "# Function to preview, transpose, and clean the \"Consolidated Overview\" sheet\n",
    "def preview_and_clean_consolidated_overview(file_path):\n",
    "    try:\n",
    "        # Read the \"Consolidated Overview\" sheet\n",
    "        df = pd.read_excel(file_path, sheet_name='consolidated overview', engine='xlrd')\n",
    "\n",
    "        # Clean and standardize the data\n",
    "        df_cleaned = clean_and_standardize_columns(df)\n",
    "        \n",
    "        # Preview the cleaned data\n",
    "        print(f\"Cleaned data from 'Consolidated Overview' of file '{file_path}':\")\n",
    "        print(df_cleaned.head())  # Show the first few rows of the cleaned sheet\n",
    "        \n",
    "        return df_cleaned\n",
    "    except Exception as e:\n",
    "        print(f\"Error processing 'Consolidated Overview' in file {file_path}: {str(e)}\")\n",
    "        return None\n",
    "\n",
    "# List of file paths for the Excel files in DBFS\n",
    "file_paths = [\n",
    "    \"dbfs:/FileStore/tables/Williams_10_K_2012.xls\",\n",
    "    \"dbfs:/FileStore/tables/Williams_10_K_2013.xls\",\n",
    "    \"dbfs:/FileStore/tables/Williams_10_K_2014.xls\",\n",
    "    \"dbfs:/FileStore/tables/Williams_10_K_2015.xls\",\n",
    "    \"dbfs:/FileStore/tables/Williams_10_K_2016.xls\",\n",
    "    \"dbfs:/FileStore/tables/Williams_10_K_2017.xls\",\n",
    "    \"dbfs:/FileStore/tables/Williams_10_K_2018.xls\",\n",
    "    \"dbfs:/FileStore/tables/Williams_10_K_2019.xls\",\n",
    "    \"dbfs:/FileStore/tables/Williams_10_K_2020.xls\",\n",
    "    \"dbfs:/FileStore/tables/Williams_10_K_2021.xls\",\n",
    "    \"dbfs:/FileStore/tables/Williams_10_K_2022.xls\",\n",
    "    \"dbfs:/FileStore/tables/Williams_10_K_2023.xls\"\n",
    "]\n",
    "\n",
    "# Loop through each file, transpose, clean, and preview the \"Consolidated Overview\" sheet\n",
    "for file_path in file_paths:\n",
    "    local_file = download_file_to_tmp(file_path)\n",
    "    preview_and_clean_consolidated_overview(local_file)\n"
   ]
  },
  {
   "cell_type": "code",
   "execution_count": 0,
   "metadata": {
    "application/vnd.databricks.v1+cell": {
     "cellMetadata": {
      "byteLimit": 2048000,
      "rowLimit": 10000
     },
     "inputWidgets": {},
     "nuid": "239a5577-85ea-4d62-8161-bef4c4d808c1",
     "showTitle": true,
     "title": "Checking Column Name Consistancy and Structure"
    }
   },
   "outputs": [
    {
     "output_type": "stream",
     "name": "stdout",
     "output_type": "stream",
     "text": [
      "Data for year 2012 loaded successfully\nData for year 2013 loaded successfully\nData for year 2014 loaded successfully\nData for year 2015 loaded successfully\nData for year 2016 loaded successfully\nData for year 2017 loaded successfully\nData for year 2018 loaded successfully\nData for year 2019 loaded successfully\nData for year 2020 loaded successfully\nData for year 2021 loaded successfully\nData for year 2022 loaded successfully\nData for year 2023 loaded successfully\n\nValidating DataFrame for year 2012\nColumn 'Total revenues' in DataFrame for year 2012 is numeric.\nColumn 'Net income (loss)' in DataFrame for year 2012 is numeric.\nColumn 'Interest expense' in DataFrame for year 2012 is numeric.\nColumn 'Operating income (loss)' in DataFrame for year 2012 is numeric.\nColumn 'Depreciation and amortization expenses' in DataFrame for year 2012 is numeric.\nColumn 'Product sales' in DataFrame for year 2012 is numeric.\nColumn 'Service revenues' in DataFrame for year 2012 is numeric.\n\nValidating DataFrame for year 2013\nColumn 'Total revenues' in DataFrame for year 2013 is numeric.\nColumn 'Net income (loss)' in DataFrame for year 2013 is numeric.\nColumn 'Interest expense' in DataFrame for year 2013 is numeric.\nColumn 'Operating income (loss)' in DataFrame for year 2013 is numeric.\nColumn 'Depreciation and amortization expenses' in DataFrame for year 2013 is numeric.\nColumn 'Product sales' in DataFrame for year 2013 is numeric.\nColumn 'Service revenues' in DataFrame for year 2013 is numeric.\n\nValidating DataFrame for year 2014\nColumn 'Total revenues' in DataFrame for year 2014 is numeric.\nColumn 'Net income (loss)' in DataFrame for year 2014 is numeric.\nColumn 'Interest expense' in DataFrame for year 2014 is numeric.\nColumn 'Operating income (loss)' in DataFrame for year 2014 is numeric.\nColumn 'Depreciation and amortization expenses' in DataFrame for year 2014 is numeric.\nColumn 'Product sales' in DataFrame for year 2014 is numeric.\nColumn 'Service revenues' in DataFrame for year 2014 is numeric.\n\nValidating DataFrame for year 2015\nColumn 'Total revenues' in DataFrame for year 2015 is numeric.\nColumn 'Net income (loss)' in DataFrame for year 2015 is numeric.\nColumn 'Interest expense' in DataFrame for year 2015 is numeric.\nColumn 'Operating income (loss)' in DataFrame for year 2015 is numeric.\nColumn 'Depreciation and amortization expenses' in DataFrame for year 2015 is numeric.\nColumn 'Product sales' in DataFrame for year 2015 is numeric.\nColumn 'Service revenues' in DataFrame for year 2015 is numeric.\n\nValidating DataFrame for year 2016\nColumn 'Total revenues' in DataFrame for year 2016 is numeric.\nColumn 'Net income (loss)' in DataFrame for year 2016 is numeric.\nColumn 'Interest expense' in DataFrame for year 2016 is numeric.\nColumn 'Operating income (loss)' in DataFrame for year 2016 is numeric.\nColumn 'Depreciation and amortization expenses' in DataFrame for year 2016 is numeric.\nColumn 'Product sales' in DataFrame for year 2016 is numeric.\nColumn 'Service revenues' in DataFrame for year 2016 is numeric.\n\nValidating DataFrame for year 2017\nColumn 'Total revenues' in DataFrame for year 2017 is numeric.\nColumn 'Net income (loss)' in DataFrame for year 2017 is numeric.\nColumn 'Interest expense' in DataFrame for year 2017 is numeric.\nColumn 'Operating income (loss)' in DataFrame for year 2017 is numeric.\nColumn 'Depreciation and amortization expenses' in DataFrame for year 2017 is numeric.\nColumn 'Product sales' in DataFrame for year 2017 is numeric.\nColumn 'Service revenues' in DataFrame for year 2017 is numeric.\n\nValidating DataFrame for year 2018\nColumn 'Total revenues' in DataFrame for year 2018 is numeric.\nColumn 'Net income (loss)' in DataFrame for year 2018 is numeric.\nColumn 'Interest expense' in DataFrame for year 2018 is numeric.\nColumn 'Operating income (loss)' in DataFrame for year 2018 is numeric.\nColumn 'Depreciation and amortization expenses' in DataFrame for year 2018 is numeric.\nColumn 'Product sales' in DataFrame for year 2018 is numeric.\nColumn 'Service revenues' in DataFrame for year 2018 is numeric.\n\nValidating DataFrame for year 2019\nColumn 'Total revenues' in DataFrame for year 2019 is numeric.\nColumn 'Net income (loss)' in DataFrame for year 2019 is numeric.\nColumn 'Interest expense' in DataFrame for year 2019 is numeric.\nColumn 'Operating income (loss)' in DataFrame for year 2019 is numeric.\nColumn 'Depreciation and amortization expenses' in DataFrame for year 2019 is numeric.\nColumn 'Product sales' in DataFrame for year 2019 is numeric.\nColumn 'Service revenues' in DataFrame for year 2019 is numeric.\n\nValidating DataFrame for year 2020\nColumn 'Total revenues' in DataFrame for year 2020 is numeric.\nColumn 'Net income (loss)' in DataFrame for year 2020 is numeric.\nColumn 'Interest expense' in DataFrame for year 2020 is numeric.\nColumn 'Operating income (loss)' in DataFrame for year 2020 is numeric.\nColumn 'Depreciation and amortization expenses' in DataFrame for year 2020 is numeric.\nColumn 'Product sales' in DataFrame for year 2020 is numeric.\nColumn 'Service revenues' in DataFrame for year 2020 is numeric.\n\nValidating DataFrame for year 2021\nColumn 'Total revenues' in DataFrame for year 2021 is numeric.\nColumn 'Net income (loss)' in DataFrame for year 2021 is numeric.\nColumn 'Interest expense' in DataFrame for year 2021 is numeric.\nColumn 'Operating income (loss)' in DataFrame for year 2021 is numeric.\nColumn 'Depreciation and amortization expenses' in DataFrame for year 2021 is numeric.\nColumn 'Product sales' in DataFrame for year 2021 is numeric.\nColumn 'Service revenues' in DataFrame for year 2021 is numeric.\n\nValidating DataFrame for year 2022\nColumn 'Total revenues' in DataFrame for year 2022 is numeric.\nColumn 'Net income (loss)' in DataFrame for year 2022 is numeric.\nColumn 'Interest expense' in DataFrame for year 2022 is numeric.\nColumn 'Operating income (loss)' in DataFrame for year 2022 is numeric.\nColumn 'Depreciation and amortization expenses' in DataFrame for year 2022 is numeric.\nColumn 'Product sales' in DataFrame for year 2022 is numeric.\nColumn 'Service revenues' in DataFrame for year 2022 is numeric.\n\nValidating DataFrame for year 2023\nColumn 'Total revenues' in DataFrame for year 2023 is numeric.\nColumn 'Net income (loss)' in DataFrame for year 2023 is numeric.\nColumn 'Interest expense' in DataFrame for year 2023 is numeric.\nColumn 'Operating income (loss)' in DataFrame for year 2023 is numeric.\nColumn 'Depreciation and amortization expenses' in DataFrame for year 2023 is numeric.\nColumn 'Product sales' in DataFrame for year 2023 is numeric.\nColumn 'Service revenues' in DataFrame for year 2023 is numeric.\nDataFrame df_2012 cleaned successfully.\nDataFrame df_2013 cleaned successfully.\nDataFrame df_2014 cleaned successfully.\nDataFrame df_2015 cleaned successfully.\nDataFrame df_2016 cleaned successfully.\nDataFrame df_2017 cleaned successfully.\nDataFrame df_2018 cleaned successfully.\nDataFrame df_2019 cleaned successfully.\nDataFrame df_2020 cleaned successfully.\nDataFrame df_2021 cleaned successfully.\nDataFrame df_2022 cleaned successfully.\nDataFrame df_2023 cleaned successfully.\nDataFrame df_2012 columns standardized successfully.\nDataFrame df_2013 columns standardized successfully.\nDataFrame df_2014 columns standardized successfully.\nDataFrame df_2015 columns standardized successfully.\nDataFrame df_2016 columns standardized successfully.\nDataFrame df_2017 columns standardized successfully.\nDataFrame df_2018 columns standardized successfully.\nDataFrame df_2019 columns standardized successfully.\nDataFrame df_2020 columns standardized successfully.\nDataFrame df_2021 columns standardized successfully.\nDataFrame df_2022 columns standardized successfully.\nDataFrame df_2023 columns standardized successfully.\n"
     ]
    },
    {
     "output_type": "stream",
     "name": "stderr",
     "output_type": "stream",
     "text": [
      "<command-4278259145946927>:176: SettingWithCopyWarning: \nA value is trying to be set on a copy of a slice from a DataFrame\n\nSee the caveats in the documentation: https://pandas.pydata.org/pandas-docs/stable/user_guide/indexing.html#returning-a-view-versus-a-copy\n  df.fillna(0, inplace=True)  # Fill with zero or use another method based on your requirements\n<command-4278259145946927>:176: SettingWithCopyWarning: \nA value is trying to be set on a copy of a slice from a DataFrame\n\nSee the caveats in the documentation: https://pandas.pydata.org/pandas-docs/stable/user_guide/indexing.html#returning-a-view-versus-a-copy\n  df.fillna(0, inplace=True)  # Fill with zero or use another method based on your requirements\n<command-4278259145946927>:176: SettingWithCopyWarning: \nA value is trying to be set on a copy of a slice from a DataFrame\n\nSee the caveats in the documentation: https://pandas.pydata.org/pandas-docs/stable/user_guide/indexing.html#returning-a-view-versus-a-copy\n  df.fillna(0, inplace=True)  # Fill with zero or use another method based on your requirements\n<command-4278259145946927>:176: SettingWithCopyWarning: \nA value is trying to be set on a copy of a slice from a DataFrame\n\nSee the caveats in the documentation: https://pandas.pydata.org/pandas-docs/stable/user_guide/indexing.html#returning-a-view-versus-a-copy\n  df.fillna(0, inplace=True)  # Fill with zero or use another method based on your requirements\n<command-4278259145946927>:176: SettingWithCopyWarning: \nA value is trying to be set on a copy of a slice from a DataFrame\n\nSee the caveats in the documentation: https://pandas.pydata.org/pandas-docs/stable/user_guide/indexing.html#returning-a-view-versus-a-copy\n  df.fillna(0, inplace=True)  # Fill with zero or use another method based on your requirements\n<command-4278259145946927>:176: SettingWithCopyWarning: \nA value is trying to be set on a copy of a slice from a DataFrame\n\nSee the caveats in the documentation: https://pandas.pydata.org/pandas-docs/stable/user_guide/indexing.html#returning-a-view-versus-a-copy\n  df.fillna(0, inplace=True)  # Fill with zero or use another method based on your requirements\n<command-4278259145946927>:176: SettingWithCopyWarning: \nA value is trying to be set on a copy of a slice from a DataFrame\n\nSee the caveats in the documentation: https://pandas.pydata.org/pandas-docs/stable/user_guide/indexing.html#returning-a-view-versus-a-copy\n  df.fillna(0, inplace=True)  # Fill with zero or use another method based on your requirements\n<command-4278259145946927>:176: SettingWithCopyWarning: \nA value is trying to be set on a copy of a slice from a DataFrame\n\nSee the caveats in the documentation: https://pandas.pydata.org/pandas-docs/stable/user_guide/indexing.html#returning-a-view-versus-a-copy\n  df.fillna(0, inplace=True)  # Fill with zero or use another method based on your requirements\n<command-4278259145946927>:176: SettingWithCopyWarning: \nA value is trying to be set on a copy of a slice from a DataFrame\n\nSee the caveats in the documentation: https://pandas.pydata.org/pandas-docs/stable/user_guide/indexing.html#returning-a-view-versus-a-copy\n  df.fillna(0, inplace=True)  # Fill with zero or use another method based on your requirements\n<command-4278259145946927>:176: SettingWithCopyWarning: \nA value is trying to be set on a copy of a slice from a DataFrame\n\nSee the caveats in the documentation: https://pandas.pydata.org/pandas-docs/stable/user_guide/indexing.html#returning-a-view-versus-a-copy\n  df.fillna(0, inplace=True)  # Fill with zero or use another method based on your requirements\n<command-4278259145946927>:176: SettingWithCopyWarning: \nA value is trying to be set on a copy of a slice from a DataFrame\n\nSee the caveats in the documentation: https://pandas.pydata.org/pandas-docs/stable/user_guide/indexing.html#returning-a-view-versus-a-copy\n  df.fillna(0, inplace=True)  # Fill with zero or use another method based on your requirements\n<command-4278259145946927>:176: SettingWithCopyWarning: \nA value is trying to be set on a copy of a slice from a DataFrame\n\nSee the caveats in the documentation: https://pandas.pydata.org/pandas-docs/stable/user_guide/indexing.html#returning-a-view-versus-a-copy\n  df.fillna(0, inplace=True)  # Fill with zero or use another method based on your requirements\n"
     ]
    }
   ],
   "source": [
    "# Function to download the files to local /tmp directory\n",
    "def download_file_to_tmp(dbfs_file_path):\n",
    "    local_path = \"/tmp/\" + os.path.basename(dbfs_file_path)\n",
    "    dbutils.fs.cp(dbfs_file_path, f\"file:{local_path}\")\n",
    "    return local_path\n",
    "\n",
    "# Function to clean column names safely\n",
    "def safe_clean_column_names(df):\n",
    "    df.columns = [str(col).strip().replace('Unnamed:', '').replace('\\n', ' ') for col in df.columns]\n",
    "    return df\n",
    "\n",
    "# Function to transpose and clean the \"Consolidated Overview\" sheet\n",
    "def transpose_and_clean(df):\n",
    "    # Drop completely empty rows and columns\n",
    "    df.dropna(how='all', inplace=True)\n",
    "    \n",
    "    # Transpose the DataFrame to set the first column as headers\n",
    "    df_transposed = df.T\n",
    "    \n",
    "    # Ensure all headers are strings\n",
    "    df_transposed.columns = df_transposed.iloc[0].astype(str)  # Convert first row to string for headers\n",
    "    df_transposed = df_transposed.drop(df_transposed.index[0])  # Drop the original header row from data\n",
    "\n",
    "    # Clean the column names\n",
    "    df_transposed = safe_clean_column_names(df_transposed)\n",
    "    \n",
    "    return df_transposed\n",
    "\n",
    "# Function to clean NaN values\n",
    "def clean_nan_values(df):\n",
    "    # Forward fill for sequential data\n",
    "    df.fillna(method='ffill', inplace=True)\n",
    "    \n",
    "    # Replace any remaining NaNs with 0 or an appropriate value for your analysis\n",
    "    df.fillna(0, inplace=True)\n",
    "    \n",
    "    return df\n",
    "\n",
    "# Function to clean and process the data further\n",
    "def clean_and_standardize_columns(df):\n",
    "    df_cleaned = transpose_and_clean(df)\n",
    "    \n",
    "    # Drop unnecessary columns or rows with unnamed or empty values\n",
    "    df_cleaned = df_cleaned.loc[:, ~df_cleaned.columns.str.contains('^Unnamed$', na=False)]\n",
    "    \n",
    "    # Remove dollar signs, commas, or other symbols from financial values\n",
    "    df_cleaned.replace({'\\$': '', ',': ''}, regex=True, inplace=True)\n",
    "    \n",
    "    # Clean NaN values\n",
    "    df_cleaned = clean_nan_values(df_cleaned)\n",
    "    \n",
    "    return df_cleaned\n",
    "\n",
    "# Function to load, transpose, and clean the \"Consolidated Overview\" sheet\n",
    "def load_and_clean_file(file_path):\n",
    "    try:\n",
    "        df = pd.read_excel(file_path, sheet_name='consolidated overview', engine='xlrd')\n",
    "        \n",
    "        # Clean and standardize the data\n",
    "        df_cleaned = clean_and_standardize_columns(df)\n",
    "        \n",
    "        return df_cleaned\n",
    "    except Exception as e:\n",
    "        print(f\"Error loading file {file_path}: {e}\")\n",
    "        return None\n",
    "\n",
    "# List of file paths for the Excel files in DBFS\n",
    "file_paths = [\n",
    "    \"dbfs:/FileStore/tables/Williams_10_K_2012.xls\",\n",
    "    \"dbfs:/FileStore/tables/Williams_10_K_2013.xls\",\n",
    "    \"dbfs:/FileStore/tables/Williams_10_K_2014.xls\",\n",
    "    \"dbfs:/FileStore/tables/Williams_10_K_2015.xls\",\n",
    "    \"dbfs:/FileStore/tables/Williams_10_K_2016.xls\",\n",
    "    \"dbfs:/FileStore/tables/Williams_10_K_2017.xls\",\n",
    "    \"dbfs:/FileStore/tables/Williams_10_K_2018.xls\",\n",
    "    \"dbfs:/FileStore/tables/Williams_10_K_2019.xls\",\n",
    "    \"dbfs:/FileStore/tables/Williams_10_K_2020.xls\",\n",
    "    \"dbfs:/FileStore/tables/Williams_10_K_2021.xls\",\n",
    "    \"dbfs:/FileStore/tables/Williams_10_K_2022.xls\",\n",
    "    \"dbfs:/FileStore/tables/Williams_10_K_2023.xls\"\n",
    "]\n",
    "\n",
    "# Step 1: Load and assign each cleaned dataframe to a variable\n",
    "for idx, file_path in enumerate(file_paths, start=2012):\n",
    "    local_file = download_file_to_tmp(file_path)\n",
    "    cleaned_df = load_and_clean_file(local_file)\n",
    "    \n",
    "    if cleaned_df is not None:\n",
    "        # Dynamically create a variable for each year\n",
    "        globals()[f'df_{idx}'] = cleaned_df\n",
    "        print(f\"Data for year {idx} loaded successfully\")\n",
    "    else:\n",
    "        print(f\"Error processing the file for year {idx}\")\n",
    "\n",
    "# Now, you should have variables named df_2012, df_2013, etc.\n",
    "\n",
    "# Function to clean non-numeric values and convert columns to numeric\n",
    "def clean_numeric_columns(df, columns):\n",
    "    for col in columns:\n",
    "        if col in df.columns:\n",
    "            df[col] = pd.to_numeric(df[col], errors='coerce')  # Convert to numeric, set errors as NaN for non-numeric data\n",
    "    return df\n",
    "\n",
    "# Function to handle column mismatches by renaming columns\n",
    "def standardize_columns(df, target_columns):\n",
    "    current_columns = set(df.columns)\n",
    "    if current_columns != target_columns:\n",
    "        # Only keep columns that are in the target set\n",
    "        df = df.loc[:, df.columns.isin(target_columns)]\n",
    "        # Ensure all necessary columns exist in the DataFrame, adding missing ones with NaN values\n",
    "        missing_cols = target_columns - current_columns\n",
    "        for col in missing_cols:\n",
    "            df[col] = pd.NA\n",
    "    return df\n",
    "\n",
    "# Function to remove duplicate rows\n",
    "def remove_duplicates(df):\n",
    "    return df.drop_duplicates()\n",
    "\n",
    "# List of critical columns expected in the DataFrames\n",
    "critical_columns = ['Total revenues', 'Net income (loss)', 'Interest expense', 'Operating income (loss)', 'Depreciation and amortization expenses', 'Product sales', 'Service revenues']\n",
    "\n",
    "# Validation for column consistency and numeric conversion\n",
    "for idx, df in enumerate([df_2012, df_2013, df_2014, df_2015, df_2016, df_2017, df_2018, df_2019, df_2020, df_2021, df_2022, df_2023]):\n",
    "    print(f\"\\nValidating DataFrame for year {2012 + idx}\")\n",
    "\n",
    "    # Check if all critical columns are present\n",
    "    missing_columns = [col for col in critical_columns if col not in df.columns]\n",
    "    if missing_columns:\n",
    "        print(f\"DataFrame for year {2012 + idx} is missing columns: {missing_columns}\")\n",
    "        # Optionally, add missing columns with default values\n",
    "        for col in missing_columns:\n",
    "            df[col] = 0  # or np.nan, depending on the context\n",
    "\n",
    "    # Proceed with numeric validation for columns that exist\n",
    "    for col in critical_columns:\n",
    "        if col in df.columns:\n",
    "            try:\n",
    "                df[col] = pd.to_numeric(df[col], errors='coerce')\n",
    "                print(f\"Column '{col}' in DataFrame for year {2012 + idx} is numeric.\")\n",
    "            except Exception as e:\n",
    "                print(f\"Error converting column '{col}' in DataFrame for year {2012 + idx}: {e}\")\n",
    "\n",
    "# Function to rename columns to a standard set\n",
    "def rename_columns_to_standard(df):\n",
    "    # Standard column names to enforce consistency\n",
    "    standard_columns = [\n",
    "        'Total revenues', 'Net income (loss)', 'Interest expense', \n",
    "        'Operating income (loss)', 'Depreciation and amortization expenses', \n",
    "        'Product sales', 'Service revenues'\n",
    "    ]\n",
    "\n",
    "    # Rename columns using the standard list\n",
    "    df.columns = [col if col in standard_columns else 'Unknown' for col in df.columns]\n",
    "\n",
    "    # Filter columns to keep only standard columns\n",
    "    df = df[[col for col in df.columns if col in standard_columns]]\n",
    "\n",
    "    return df\n",
    "\n",
    "# Then call the function as planned\n",
    "df = rename_columns_to_standard(df)\n",
    "\n",
    "\n",
    "# Apply cleaning and standardization to each DataFrame\n",
    "for year in range(2012, 2024):\n",
    "    df_var_name = f'df_{year}'\n",
    "\n",
    "    if df_var_name in globals():\n",
    "        df = globals()[df_var_name]\n",
    "\n",
    "        # Rename columns for consistency\n",
    "        df = rename_columns_to_standard(df)\n",
    "\n",
    "        # Handle missing data\n",
    "        df.fillna(0, inplace=True)  # Fill with zero or use another method based on your requirements\n",
    "\n",
    "        # Remove duplicate rows\n",
    "        df = remove_duplicates(df)\n",
    "\n",
    "        # Re-assign the cleaned DataFrame to the global variable\n",
    "        globals()[df_var_name] = df\n",
    "        print(f\"DataFrame {df_var_name} cleaned successfully.\")\n",
    "    else:\n",
    "        print(f\"DataFrame {df_var_name} is missing or was not loaded correctly.\")\n",
    "\n",
    "# List of standard column names to enforce across all DataFrames\n",
    "standard_columns = [\n",
    "    'Total revenues', 'Net income (loss)', 'Interest expense', \n",
    "    'Operating income (loss)', 'Depreciation and amortization expenses', \n",
    "    'Product sales', 'Service revenues'\n",
    "]\n",
    "\n",
    "# Apply renaming to ensure consistency across all DataFrames\n",
    "for year in range(2012, 2024):\n",
    "    df_var_name = f'df_{year}'\n",
    "\n",
    "    if df_var_name in globals():\n",
    "        df = globals()[df_var_name]\n",
    "\n",
    "        # Rename columns using the standard list\n",
    "        df.columns = [col if col in standard_columns else 'Unknown' for col in df.columns]\n",
    "\n",
    "        # Filter columns to keep only standard columns\n",
    "        df = df[[col for col in df.columns if col in standard_columns]]\n",
    "\n",
    "        # Re-assign the cleaned DataFrame to the global variable\n",
    "        globals()[df_var_name] = df\n",
    "        print(f\"DataFrame {df_var_name} columns standardized successfully.\")\n",
    "    else:\n",
    "        print(f\"DataFrame {df_var_name} is missing or was not loaded correctly.\")\n"
   ]
  },
  {
   "cell_type": "code",
   "execution_count": 0,
   "metadata": {
    "application/vnd.databricks.v1+cell": {
     "cellMetadata": {
      "byteLimit": 2048000,
      "rowLimit": 10000
     },
     "inputWidgets": {},
     "nuid": "1e5cf0bb-720c-4e5c-a7fd-009fcdc7060e",
     "showTitle": false,
     "title": ""
    }
   },
   "outputs": [
    {
     "output_type": "stream",
     "name": "stdout",
     "output_type": "stream",
     "text": [
      "DataFrame 1 column names are consistent.\nDataFrame 2 column names are consistent.\nDataFrame 3 column names are consistent.\nDataFrame 4 column names are consistent.\nDataFrame 5 column names are consistent.\nDataFrame 6 column names are consistent.\nDataFrame 7 column names are consistent.\nDataFrame 8 column names are consistent.\nDataFrame 9 column names are consistent.\nDataFrame 10 column names are consistent.\nDataFrame 11 column names are consistent.\nDataFrame 12 column names are consistent.\nColumn 'Total revenues' is numeric.\nColumn 'Net income (loss)' is numeric.\nColumn 'Interest expense' is numeric.\nColumn 'Operating income (loss)' is numeric.\nColumn 'Depreciation and amortization expenses' is numeric.\nNo duplicate rows found.\nNo missing data in critical columns.\nColumn 'Total revenues' is numeric.\nColumn 'Net income (loss)' is numeric.\nColumn 'Interest expense' is numeric.\nColumn 'Operating income (loss)' is numeric.\nColumn 'Depreciation and amortization expenses' is numeric.\nNo duplicate rows found.\nNo missing data in critical columns.\nColumn 'Total revenues' is numeric.\nColumn 'Net income (loss)' is numeric.\nColumn 'Interest expense' is numeric.\nColumn 'Operating income (loss)' is numeric.\nColumn 'Depreciation and amortization expenses' is numeric.\nNo duplicate rows found.\nNo missing data in critical columns.\nColumn 'Total revenues' is numeric.\nColumn 'Net income (loss)' is numeric.\nColumn 'Interest expense' is numeric.\nColumn 'Operating income (loss)' is numeric.\nColumn 'Depreciation and amortization expenses' is numeric.\nNo duplicate rows found.\nNo missing data in critical columns.\nColumn 'Total revenues' is numeric.\nColumn 'Net income (loss)' is numeric.\nColumn 'Interest expense' is numeric.\nColumn 'Operating income (loss)' is numeric.\nColumn 'Depreciation and amortization expenses' is numeric.\nNo duplicate rows found.\nNo missing data in critical columns.\nColumn 'Total revenues' is numeric.\nColumn 'Net income (loss)' is numeric.\nColumn 'Interest expense' is numeric.\nColumn 'Operating income (loss)' is numeric.\nColumn 'Depreciation and amortization expenses' is numeric.\nNo duplicate rows found.\nNo missing data in critical columns.\nColumn 'Total revenues' is numeric.\nColumn 'Net income (loss)' is numeric.\nColumn 'Interest expense' is numeric.\nColumn 'Operating income (loss)' is numeric.\nColumn 'Depreciation and amortization expenses' is numeric.\nNo duplicate rows found.\nNo missing data in critical columns.\nColumn 'Total revenues' is numeric.\nColumn 'Net income (loss)' is numeric.\nColumn 'Interest expense' is numeric.\nColumn 'Operating income (loss)' is numeric.\nColumn 'Depreciation and amortization expenses' is numeric.\nNo duplicate rows found.\nNo missing data in critical columns.\nColumn 'Total revenues' is numeric.\nColumn 'Net income (loss)' is numeric.\nColumn 'Interest expense' is numeric.\nColumn 'Operating income (loss)' is numeric.\nColumn 'Depreciation and amortization expenses' is numeric.\nNo duplicate rows found.\nNo missing data in critical columns.\nColumn 'Total revenues' is numeric.\nColumn 'Net income (loss)' is numeric.\nColumn 'Interest expense' is numeric.\nColumn 'Operating income (loss)' is numeric.\nColumn 'Depreciation and amortization expenses' is numeric.\nNo duplicate rows found.\nNo missing data in critical columns.\nColumn 'Total revenues' is numeric.\nColumn 'Net income (loss)' is numeric.\nColumn 'Interest expense' is numeric.\nColumn 'Operating income (loss)' is numeric.\nColumn 'Depreciation and amortization expenses' is numeric.\nNo duplicate rows found.\nNo missing data in critical columns.\nColumn 'Total revenues' is numeric.\nColumn 'Net income (loss)' is numeric.\nColumn 'Interest expense' is numeric.\nColumn 'Operating income (loss)' is numeric.\nColumn 'Depreciation and amortization expenses' is numeric.\nNo duplicate rows found.\nNo missing data in critical columns.\n"
     ]
    }
   ],
   "source": [
    "# Validate if column names are consistent across all DataFrames\n",
    "def validate_column_consistency(dataframes):\n",
    "    column_set = set(dataframes[0].columns)\n",
    "    for i, df in enumerate(dataframes):\n",
    "        if set(df.columns) != column_set:\n",
    "            print(f\"Column mismatch in DataFrame {i + 1}\")\n",
    "        else:\n",
    "            print(f\"DataFrame {i + 1} column names are consistent.\")\n",
    "\n",
    "# Validate if numeric columns contain any non-numeric data\n",
    "def validate_numeric_columns(df, numeric_columns):\n",
    "    for col in numeric_columns:\n",
    "        if not pd.api.types.is_numeric_dtype(df[col]):\n",
    "            print(f\"Non-numeric data found in column '{col}'\")\n",
    "        else:\n",
    "            print(f\"Column '{col}' is numeric.\")\n",
    "\n",
    "# Validate if there are any duplicate rows\n",
    "def validate_duplicates(df):\n",
    "    duplicate_rows = df.duplicated().sum()\n",
    "    if duplicate_rows > 0:\n",
    "        print(f\"{duplicate_rows} duplicate rows found.\")\n",
    "    else:\n",
    "        print(\"No duplicate rows found.\")\n",
    "\n",
    "# Validate missing data in critical columns\n",
    "def validate_missing_data(df, critical_columns):\n",
    "    missing_data = df[critical_columns].isnull().sum()\n",
    "    if missing_data.any():\n",
    "        print(\"Missing data detected in critical columns:\")\n",
    "        print(missing_data[missing_data > 0])\n",
    "    else:\n",
    "        print(\"No missing data in critical columns.\")\n",
    "\n",
    "# List of numeric columns and critical columns to validate\n",
    "numeric_columns = ['Total revenues', 'Net income (loss)', 'Interest expense', 'Operating income (loss)', 'Depreciation and amortization expenses']\n",
    "critical_columns = ['Total revenues', 'Net income (loss)', 'Product sales', 'Service revenues']\n",
    "\n",
    "# Example usage assuming you have a list of DataFrames (from each file)\n",
    "dataframes = [df_2012, df_2013, df_2014, df_2015, df_2016, df_2017, df_2018, df_2019, df_2020, df_2021, df_2022, df_2023]  # Replace with your actual DataFrames\n",
    "\n",
    "# Validate consistency and data integrity\n",
    "validate_column_consistency(dataframes)\n",
    "for df in dataframes:\n",
    "    validate_numeric_columns(df, numeric_columns)\n",
    "    validate_duplicates(df)\n",
    "    validate_missing_data(df, critical_columns)\n"
   ]
  },
  {
   "cell_type": "markdown",
   "metadata": {
    "application/vnd.databricks.v1+cell": {
     "cellMetadata": {
      "byteLimit": 2048000,
      "rowLimit": 10000
     },
     "inputWidgets": {},
     "nuid": "090a9c7f-9587-4d8a-b996-c50e7f158610",
     "showTitle": false,
     "title": ""
    }
   },
   "source": [
    "# Data Consolidation\n",
    "\n",
    "After cleaning, the 10-K datasets from 2012 to 2023 were consolidated into a single DataFrame. This allowes a holistic view of the financial data across all years. Column consistency checks were used and ensured that any mismatches were corrected, adding missing columns where necessary. The result was a well-structured and comprehensive dataset ready for advanced analysis. This step was crucial to enable year-over-year analyses, which often drive business decisions and highlight key trends."
   ]
  },
  {
   "cell_type": "code",
   "execution_count": 0,
   "metadata": {
    "application/vnd.databricks.v1+cell": {
     "cellMetadata": {
      "byteLimit": 2048000,
      "rowLimit": 10000
     },
     "inputWidgets": {},
     "nuid": "3cb61b81-50cf-4da5-a40c-0974582efb3e",
     "showTitle": true,
     "title": "Data Consolidation"
    }
   },
   "outputs": [
    {
     "output_type": "stream",
     "name": "stdout",
     "output_type": "stream",
     "text": [
      "\nConsolidated DataFrame:\n   Service revenues  Product sales  Total revenues  \\\n0               0.0            0.0             0.0   \n1            2729.0            0.0             0.0   \n2            2729.0         4757.0          7486.0   \n3             197.0         -641.0          7486.0   \n4               0.0            0.0          7486.0   \n\n   Depreciation and amortization expenses  Operating income (loss)  \\\n0                                     0.0                      0.0   \n1                                     0.0                      0.0   \n2                                   756.0                   1612.0   \n3                                   -95.0                   1612.0   \n4                                     0.0                   1612.0   \n\n   Interest expense  Net income (loss)  \n0               0.0                0.0  \n1               0.0                0.0  \n2            -509.0             1065.0  \n3              64.0             1065.0  \n4               0.0             1065.0  \n"
     ]
    }
   ],
   "source": [
    "# Remove the duplicate rows for the 2012 DataFrame\n",
    "df_2012 = df_2012.drop_duplicates()\n",
    "\n",
    "# Create a list of all cleaned DataFrames\n",
    "dfs = [globals()[f'df_{year}'] for year in range(2012, 2024) if f'df_{year}' in globals()]\n",
    "\n",
    "# Concatenate all DataFrames into a single DataFrame\n",
    "consolidated_df = pd.concat(dfs, ignore_index=True)\n",
    "\n",
    "# Preview the consolidated DataFrame\n",
    "print(\"\\nConsolidated DataFrame:\")\n",
    "print(consolidated_df.head())\n"
   ]
  },
  {
   "cell_type": "code",
   "execution_count": 0,
   "metadata": {
    "application/vnd.databricks.v1+cell": {
     "cellMetadata": {
      "byteLimit": 2048000,
      "rowLimit": 10000
     },
     "inputWidgets": {},
     "nuid": "0f34f0fe-603c-4867-b78b-50d977adcdef",
     "showTitle": false,
     "title": ""
    }
   },
   "outputs": [
    {
     "output_type": "stream",
     "name": "stdout",
     "output_type": "stream",
     "text": [
      "\nConsolidated DataFrame after removing rows with all zeros:\n\nConsolidated DataFrame after dropping duplicates:\n   Service revenues  Product sales  Total revenues  \\\n1            2729.0            0.0             0.0   \n2            2729.0         4757.0          7486.0   \n3             197.0         -641.0          7486.0   \n4               0.0            0.0          7486.0   \n5            2532.0            0.0          7486.0   \n\n   Depreciation and amortization expenses  Operating income (loss)  \\\n1                                     0.0                      0.0   \n2                                   756.0                   1612.0   \n3                                   -95.0                   1612.0   \n4                                     0.0                   1612.0   \n5                                     0.0                   1612.0   \n\n   Interest expense  Net income (loss)  \n1               0.0                0.0  \n2            -509.0             1065.0  \n3              64.0             1065.0  \n4               0.0             1065.0  \n5               0.0             1065.0  \n"
     ]
    }
   ],
   "source": [
    "consolidated_df = consolidated_df.loc[(consolidated_df != 0).any(axis=1)]\n",
    "print(\"\\nConsolidated DataFrame after removing rows with all zeros:\")\n",
    "\n",
    "consolidated_df.drop_duplicates(inplace=True)\n",
    "print(\"\\nConsolidated DataFrame after dropping duplicates:\")\n",
    "print(consolidated_df.head())\n",
    "\n",
    "\n"
   ]
  },
  {
   "cell_type": "markdown",
   "metadata": {
    "application/vnd.databricks.v1+cell": {
     "cellMetadata": {
      "byteLimit": 2048000,
      "rowLimit": 10000
     },
     "inputWidgets": {},
     "nuid": "1f808387-1a20-4dbd-be7f-a94d8c5f1ff1",
     "showTitle": false,
     "title": ""
    }
   },
   "source": [
    "# Final Sanity Check\n",
    "\n",
    "To ensure everything was ready before feature engineering, a final inspection was performed. Column data types were validated, checked for missing values in critical columns, and made sure no duplicate rows were present. Additionally, I looked for any unrealistic values that could negatively impact model performance. This sanity check serves as a gatekeeping measure, ensuring only quality data moves forward into feature engineering."
   ]
  },
  {
   "cell_type": "code",
   "execution_count": 0,
   "metadata": {
    "application/vnd.databricks.v1+cell": {
     "cellMetadata": {
      "byteLimit": 2048000,
      "rowLimit": 10000
     },
     "inputWidgets": {},
     "nuid": "8f4ae754-9dab-4ca9-bb8b-70be0ca833a4",
     "showTitle": true,
     "title": "Sanity Check"
    }
   },
   "outputs": [
    {
     "output_type": "stream",
     "name": "stdout",
     "output_type": "stream",
     "text": [
      "\n--- Column Consistency Check ---\nAll critical columns are present.\n\n--- Data Type Check for Critical Columns ---\nColumn 'Total revenues' is numeric.\nColumn 'Net income (loss)' is numeric.\nColumn 'Interest expense' is numeric.\nColumn 'Operating income (loss)' is numeric.\nColumn 'Depreciation and amortization expenses' is numeric.\nColumn 'Product sales' is numeric.\nColumn 'Service revenues' is numeric.\n\n--- Missing Values Check ---\nNo missing data in critical columns.\n\n--- Duplicate Rows Check ---\nNo duplicate rows found.\n\n--- Range/Value Consistency Check ---\nColumn 'Total revenues' values are within the expected range.\nColumn 'Net income (loss)' values are within the expected range.\nWarning: Negative values detected in column 'Interest expense' where they are not expected.\nColumn 'Operating income (loss)' values are within the expected range.\nWarning: Negative values detected in column 'Depreciation and amortization expenses' where they are not expected.\nWarning: Negative values detected in column 'Product sales' where they are not expected.\nWarning: Negative values detected in column 'Service revenues' where they are not expected.\n"
     ]
    }
   ],
   "source": [
    "# Final Sanity Check Function\n",
    "def final_sanity_check(df, critical_columns):\n",
    "    # Step 1: Column Consistency Check\n",
    "    print(\"\\n--- Column Consistency Check ---\")\n",
    "    consistent_columns = all(col in df.columns for col in critical_columns)\n",
    "    if consistent_columns:\n",
    "        print(\"All critical columns are present.\")\n",
    "    else:\n",
    "        missing_columns = [col for col in critical_columns if col not in df.columns]\n",
    "        print(f\"Missing critical columns: {missing_columns}\")\n",
    "\n",
    "    # Step 2: Data Types Check\n",
    "    print(\"\\n--- Data Type Check for Critical Columns ---\")\n",
    "    for col in critical_columns:\n",
    "        if col in df.columns:\n",
    "            if pd.api.types.is_numeric_dtype(df[col]):\n",
    "                print(f\"Column '{col}' is numeric.\")\n",
    "            else:\n",
    "                print(f\"Column '{col}' is NOT numeric, found type: {df[col].dtype}\")\n",
    "\n",
    "    # Step 3: Missing Values Check\n",
    "    print(\"\\n--- Missing Values Check ---\")\n",
    "    missing_values = df[critical_columns].isnull().sum()\n",
    "    if missing_values.sum() > 0:\n",
    "        print(\"Missing data detected in critical columns:\")\n",
    "        print(missing_values[missing_values > 0])\n",
    "    else:\n",
    "        print(\"No missing data in critical columns.\")\n",
    "\n",
    "    # Step 4: Duplicate Rows Check\n",
    "    print(\"\\n--- Duplicate Rows Check ---\")\n",
    "    duplicate_rows = df.duplicated().sum()\n",
    "    if duplicate_rows > 0:\n",
    "        print(f\"{duplicate_rows} duplicate rows found.\")\n",
    "    else:\n",
    "        print(\"No duplicate rows found.\")\n",
    "\n",
    "    # Step 5: Range/Value Consistency Check\n",
    "    print(\"\\n--- Range/Value Consistency Check ---\")\n",
    "    for col in critical_columns:\n",
    "        if col in df.columns and pd.api.types.is_numeric_dtype(df[col]):\n",
    "            if (df[col] < 0).any() and col != 'Net income (loss)':\n",
    "                print(f\"Warning: Negative values detected in column '{col}' where they are not expected.\")\n",
    "            else:\n",
    "                print(f\"Column '{col}' values are within the expected range.\")\n",
    "\n",
    "# Define critical columns to check\n",
    "critical_columns = [\n",
    "    'Total revenues', 'Net income (loss)', 'Interest expense', \n",
    "    'Operating income (loss)', 'Depreciation and amortization expenses',\n",
    "    'Product sales', 'Service revenues'\n",
    "]\n",
    "\n",
    "# Apply the final sanity check to the consolidated DataFrame\n",
    "final_sanity_check(consolidated_df, critical_columns)\n"
   ]
  },
  {
   "cell_type": "markdown",
   "metadata": {
    "application/vnd.databricks.v1+cell": {
     "cellMetadata": {
      "byteLimit": 2048000,
      "rowLimit": 10000
     },
     "inputWidgets": {},
     "nuid": "6c02b6f9-f85a-4ba0-963a-0c14dffc1342",
     "showTitle": false,
     "title": ""
    }
   },
   "source": [
    "# Feature Engineering"
   ]
  },
  {
   "cell_type": "markdown",
   "metadata": {
    "application/vnd.databricks.v1+cell": {
     "cellMetadata": {
      "byteLimit": 2048000,
      "rowLimit": 10000
     },
     "inputWidgets": {},
     "nuid": "bd63c759-f636-4204-b0ff-c40e482c0988",
     "showTitle": false,
     "title": ""
    }
   },
   "source": [
    "We created multiple key features to derive insights and enrich our dataset for future analysis. Some of the engineered features include:\n",
    "\n",
    "- *YoY_Revenue_Growth:* Captures the year-over-year revenue change, providing insight into business growth over time.\n",
    "\n",
    "- *YoY_Net_Income_Growth:* Similar to YoY_Revenue_Growth but for net income, allowing us to track profitability trends.\n",
    "\n",
    "- *Profit_Margin and Operating_Margin:* These features were generated to understand the financial health and operational efficiency of the company.\n",
    "\n",
    "- *Depreciation_Percent_Revenue and Interest_Expense_Percent_Revenue:* These ratios help evaluate the impact of depreciation and interest expense relative to revenue.\n",
    "\n",
    "These features are critical for understanding both the revenue drivers and expense breakdown, setting up the dataset for more insightful analysis in the future."
   ]
  },
  {
   "cell_type": "code",
   "execution_count": 0,
   "metadata": {
    "application/vnd.databricks.v1+cell": {
     "cellMetadata": {
      "byteLimit": 2048000,
      "rowLimit": 10000
     },
     "inputWidgets": {},
     "nuid": "3f05b235-0708-4426-8b97-9cc4a26b096c",
     "showTitle": true,
     "title": "Feature Engineering"
    }
   },
   "outputs": [
    {
     "output_type": "stream",
     "name": "stdout",
     "output_type": "stream",
     "text": [
      "             Service revenues  Product sales  Total revenues  \\\nUnnamed: 1                0.0            0.0             0.0   \nUnnamed: 3             7026.0         2779.0         10907.0   \nUnnamed: 9              490.0        -1777.0         10907.0   \nUnnamed: 15               0.0            0.0         10907.0   \nUnnamed: 21            6536.0         4556.0         10965.0   \n\n             Depreciation and amortization expenses  Operating income (loss)  \\\nUnnamed: 1                                      0.0                      0.0   \nUnnamed: 3                                   2071.0                   4311.0   \nUnnamed: 9                                    -62.0                   4311.0   \nUnnamed: 15                                     0.0                   4311.0   \nUnnamed: 21                                  2009.0                   3018.0   \n\n             Interest expense  Net income (loss)  YoY_Revenue_Growth  \\\nUnnamed: 1                0.0                0.0            0.000000   \nUnnamed: 3            -1236.0             3303.0            0.000000   \nUnnamed: 9              -89.0             3303.0            0.000000   \nUnnamed: 15               0.0             3303.0            0.000000   \nUnnamed: 21           -1147.0             2117.0            0.005318   \n\n             YoY_Net_Income_Growth  Profit_Margin  Operating_Margin  \\\nUnnamed: 1                0.000000       0.000000          0.000000   \nUnnamed: 3                0.000000       0.302833          0.395251   \nUnnamed: 9                0.000000       0.302833          0.395251   \nUnnamed: 15               0.000000       0.302833          0.395251   \nUnnamed: 21              -0.359068       0.193069          0.275239   \n\n             Depreciation_Percent_Revenue  Interest_Expense_Percent_Revenue  \nUnnamed: 1                       0.000000                          0.000000  \nUnnamed: 3                       0.189878                         -0.113322  \nUnnamed: 9                      -0.005684                         -0.008160  \nUnnamed: 15                      0.000000                          0.000000  \nUnnamed: 21                      0.183219                         -0.104606  \n"
     ]
    }
   ],
   "source": [
    "# Feature Engineering Step\n",
    "df['YoY_Revenue_Growth'] = df['Total revenues'].pct_change().fillna(0).replace([float('inf'), -float('inf')], 0)\n",
    "df['YoY_Net_Income_Growth'] = df['Net income (loss)'].pct_change().fillna(0).replace([float('inf'), -float('inf')], 0)\n",
    "df['Profit_Margin'] = (df['Net income (loss)'] / df['Total revenues']).fillna(0)\n",
    "df['Operating_Margin'] = (df['Operating income (loss)'] / df['Total revenues']).fillna(0)\n",
    "df['Depreciation_Percent_Revenue'] = (df['Depreciation and amortization expenses'] / df['Total revenues']).fillna(0)\n",
    "df['Interest_Expense_Percent_Revenue'] = (df['Interest expense'] / df['Total revenues']).fillna(0)\n",
    "\n",
    "# Print the DataFrame to check if feature-engineered columns are there\n",
    "print(df.head())\n"
   ]
  },
  {
   "cell_type": "code",
   "execution_count": 0,
   "metadata": {
    "application/vnd.databricks.v1+cell": {
     "cellMetadata": {
      "byteLimit": 2048000,
      "rowLimit": 10000
     },
     "inputWidgets": {},
     "nuid": "ffee53a1-b9ca-42d8-b981-8b9fa2722460",
     "showTitle": false,
     "title": ""
    }
   },
   "outputs": [
    {
     "output_type": "stream",
     "name": "stdout",
     "output_type": "stream",
     "text": [
      "\nFeature-Engineered DataFrame after handling unrealistic values:\n             Service revenues  Product sales  Total revenues  \\\nUnnamed: 1                0.0            0.0             0.0   \nUnnamed: 3             7026.0         2779.0         10907.0   \nUnnamed: 9              490.0            0.0         10907.0   \nUnnamed: 15               0.0            0.0         10907.0   \nUnnamed: 21            6536.0         4556.0         10965.0   \n\n             Depreciation and amortization expenses  Operating income (loss)  \\\nUnnamed: 1                                      0.0                      0.0   \nUnnamed: 3                                   2071.0                   4311.0   \nUnnamed: 9                                    -62.0                   4311.0   \nUnnamed: 15                                     0.0                   4311.0   \nUnnamed: 21                                  2009.0                   3018.0   \n\n             Interest expense  Net income (loss)  YoY_Revenue_Growth  \\\nUnnamed: 1                0.0                0.0            0.000000   \nUnnamed: 3            -1236.0             3303.0            0.000000   \nUnnamed: 9              -89.0             3303.0            0.000000   \nUnnamed: 15               0.0             3303.0            0.000000   \nUnnamed: 21           -1147.0             2117.0            0.005318   \n\n             YoY_Net_Income_Growth  Profit_Margin  Operating_Margin  \\\nUnnamed: 1                0.000000       0.000000          0.000000   \nUnnamed: 3                0.000000       0.302833          0.395251   \nUnnamed: 9                0.000000       0.302833          0.395251   \nUnnamed: 15               0.000000       0.302833          0.395251   \nUnnamed: 21              -0.359068       0.193069          0.275239   \n\n             Depreciation_Percent_Revenue  Interest_Expense_Percent_Revenue  \nUnnamed: 1                       0.000000                               0.0  \nUnnamed: 3                       0.189878                               0.0  \nUnnamed: 9                       0.000000                               0.0  \nUnnamed: 15                      0.000000                               0.0  \nUnnamed: 21                      0.183219                               0.0  \n"
     ]
    }
   ],
   "source": [
    "# Handling negative values where they are unexpected\n",
    "columns_to_correct = [\n",
    "    'Interest_Expense_Percent_Revenue',\n",
    "    'Depreciation_Percent_Revenue',\n",
    "    'Product sales',\n",
    "    'Service revenues'\n",
    "]\n",
    "\n",
    "for col in columns_to_correct:\n",
    "    if col in df.columns:\n",
    "        df[col] = df[col].apply(lambda x: max(0, x))\n",
    "\n",
    "# Print the updated DataFrame\n",
    "print(\"\\nFeature-Engineered DataFrame after handling unrealistic values:\")\n",
    "print(df.head())\n",
    "\n"
   ]
  },
  {
   "cell_type": "code",
   "execution_count": 0,
   "metadata": {
    "application/vnd.databricks.v1+cell": {
     "cellMetadata": {
      "byteLimit": 2048000,
      "rowLimit": 10000
     },
     "inputWidgets": {},
     "nuid": "7f55daed-0ac6-4c30-a9f3-b9d9fd1c776d",
     "showTitle": false,
     "title": ""
    }
   },
   "outputs": [
    {
     "output_type": "stream",
     "name": "stdout",
     "output_type": "stream",
     "text": [
      "\nFeature-Engineered DataFrame after handling unrealistic values:\n             Service revenues  Product sales  Total revenues  \\\nUnnamed: 1                0.0            0.0             0.0   \nUnnamed: 3             7026.0         2779.0         10907.0   \nUnnamed: 9              490.0            0.0         10907.0   \nUnnamed: 15               0.0            0.0         10907.0   \nUnnamed: 21            6536.0         4556.0         10965.0   \n\n             Depreciation and amortization expenses  Operating income (loss)  \\\nUnnamed: 1                                      0.0                      0.0   \nUnnamed: 3                                   2071.0                   4311.0   \nUnnamed: 9                                      0.0                   4311.0   \nUnnamed: 15                                     0.0                   4311.0   \nUnnamed: 21                                  2009.0                   3018.0   \n\n             Interest expense  Net income (loss)  YoY_Revenue_Growth  \\\nUnnamed: 1                0.0                0.0            0.000000   \nUnnamed: 3                0.0             3303.0            0.000000   \nUnnamed: 9                0.0             3303.0            0.000000   \nUnnamed: 15               0.0             3303.0            0.000000   \nUnnamed: 21               0.0             2117.0            0.005318   \n\n             YoY_Net_Income_Growth  Profit_Margin  Operating_Margin  \\\nUnnamed: 1                0.000000       0.000000          0.000000   \nUnnamed: 3                0.000000       0.302833          0.395251   \nUnnamed: 9                0.000000       0.302833          0.395251   \nUnnamed: 15               0.000000       0.302833          0.395251   \nUnnamed: 21              -0.359068       0.193069          0.275239   \n\n             Depreciation_Percent_Revenue  Interest_Expense_Percent_Revenue  \nUnnamed: 1                       0.000000                               0.0  \nUnnamed: 3                       0.189878                               0.0  \nUnnamed: 9                       0.000000                               0.0  \nUnnamed: 15                      0.000000                               0.0  \nUnnamed: 21                      0.183219                               0.0  \n"
     ]
    }
   ],
   "source": [
    "import numpy as np\n",
    "\n",
    "# Replace infinite values with NaN, and then fill them with zeros or appropriate methods.\n",
    "df.replace([np.inf, -np.inf], np.nan, inplace=True)\n",
    "\n",
    "# Handling NaN values generated due to infinite replacements.\n",
    "# For YoY_Revenue_Growth and YoY_Net_Income_Growth, replacing NaNs with 0 to indicate no growth where applicable.\n",
    "df['YoY_Revenue_Growth'].fillna(0, inplace=True)\n",
    "df['YoY_Net_Income_Growth'].fillna(0, inplace=True)\n",
    "\n",
    "# Replace negative values in 'Product sales', 'Service revenues', and other revenue-related columns with 0.\n",
    "# Assuming negative revenues are due to data errors or are conceptually not applicable.\n",
    "df['Product sales'] = df['Product sales'].apply(lambda x: max(x, 0))\n",
    "df['Service revenues'] = df['Service revenues'].apply(lambda x: max(x, 0))\n",
    "\n",
    "# Optional: You can also clip other columns to prevent unrealistic negative values if needed.\n",
    "# For example, preventing negative depreciation or interest expense values.\n",
    "df['Depreciation and amortization expenses'] = df['Depreciation and amortization expenses'].apply(lambda x: max(x, 0))\n",
    "df['Interest expense'] = df['Interest expense'].apply(lambda x: max(x, 0))\n",
    "\n",
    "# After cleaning, print the DataFrame to verify\n",
    "print(\"\\nFeature-Engineered DataFrame after handling unrealistic values:\")\n",
    "print(df.head())\n"
   ]
  },
  {
   "cell_type": "markdown",
   "metadata": {
    "application/vnd.databricks.v1+cell": {
     "cellMetadata": {
      "byteLimit": 2048000,
      "rowLimit": 10000
     },
     "inputWidgets": {},
     "nuid": "5aa76048-1a36-48d6-9a5e-906384b972d9",
     "showTitle": false,
     "title": ""
    }
   },
   "source": [
    "# Advanced Feature Engineering for Predictive Analytics\n",
    "\n",
    "In this final step, I focused on creating advanced features that would be directly used in machine learning models. Examples include rolling averages, lagged revenue and net income values, and engineered interactions like Profit_Margin_Lag_1. These features provide temporal and trend-related information, which is essential for predictive modeling. Additionally, we checked for feature correlations to ensure no redundant features made it into our final model, reducing the chances of overfitting and improving model efficiency."
   ]
  },
  {
   "cell_type": "code",
   "execution_count": 0,
   "metadata": {
    "application/vnd.databricks.v1+cell": {
     "cellMetadata": {
      "byteLimit": 2048000,
      "rowLimit": 10000
     },
     "inputWidgets": {},
     "nuid": "99683fc6-fc2e-4c27-bdea-2dc7140eb304",
     "showTitle": true,
     "title": "Advanced Feature Engineering"
    }
   },
   "outputs": [],
   "source": [
    "# Lagged Revenue and Net Income (1-year Lag)\n",
    "df['Revenue_Lag_1'] = df['Total revenues'].shift(1)\n",
    "df['Net_Income_Lag_1'] = df['Net income (loss)'].shift(1)\n",
    "\n",
    "#Year-Over-Year (YoY) Growth Rates\n",
    "df['YoY_Revenue_Growth'] = (df['Total revenues'] - df['Total revenues'].shift(1)) / df['Total revenues'].shift(1)\n",
    "df['YoY_Net_Income_Growth'] = (df['Net income (loss)'] - df['Net income (loss)'].shift(1)) / df['Net income (loss)'].shift(1)\n",
    "\n",
    "# Rolling 3-Year Average for Revenue\n",
    "df['Revenue_Rolling_Avg_3Y'] = df['Total revenues'].rolling(window=3).mean()\n",
    "\n",
    "# Lagged Profit Margin (1-year Lag)\n",
    "df['Profit_Margin_Lag_1'] = df['Profit_Margin'].shift(1)\n",
    "\n",
    "# Interaction Feature: Revenue and Profit Margin\n",
    "df['Revenue_Profit_Margin_Interaction'] = df['Total revenues'] * df['Profit_Margin']\n"
   ]
  },
  {
   "cell_type": "code",
   "execution_count": 0,
   "metadata": {
    "application/vnd.databricks.v1+cell": {
     "cellMetadata": {
      "byteLimit": 2048000,
      "rowLimit": 10000
     },
     "inputWidgets": {},
     "nuid": "93c8635c-80d7-42c0-b625-b14c32859b35",
     "showTitle": false,
     "title": ""
    }
   },
   "outputs": [
    {
     "output_type": "stream",
     "name": "stdout",
     "output_type": "stream",
     "text": [
      "Features dropped due to high correlation: ['Operating income (loss)', 'Profit_Margin', 'Operating_Margin', 'Revenue_Profit_Margin_Interaction']\n\n--- Updated Feature-Engineered DataFrame ---\n             Service revenues  Product sales  Total revenues  \\\nUnnamed: 1                0.0            0.0             0.0   \nUnnamed: 3             7026.0         2779.0         10907.0   \nUnnamed: 9              490.0            0.0         10907.0   \nUnnamed: 15               0.0            0.0         10907.0   \nUnnamed: 21            6536.0         4556.0         10965.0   \n\n             Depreciation and amortization expenses  Interest expense  \\\nUnnamed: 1                                      0.0               0.0   \nUnnamed: 3                                   2071.0               0.0   \nUnnamed: 9                                      0.0               0.0   \nUnnamed: 15                                     0.0               0.0   \nUnnamed: 21                                  2009.0               0.0   \n\n             Net income (loss)  YoY_Revenue_Growth  YoY_Net_Income_Growth  \\\nUnnamed: 1                 0.0            0.000000               0.000000   \nUnnamed: 3              3303.0            0.000000               0.000000   \nUnnamed: 9              3303.0            0.000000               0.000000   \nUnnamed: 15             3303.0            0.000000               0.000000   \nUnnamed: 21             2117.0            0.005318              -0.359068   \n\n             Depreciation_Percent_Revenue  Interest_Expense_Percent_Revenue  \\\nUnnamed: 1                       0.000000                               0.0   \nUnnamed: 3                       0.189878                               0.0   \nUnnamed: 9                       0.000000                               0.0   \nUnnamed: 15                      0.000000                               0.0   \nUnnamed: 21                      0.183219                               0.0   \n\n             Revenue_Lag_1  Net_Income_Lag_1  Revenue_Rolling_Avg_3Y  \\\nUnnamed: 1         10907.0            2117.0            10916.666667   \nUnnamed: 3             0.0               0.0            10916.666667   \nUnnamed: 9         10907.0            3303.0             7271.333333   \nUnnamed: 15        10907.0            3303.0            10907.000000   \nUnnamed: 21        10907.0            3303.0            10926.333333   \n\n             Profit_Margin_Lag_1  \nUnnamed: 1              0.193069  \nUnnamed: 3              0.000000  \nUnnamed: 9              0.302833  \nUnnamed: 15             0.302833  \nUnnamed: 21             0.302833  \n"
     ]
    }
   ],
   "source": [
    "# List of feature-engineered columns\n",
    "feature_columns = [\n",
    "    'Revenue_Lag_1', 'Net_Income_Lag_1', 'YoY_Revenue_Growth', \n",
    "    'YoY_Net_Income_Growth', 'Revenue_Rolling_Avg_3Y', \n",
    "    'Profit_Margin_Lag_1'\n",
    "]\n",
    "\n",
    "# Replace infinite values with NaN\n",
    "df.replace([float('inf'), -float('inf')], pd.NA, inplace=True)\n",
    "\n",
    "# Impute missing values for feature-engineered columns\n",
    "for feature in feature_columns:\n",
    "    if df[feature].isna().sum() > 0:\n",
    "        df[feature].fillna(df[feature].median(), inplace=True)  # Using median imputation\n",
    "\n",
    "correlations = df.corr()\n",
    "\n",
    "# Drop features if they are highly correlated with the target to avoid overfitting\n",
    "correlation_threshold = 0.95\n",
    "highly_correlated_features = correlations[correlations['Net income (loss)'].abs() > correlation_threshold].index.tolist()\n",
    "highly_correlated_features.remove('Net income (loss)')  # Remove the target itself from this list\n",
    "\n",
    "df.drop(columns=highly_correlated_features, inplace=True)\n",
    "print(f\"Features dropped due to high correlation: {highly_correlated_features}\")\n",
    "\n",
    "# Print updated DataFrame for validation\n",
    "print(\"\\n--- Updated Feature-Engineered DataFrame ---\")\n",
    "print(df.head())\n"
   ]
  },
  {
   "cell_type": "markdown",
   "metadata": {
    "application/vnd.databricks.v1+cell": {
     "cellMetadata": {
      "byteLimit": 2048000,
      "rowLimit": 10000
     },
     "inputWidgets": {},
     "nuid": "b87edad9-fc3e-4fda-be2b-94a37cff4040",
     "showTitle": false,
     "title": ""
    }
   },
   "source": [
    "# Data Inspection\n",
    "\n",
    "Data Inspection Plan\n",
    "- Inspect Feature Completeness: Check for NaN values and ensure lagged features and rolling averages have correct data where expected.\n",
    "- Check Feature Ranges: Validate that the newly created features (e.g., growth rates, lagged values) are within logical ranges.\n",
    "- Data Types Verification: Verify that all columns are in the appropriate format (e.g., numeric features should be floats or integers).\n",
    "- Basic Summary Statistics: Summarize statistics for the newly engineered features to check if they make sense.\n",
    "- Correlation Check: Check the correlation between newly engineered features and key financial metrics."
   ]
  },
  {
   "cell_type": "code",
   "execution_count": 0,
   "metadata": {
    "application/vnd.databricks.v1+cell": {
     "cellMetadata": {
      "byteLimit": 2048000,
      "rowLimit": 10000
     },
     "inputWidgets": {},
     "nuid": "b2e83761-a8dd-43bc-b70c-3a15a216e5a2",
     "showTitle": true,
     "title": "Data Inspection"
    }
   },
   "outputs": [
    {
     "output_type": "stream",
     "name": "stdout",
     "output_type": "stream",
     "text": [
      "\n--- NaN Value Count in Feature-Engineered Columns ---\nRevenue_Lag_1             0\nNet_Income_Lag_1          0\nYoY_Revenue_Growth        0\nYoY_Net_Income_Growth     0\nRevenue_Rolling_Avg_3Y    0\nProfit_Margin_Lag_1       0\ndtype: int64\n\n--- Range Check for Selected Features ---\nRevenue_Lag_1: Min = 0.0, Max = 10965.0\nNet_Income_Lag_1: Min = 0.0, Max = 3303.0\nYoY_Revenue_Growth: Min = -0.030825353397172822, Max = 0.0053176858897955445\nYoY_Net_Income_Growth: Min = -0.35906751438086587, Max = 0.0\nRevenue_Rolling_Avg_3Y: Min = 7271.333333333333, Max = 10965.0\nProfit_Margin_Lag_1: Min = 0.0, Max = 0.3028330429999083\n\n--- Data Types of Feature-Engineered Columns ---\nRevenue_Lag_1             float64\nNet_Income_Lag_1          float64\nYoY_Revenue_Growth        float64\nYoY_Net_Income_Growth     float64\nRevenue_Rolling_Avg_3Y    float64\nProfit_Margin_Lag_1       float64\ndtype: object\n\n--- Summary Statistics for Feature-Engineered Columns ---\n       Revenue_Lag_1  Net_Income_Lag_1  YoY_Revenue_Growth  \\\ncount       8.000000          8.000000            8.000000   \nmean     9565.375000       2297.125000           -0.003188   \nstd      3865.101734       1098.174906            0.011321   \nmin         0.000000          0.000000           -0.030825   \n25%     10907.000000       2117.000000            0.000000   \n50%     10907.000000       2117.000000            0.000000   \n75%     10965.000000       3303.000000            0.000000   \nmax     10965.000000       3303.000000            0.005318   \n\n       YoY_Net_Income_Growth  Revenue_Rolling_Avg_3Y  Profit_Margin_Lag_1  \ncount               8.000000                8.000000             8.000000  \nmean               -0.077654            10462.625000             0.210097  \nstd                 0.146101             1289.890760             0.100783  \nmin                -0.359068             7271.333333             0.000000  \n25%                -0.065541            10893.333333             0.193069  \n50%                 0.000000            10916.666667             0.193069  \n75%                 0.000000            10931.166667             0.302833  \nmax                 0.000000            10965.000000             0.302833  \n\n--- Correlation with 'Net income (loss)' ---\nNet income (loss)         1.000000\nYoY_Revenue_Growth        0.222930\nYoY_Net_Income_Growth     0.185717\nProfit_Margin_Lag_1       0.020470\nNet_Income_Lag_1          0.016469\nRevenue_Rolling_Avg_3Y   -0.382506\nRevenue_Lag_1            -0.385864\nName: Net income (loss), dtype: float64\n"
     ]
    }
   ],
   "source": [
    "# 1. Inspect Feature Completeness - Checking for NaN values\n",
    "print(\"\\n--- NaN Value Count in Feature-Engineered Columns ---\")\n",
    "feature_columns = [\n",
    "    'Revenue_Lag_1', 'Net_Income_Lag_1', 'YoY_Revenue_Growth', \n",
    "    'YoY_Net_Income_Growth', 'Revenue_Rolling_Avg_3Y', \n",
    "    'Profit_Margin_Lag_1'\n",
    "]\n",
    "nan_counts = df[feature_columns].isna().sum()\n",
    "print(nan_counts)\n",
    "\n",
    "# 2. Check Feature Ranges\n",
    "print(\"\\n--- Range Check for Selected Features ---\")\n",
    "for feature in feature_columns:\n",
    "    min_value = df[feature].min()\n",
    "    max_value = df[feature].max()\n",
    "    print(f\"{feature}: Min = {min_value}, Max = {max_value}\")\n",
    "\n",
    "# 3. Data Types Verification\n",
    "print(\"\\n--- Data Types of Feature-Engineered Columns ---\")\n",
    "data_types = df[feature_columns].dtypes\n",
    "print(data_types)\n",
    "\n",
    "# 4. Basic Summary Statistics\n",
    "print(\"\\n--- Summary Statistics for Feature-Engineered Columns ---\")\n",
    "summary_stats = df[feature_columns].describe()\n",
    "print(summary_stats)\n",
    "\n",
    "# 5. Correlation Check\n",
    "print(\"\\n--- Correlation with 'Net income (loss)' ---\")\n",
    "correlations = df[feature_columns + ['Net income (loss)']].corr()\n",
    "print(correlations['Net income (loss)'].sort_values(ascending=False))\n"
   ]
  },
  {
   "cell_type": "markdown",
   "metadata": {
    "application/vnd.databricks.v1+cell": {
     "cellMetadata": {
      "byteLimit": 2048000,
      "rowLimit": 10000
     },
     "inputWidgets": {},
     "nuid": "983aaa93-16bc-49c7-8fda-bcf3f5d27ed0",
     "showTitle": false,
     "title": ""
    }
   },
   "source": [
    "# Saving the Feature-Engineered DataFrame\n",
    "\n",
    "In this last section, the feature-engineered DataFrame is converted into a Spark DataFrame (spark_df) for efficient storage and persistence in the Databricks environment. The converted Spark DataFrame is then saved as a managed table using the Hive metastore, ensuring the data remains accessible even after the cluster terminates. This approach provides a reliable way to store the processed data, making it available for future analysis or machine learning without having to redo previous data engineering steps.\n",
    "\n",
    "The key steps are:\n",
    "\n",
    "- Convert to Spark DataFrame: Converts the Pandas DataFrame into a Spark DataFrame for distributed storage and processing.\n",
    "- Save as Managed Table: Saves the DataFrame as a managed table (saveAsTable) so it is persisted across sessions and cluster restarts, ensuring data reliability and ease of access."
   ]
  },
  {
   "cell_type": "code",
   "execution_count": 0,
   "metadata": {
    "application/vnd.databricks.v1+cell": {
     "cellMetadata": {
      "byteLimit": 2048000,
      "rowLimit": 10000
     },
     "inputWidgets": {},
     "nuid": "e68638df-854c-4796-a4f4-79a6af89d211",
     "showTitle": true,
     "title": "Saving the Feature-Engineered DataFrame"
    }
   },
   "outputs": [],
   "source": [
    "# Clean column names to remove invalid characters\n",
    "df.columns = [col.strip().replace(' ', '_').replace(';', '').replace('(', '').replace(')', '').replace('{', '').replace('}', '').replace('\\n', '').replace('\\t', '').replace('=', '') for col in df.columns]\n",
    "\n",
    "# Convert to Spark DataFrame\n",
    "spark_df = spark.createDataFrame(df)\n",
    "\n",
    "# Save as a managed table\n",
    "spark_df.write.mode('overwrite').saveAsTable(\"feature_engineered_table\")\n",
    "\n"
   ]
  }
 ],
 "metadata": {
  "application/vnd.databricks.v1+notebook": {
   "dashboards": [],
   "environmentMetadata": null,
   "language": "python",
   "notebookMetadata": {
    "mostRecentlyExecutedCommandWithImplicitDF": {
     "commandId": 4278259145946916,
     "dataframes": [
      "_sqldf"
     ]
    },
    "pythonIndentUnit": 4
   },
   "notebookName": "Williams_FinOps_Optimization_Data_Preperation_&_Feature_Engineering",
   "widgets": {}
  }
 },
 "nbformat": 4,
 "nbformat_minor": 0
}
